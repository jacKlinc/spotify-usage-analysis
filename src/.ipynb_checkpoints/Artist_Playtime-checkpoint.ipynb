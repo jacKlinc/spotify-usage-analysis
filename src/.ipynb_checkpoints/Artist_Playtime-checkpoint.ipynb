{
 "cells": [
  {
   "cell_type": "markdown",
   "metadata": {},
   "source": [
    "# Spotify Weighting System\n",
    "The weighting system used to rank artists is based on data downloaded from Spotify on my usage. It shows how much time I spend listening to a song which I can then use to find how much per artist. \n",
    "\n",
    "The per artist weighting system is based on three equally important factors: \n",
    "- Average listen time (t)\n",
    "- Total listens (L)\n",
    "- Listen recency (R)\n",
    "\n",
    "***Relevance = t X L X R***"
   ]
  },
  {
   "cell_type": "markdown",
   "metadata": {},
   "source": [
    "### Imports and setup"
   ]
  },
  {
   "cell_type": "code",
   "execution_count": 150,
   "metadata": {},
   "outputs": [],
   "source": [
    "import pandas as pd\n",
    "import matplotlib.pyplot as plt\n",
    "import numpy as np\n",
    "from datetime import datetime, date"
   ]
  },
  {
   "cell_type": "code",
   "execution_count": 151,
   "metadata": {},
   "outputs": [
    {
     "data": {
      "text/html": [
       "<div>\n",
       "<style scoped>\n",
       "    .dataframe tbody tr th:only-of-type {\n",
       "        vertical-align: middle;\n",
       "    }\n",
       "\n",
       "    .dataframe tbody tr th {\n",
       "        vertical-align: top;\n",
       "    }\n",
       "\n",
       "    .dataframe thead th {\n",
       "        text-align: right;\n",
       "    }\n",
       "</style>\n",
       "<table border=\"1\" class=\"dataframe\">\n",
       "  <thead>\n",
       "    <tr style=\"text-align: right;\">\n",
       "      <th></th>\n",
       "      <th>artistName</th>\n",
       "      <th>trackName</th>\n",
       "      <th>msPlayed</th>\n",
       "    </tr>\n",
       "    <tr>\n",
       "      <th>endTime</th>\n",
       "      <th></th>\n",
       "      <th></th>\n",
       "      <th></th>\n",
       "    </tr>\n",
       "  </thead>\n",
       "  <tbody>\n",
       "    <tr>\n",
       "      <th>2019-11-26 18:56:00</th>\n",
       "      <td>New York Dolls</td>\n",
       "      <td>Personality Crisis</td>\n",
       "      <td>0</td>\n",
       "    </tr>\n",
       "    <tr>\n",
       "      <th>2019-11-26 18:56:00</th>\n",
       "      <td>Steve Miller Band</td>\n",
       "      <td>Fly Like An Eagle</td>\n",
       "      <td>0</td>\n",
       "    </tr>\n",
       "    <tr>\n",
       "      <th>2019-11-26 18:56:00</th>\n",
       "      <td>Canned Heat</td>\n",
       "      <td>Going Up The Country</td>\n",
       "      <td>3300</td>\n",
       "    </tr>\n",
       "    <tr>\n",
       "      <th>2019-11-26 18:56:00</th>\n",
       "      <td>Black Sabbath</td>\n",
       "      <td>Paranoid</td>\n",
       "      <td>1382</td>\n",
       "    </tr>\n",
       "    <tr>\n",
       "      <th>2019-11-26 18:56:00</th>\n",
       "      <td>Boston</td>\n",
       "      <td>More Than a Feeling</td>\n",
       "      <td>120988</td>\n",
       "    </tr>\n",
       "  </tbody>\n",
       "</table>\n",
       "</div>"
      ],
      "text/plain": [
       "                            artistName             trackName  msPlayed\n",
       "endTime                                                               \n",
       "2019-11-26 18:56:00     New York Dolls    Personality Crisis         0\n",
       "2019-11-26 18:56:00  Steve Miller Band     Fly Like An Eagle         0\n",
       "2019-11-26 18:56:00        Canned Heat  Going Up The Country      3300\n",
       "2019-11-26 18:56:00      Black Sabbath              Paranoid      1382\n",
       "2019-11-26 18:56:00             Boston   More Than a Feeling    120988"
      ]
     },
     "execution_count": 151,
     "metadata": {},
     "output_type": "execute_result"
    }
   ],
   "source": [
    "stream_hist = pd.read_json('../data/Spotify_UsageData_29May2020/StreamingHistory0.json')\n",
    "\n",
    "# Set index as date\n",
    "stream_hist = stream_hist.set_index('endTime')\n",
    "stream_hist = stream_hist.sort_values(by='endTime', ascending=False)\n",
    "stream_hist.index = pd.to_datetime(stream_hist.index)\n",
    "# stream_hist = stream_hist.msPlayed.map(lambda x: x / 10000)\n",
    "stream_hist.head(5)"
   ]
  },
  {
   "cell_type": "markdown",
   "metadata": {},
   "source": [
    "## 1. Average Listen Time\n",
    "This section finds the average listen per artist and compares it to the average."
   ]
  },
  {
   "cell_type": "code",
   "execution_count": 152,
   "metadata": {},
   "outputs": [
    {
     "data": {
      "text/plain": [
       "44173.3851"
      ]
     },
     "execution_count": 152,
     "metadata": {},
     "output_type": "execute_result"
    }
   ],
   "source": [
    "mean_played = stream_hist.msPlayed.mean()\n",
    "mean_played"
   ]
  },
  {
   "cell_type": "markdown",
   "metadata": {},
   "source": [
    "Group the DataFram by the artist's name and finds the average listen for that artist."
   ]
  },
  {
   "cell_type": "code",
   "execution_count": 153,
   "metadata": {},
   "outputs": [
    {
     "data": {
      "text/plain": [
       "artistName\n",
       "The Tim Ferriss Show    877573.0\n",
       "Harvey McKay            432853.0\n",
       "Crackazat               396623.0\n",
       "Cameo                   393573.0\n",
       "Tiger Stripes           384728.0\n",
       "                          ...   \n",
       "The Undisputed Truth         0.0\n",
       "The Vines                    0.0\n",
       "OC                           0.0\n",
       "O.T. Genasis                 0.0\n",
       "Lil Xan                      0.0\n",
       "Name: msPlayed, Length: 1137, dtype: float64"
      ]
     },
     "execution_count": 153,
     "metadata": {},
     "output_type": "execute_result"
    }
   ],
   "source": [
    "# Listen time ranges per artist\n",
    "listen_ranges = stream_hist.groupby('artistName').msPlayed.agg('mean').sort_values(ascending=False)\n",
    "listen_ranges"
   ]
  },
  {
   "cell_type": "markdown",
   "metadata": {},
   "source": [
    "### Artist vs Average"
   ]
  },
  {
   "cell_type": "code",
   "execution_count": 154,
   "metadata": {},
   "outputs": [
    {
     "data": {
      "text/plain": [
       "artistName\n",
       "The Tim Ferriss Show    833399.6149\n",
       "Harvey McKay            388679.6149\n",
       "Crackazat               352449.6149\n",
       "Cameo                   349399.6149\n",
       "Tiger Stripes           340554.6149\n",
       "                           ...     \n",
       "The Undisputed Truth    -44173.3851\n",
       "The Vines               -44173.3851\n",
       "OC                      -44173.3851\n",
       "O.T. Genasis            -44173.3851\n",
       "Lil Xan                 -44173.3851\n",
       "Name: msPlayed, Length: 1137, dtype: float64"
      ]
     },
     "execution_count": 154,
     "metadata": {},
     "output_type": "execute_result"
    }
   ],
   "source": [
    "# Deducts total mean listen time from each artist's\n",
    "artist_relevance = listen_ranges.map(lambda x: x - mean_played)\n",
    "artist_relevance"
   ]
  },
  {
   "cell_type": "markdown",
   "metadata": {},
   "source": [
    "#### Plot \n",
    "The top 20 artists are plotted below."
   ]
  },
  {
   "cell_type": "code",
   "execution_count": 155,
   "metadata": {},
   "outputs": [
    {
     "data": {
      "text/plain": [
       "<matplotlib.axes._subplots.AxesSubplot at 0x7fc5ea369f10>"
      ]
     },
     "execution_count": 155,
     "metadata": {},
     "output_type": "execute_result"
    },
    {
     "data": {
      "image/png": "[encoded data removed]",
      "text/plain": [
       "<Figure size 1080x504 with 1 Axes>"
      ]
     },
     "metadata": {
      "needs_background": "light"
     },
     "output_type": "display_data"
    }
   ],
   "source": [
    "fig, ax = plt.subplots(figsize=(15,7))\n",
    "artist_relevance.head(20).plot.barh(ax=ax)"
   ]
  },
  {
   "cell_type": "markdown",
   "metadata": {},
   "source": [
    "### Remove podcasts\n",
    "The most listened per artist are mostly podcasts and I'd like to exclude these from the analysis. A quick way to do this would be to limit only songs with a listen time less than 6 minutes. **This is obviously not the optimal way to decide whether it's a podcast; comparing the song name to Spotify's API would be better.**"
   ]
  },
  {
   "cell_type": "markdown",
   "metadata": {},
   "source": [
    "#### Drop rows based on time\n",
    "Any tracks more than 6 minutes (360000ms) are dropped."
   ]
  },
  {
   "cell_type": "code",
   "execution_count": 156,
   "metadata": {},
   "outputs": [
    {
     "data": {
      "text/html": [
       "<div>\n",
       "<style scoped>\n",
       "    .dataframe tbody tr th:only-of-type {\n",
       "        vertical-align: middle;\n",
       "    }\n",
       "\n",
       "    .dataframe tbody tr th {\n",
       "        vertical-align: top;\n",
       "    }\n",
       "\n",
       "    .dataframe thead th {\n",
       "        text-align: right;\n",
       "    }\n",
       "</style>\n",
       "<table border=\"1\" class=\"dataframe\">\n",
       "  <thead>\n",
       "    <tr style=\"text-align: right;\">\n",
       "      <th></th>\n",
       "      <th>artistName</th>\n",
       "      <th>trackName</th>\n",
       "      <th>msPlayed</th>\n",
       "    </tr>\n",
       "    <tr>\n",
       "      <th>endTime</th>\n",
       "      <th></th>\n",
       "      <th></th>\n",
       "      <th></th>\n",
       "    </tr>\n",
       "  </thead>\n",
       "  <tbody>\n",
       "    <tr>\n",
       "      <th>2019-11-26 18:56:00</th>\n",
       "      <td>New York Dolls</td>\n",
       "      <td>Personality Crisis</td>\n",
       "      <td>0</td>\n",
       "    </tr>\n",
       "    <tr>\n",
       "      <th>2019-11-26 18:56:00</th>\n",
       "      <td>Steve Miller Band</td>\n",
       "      <td>Fly Like An Eagle</td>\n",
       "      <td>0</td>\n",
       "    </tr>\n",
       "    <tr>\n",
       "      <th>2019-11-26 18:56:00</th>\n",
       "      <td>Canned Heat</td>\n",
       "      <td>Going Up The Country</td>\n",
       "      <td>3300</td>\n",
       "    </tr>\n",
       "    <tr>\n",
       "      <th>2019-11-26 18:56:00</th>\n",
       "      <td>Black Sabbath</td>\n",
       "      <td>Paranoid</td>\n",
       "      <td>1382</td>\n",
       "    </tr>\n",
       "    <tr>\n",
       "      <th>2019-11-26 18:56:00</th>\n",
       "      <td>Boston</td>\n",
       "      <td>More Than a Feeling</td>\n",
       "      <td>120988</td>\n",
       "    </tr>\n",
       "  </tbody>\n",
       "</table>\n",
       "</div>"
      ],
      "text/plain": [
       "                            artistName             trackName  msPlayed\n",
       "endTime                                                               \n",
       "2019-11-26 18:56:00     New York Dolls    Personality Crisis         0\n",
       "2019-11-26 18:56:00  Steve Miller Band     Fly Like An Eagle         0\n",
       "2019-11-26 18:56:00        Canned Heat  Going Up The Country      3300\n",
       "2019-11-26 18:56:00      Black Sabbath              Paranoid      1382\n",
       "2019-11-26 18:56:00             Boston   More Than a Feeling    120988"
      ]
     },
     "execution_count": 156,
     "metadata": {},
     "output_type": "execute_result"
    }
   ],
   "source": [
    "stream_hist = stream_hist.drop(stream_hist[stream_hist.msPlayed > 360000].index)\n",
    "stream_hist.head(5)"
   ]
  },
  {
   "cell_type": "code",
   "execution_count": 157,
   "metadata": {},
   "outputs": [
    {
     "data": {
      "text/plain": [
       "42710.755972180224"
      ]
     },
     "execution_count": 157,
     "metadata": {},
     "output_type": "execute_result"
    }
   ],
   "source": [
    "mean_played = stream_hist.msPlayed.mean()\n",
    "mean_played"
   ]
  },
  {
   "cell_type": "code",
   "execution_count": 158,
   "metadata": {},
   "outputs": [],
   "source": [
    "# Listen time ranges per artist\n",
    "listen_ranges = stream_hist.groupby('artistName').msPlayed.agg('mean').sort_values(ascending=False)\n",
    "artist_relevance = listen_ranges.map(lambda x: x - mean_played)"
   ]
  },
  {
   "cell_type": "markdown",
   "metadata": {},
   "source": [
    "#### Plot with adjustments\n",
    "I haven't heard of many of the artists in the graph. I think counting total listens might solve this."
   ]
  },
  {
   "cell_type": "code",
   "execution_count": 159,
   "metadata": {},
   "outputs": [
    {
     "data": {
      "text/plain": [
       "<matplotlib.axes._subplots.AxesSubplot at 0x7fc5ea555c40>"
      ]
     },
     "execution_count": 159,
     "metadata": {},
     "output_type": "execute_result"
    },
    {
     "data": {
      "image/png": "[encoded data removed]",
      "text/plain": [
       "<Figure size 1080x504 with 1 Axes>"
      ]
     },
     "metadata": {
      "needs_background": "light"
     },
     "output_type": "display_data"
    }
   ],
   "source": [
    "fig, ax = plt.subplots(figsize=(15,7))\n",
    "artist_relevance.head(20).plot.barh(ax=ax)"
   ]
  },
  {
   "cell_type": "markdown",
   "metadata": {},
   "source": [
    "## 2. Total Listens\n",
    "This section counts the total number of listens per artist"
   ]
  },
  {
   "cell_type": "code",
   "execution_count": 160,
   "metadata": {},
   "outputs": [
    {
     "data": {
      "text/plain": [
       "artistName\n",
       "Drake                             254\n",
       "The Rolling Stones                237\n",
       "The Beatles                       222\n",
       "Tame Impala                       190\n",
       "The Weeknd                        172\n",
       "                                 ... \n",
       "Stephan Bodzin                      1\n",
       "Happy Mondays                       1\n",
       "Harold Melvin & The Blue Notes      1\n",
       "Harry Garfield                      1\n",
       "Future Islands                      1\n",
       "Name: artistName, Length: 1128, dtype: int64"
      ]
     },
     "execution_count": 160,
     "metadata": {},
     "output_type": "execute_result"
    }
   ],
   "source": [
    "# How many songs per artists\n",
    "songs_per_artist = stream_hist.groupby('artistName').artistName.count().sort_values(ascending=False)\n",
    "songs_per_artist"
   ]
  },
  {
   "cell_type": "markdown",
   "metadata": {},
   "source": [
    "Drake wins"
   ]
  },
  {
   "cell_type": "markdown",
   "metadata": {},
   "source": [
    "## 3. Listen Recency\n",
    "This ranks the artist based on how much of their listens have been recent. This will get the most recent date and award points based on how few days have passed since the most recent date."
   ]
  },
  {
   "cell_type": "markdown",
   "metadata": {},
   "source": [
    "### Most recent date"
   ]
  },
  {
   "cell_type": "code",
   "execution_count": 165,
   "metadata": {},
   "outputs": [
    {
     "data": {
      "text/plain": [
       "Timestamp('2019-11-26 18:56:00')"
      ]
     },
     "execution_count": 165,
     "metadata": {},
     "output_type": "execute_result"
    }
   ],
   "source": [
    "# Sort the DataFrame in descending order and find the date of the 0th entry\n",
    "recent_date = stream_hist.iloc[0].name\n",
    "recent_date"
   ]
  },
  {
   "cell_type": "markdown",
   "metadata": {},
   "source": [
    "### Days passed since the first entry"
   ]
  },
  {
   "cell_type": "code",
   "execution_count": 169,
   "metadata": {},
   "outputs": [],
   "source": [
    "# Take the \n",
    "# stream_hist['daysPassed'] = stream_hist['endTime'] - recent_date\n",
    "# stream_hist['daysPassed']= stream_hist['daysPassed']/np.timedelta64(1,'D')\n",
    "stream_hist['daysPassed'] = pd.Series()\n",
    "# stream_hist.daysPassed = stream_hist.daysPassed.map(lambda x: x - recent_date, stream_hist.index)\n",
    "# stream_hist.index[0] - recent_date\n",
    "# recent_date\n",
    "# datetime.combine(date.today(), recent_date) - datetime.combine(date.today(), recent_date)"
   ]
  }
 ],
 "metadata": {
  "kernelspec": {
   "display_name": "Python 3.7.5 64-bit",
   "language": "python",
   "name": "python37564bite837ac3d978644508280cde9286add7f"
  },
  "language_info": {
   "codemirror_mode": {
    "name": "ipython",
    "version": 3
   },
   "file_extension": ".py",
   "mimetype": "text/x-python",
   "name": "python",
   "nbconvert_exporter": "python",
   "pygments_lexer": "ipython3",
   "version": "3.8.2"
  }
 },
 "nbformat": 4,
 "nbformat_minor": 4
}
