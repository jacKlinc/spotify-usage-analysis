{
 "cells": [
  {
   "cell_type": "markdown",
   "metadata": {},
   "source": [
    "# SpotiPy Connect & Web Scraping\n",
    "I want to find out who I listen to and what their basic background is.\n",
    "[Medium Article](https://medium.com/@RareLoot/extracting-spotify-data-on-your-favourite-artist-via-python-d58bc92a4330)\n",
    "[Examples](https://github.com/plamere/spotipy/tree/master/examples)"
   ]
  },
  {
   "cell_type": "code",
   "execution_count": 1,
   "metadata": {},
   "outputs": [],
   "source": [
    "import pandas as pd\n",
    "import spotipy\n",
    "from spotipy.oauth2 import SpotifyClientCredentials\n",
    "import spotipy.util as util\n",
    "import matplotlib.pyplot as plt\n",
    "import numpy as np\n",
    "import os\n",
    "from client_secret import *"
   ]
  },
  {
   "cell_type": "markdown",
   "metadata": {},
   "source": [
    "## Get my favourite artists"
   ]
  },
  {
   "cell_type": "code",
   "execution_count": 17,
   "metadata": {},
   "outputs": [],
   "source": [
    "scope = \"user-top-read\"\n",
    "redirect_uri = \"http://localhost:8080\"\n",
    "\n",
    "# Load in secret keys\n",
    "client_credentials_manager = SpotifyClientCredentials(client_id=client_id, client_secret=client_secret)\n",
    "sp = spotipy.Spotify(client_credentials_manager=client_credentials_manager)\n",
    "\n",
    "# Create security token\n",
    "token = util.prompt_for_user_token(username, scope, client_id=client_id, client_secret=client_secret, redirect_uri=redirect_uri)\n",
    "\n",
    "# Gets favourite artists \n",
    "if token:\n",
    "    sp = spotipy.Spotify(auth=token)\n",
    "    sp.trace = False\n",
    "    ranges = ['short_term', 'medium_term', 'long_term']\n",
    "    for r in ranges:\n",
    "        # Limited to 50 artists over all time ranges\n",
    "        results = sp.current_user_top_artists(time_range=r, limit=50)\n",
    "\n",
    "# Add to DataFrame\n",
    "name=[]\n",
    "popularity=[]\n",
    "genres=[]\n",
    "followers=[]\n",
    "\n",
    "for artist in results['items']:\n",
    "    if len(artist['genres']) > 0:\n",
    "        # Append each to list\n",
    "        name.append(artist['name'])\n",
    "        popularity.append(artist['popularity'])\n",
    "        followers.append(artist['followers']['total'])\n",
    "        \n",
    "        # Adds genres in CSV\n",
    "        csv_genre=''\n",
    "        for genre in artist['genres']:\n",
    "            csv_genre+=genre+','\n",
    "        genres.append(csv_genre)\n",
    "\n",
    "# Add list to DataFrame\n",
    "artists = pd.DataFrame()\n",
    "artists['name'] = name\n",
    "artists['popularity'] = popularity\n",
    "artists['followers'] = followers\n",
    "artists['genre'] = genres\n",
    "\n",
    "artists = artists.sort_values(by='popularity', ascending=False)\n",
    "# artists.head(5)"
   ]
  },
  {
   "cell_type": "code",
   "execution_count": 58,
   "metadata": {},
   "outputs": [
    {
     "data": {
      "text/html": [
       "<div>\n",
       "<style scoped>\n",
       "    .dataframe tbody tr th:only-of-type {\n",
       "        vertical-align: middle;\n",
       "    }\n",
       "\n",
       "    .dataframe tbody tr th {\n",
       "        vertical-align: top;\n",
       "    }\n",
       "\n",
       "    .dataframe thead th {\n",
       "        text-align: right;\n",
       "    }\n",
       "</style>\n",
       "<table border=\"1\" class=\"dataframe\">\n",
       "  <thead>\n",
       "    <tr style=\"text-align: right;\">\n",
       "      <th></th>\n",
       "      <th>followers</th>\n",
       "      <th>genres</th>\n",
       "      <th>name</th>\n",
       "      <th>popularity</th>\n",
       "      <th>type</th>\n",
       "    </tr>\n",
       "  </thead>\n",
       "  <tbody>\n",
       "    <tr>\n",
       "      <th>5</th>\n",
       "      <td>{'href': None, 'total': 47171343}</td>\n",
       "      <td>[canadian hip hop, canadian pop, hip hop, pop ...</td>\n",
       "      <td>Drake</td>\n",
       "      <td>99</td>\n",
       "      <td>artist</td>\n",
       "    </tr>\n",
       "    <tr>\n",
       "      <th>36</th>\n",
       "      <td>{'href': None, 'total': 10287139}</td>\n",
       "      <td>[rap]</td>\n",
       "      <td>Travis Scott</td>\n",
       "      <td>98</td>\n",
       "      <td>artist</td>\n",
       "    </tr>\n",
       "    <tr>\n",
       "      <th>1</th>\n",
       "      <td>{'href': None, 'total': 21184713}</td>\n",
       "      <td>[canadian contemporary r&amp;b, canadian pop, pop]</td>\n",
       "      <td>The Weeknd</td>\n",
       "      <td>97</td>\n",
       "      <td>artist</td>\n",
       "    </tr>\n",
       "    <tr>\n",
       "      <th>3</th>\n",
       "      <td>{'href': None, 'total': 10051541}</td>\n",
       "      <td>[chicago rap, melodic rap]</td>\n",
       "      <td>Juice WRLD</td>\n",
       "      <td>96</td>\n",
       "      <td>artist</td>\n",
       "    </tr>\n",
       "    <tr>\n",
       "      <th>14</th>\n",
       "      <td>{'href': None, 'total': 27743075}</td>\n",
       "      <td>[electropop, pop]</td>\n",
       "      <td>Billie Eilish</td>\n",
       "      <td>94</td>\n",
       "      <td>artist</td>\n",
       "    </tr>\n",
       "  </tbody>\n",
       "</table>\n",
       "</div>"
      ],
      "text/plain": [
       "                            followers  \\\n",
       "5   {'href': None, 'total': 47171343}   \n",
       "36  {'href': None, 'total': 10287139}   \n",
       "1   {'href': None, 'total': 21184713}   \n",
       "3   {'href': None, 'total': 10051541}   \n",
       "14  {'href': None, 'total': 27743075}   \n",
       "\n",
       "                                               genres           name  \\\n",
       "5   [canadian hip hop, canadian pop, hip hop, pop ...          Drake   \n",
       "36                                              [rap]   Travis Scott   \n",
       "1      [canadian contemporary r&b, canadian pop, pop]     The Weeknd   \n",
       "3                          [chicago rap, melodic rap]     Juice WRLD   \n",
       "14                                  [electropop, pop]  Billie Eilish   \n",
       "\n",
       "    popularity    type  \n",
       "5           99  artist  \n",
       "36          98  artist  \n",
       "1           97  artist  \n",
       "3           96  artist  \n",
       "14          94  artist  "
      ]
     },
     "execution_count": 58,
     "metadata": {},
     "output_type": "execute_result"
    }
   ],
   "source": [
    "def make_df(response):\n",
    "    \"\"\"Pass results from Spotfy API call and return cleaned DataFrame\"\"\"\n",
    "    items = pd.DataFrame(response['items'])\n",
    "    # Drop unnecessary columns\n",
    "    items = items.drop(['external_urls', 'href', 'id', 'images', 'uri'], axis=1)\n",
    "    # Followes column needs cleaning\n",
    "#     items.followers = items.followers\n",
    "\n",
    "    items = items.sort_values(by='popularity', ascending=False)\n",
    "    return items\n",
    "    \n",
    "artists = make_df(results)\n",
    "artists.head()"
   ]
  },
  {
   "cell_type": "code",
   "execution_count": 64,
   "metadata": {},
   "outputs": [
    {
     "data": {
      "text/plain": [
       "48154"
      ]
     },
     "execution_count": 64,
     "metadata": {},
     "output_type": "execute_result"
    }
   ],
   "source": [
    "artists.followers[0]['total']"
   ]
  },
  {
   "cell_type": "code",
   "execution_count": 65,
   "metadata": {},
   "outputs": [
    {
     "ename": "TypeError",
     "evalue": "<lambda>() missing 1 required positional argument: 'x'",
     "output_type": "error",
     "traceback": [
      "\u001b[0;31m---------------------------------------------------------------------------\u001b[0m",
      "\u001b[0;31mTypeError\u001b[0m                                 Traceback (most recent call last)",
      "\u001b[0;32m<ipython-input-65-3e12af926fd0>\u001b[0m in \u001b[0;36m<module>\u001b[0;34m\u001b[0m\n\u001b[0;32m----> 1\u001b[0;31m \u001b[0martists\u001b[0m\u001b[0;34m.\u001b[0m\u001b[0mfollowers\u001b[0m\u001b[0;34m.\u001b[0m\u001b[0mmap\u001b[0m\u001b[0;34m(\u001b[0m\u001b[0;32mlambda\u001b[0m \u001b[0mfollower\u001b[0m\u001b[0;34m,\u001b[0m\u001b[0mx\u001b[0m\u001b[0;34m:\u001b[0m \u001b[0mfollower\u001b[0m\u001b[0;34m[\u001b[0m\u001b[0mx\u001b[0m\u001b[0;34m]\u001b[0m\u001b[0;34m[\u001b[0m\u001b[0;34m'total'\u001b[0m\u001b[0;34m]\u001b[0m\u001b[0;34m)\u001b[0m\u001b[0;34m\u001b[0m\u001b[0;34m\u001b[0m\u001b[0m\n\u001b[0m",
      "\u001b[0;32m~/.local/lib/python3.8/site-packages/pandas/core/series.py\u001b[0m in \u001b[0;36mmap\u001b[0;34m(self, arg, na_action)\u001b[0m\n\u001b[1;32m   3826\u001b[0m         \u001b[0mdtype\u001b[0m\u001b[0;34m:\u001b[0m \u001b[0mobject\u001b[0m\u001b[0;34m\u001b[0m\u001b[0;34m\u001b[0m\u001b[0m\n\u001b[1;32m   3827\u001b[0m         \"\"\"\n\u001b[0;32m-> 3828\u001b[0;31m         \u001b[0mnew_values\u001b[0m \u001b[0;34m=\u001b[0m \u001b[0msuper\u001b[0m\u001b[0;34m(\u001b[0m\u001b[0;34m)\u001b[0m\u001b[0;34m.\u001b[0m\u001b[0m_map_values\u001b[0m\u001b[0;34m(\u001b[0m\u001b[0marg\u001b[0m\u001b[0;34m,\u001b[0m \u001b[0mna_action\u001b[0m\u001b[0;34m=\u001b[0m\u001b[0mna_action\u001b[0m\u001b[0;34m)\u001b[0m\u001b[0;34m\u001b[0m\u001b[0;34m\u001b[0m\u001b[0m\n\u001b[0m\u001b[1;32m   3829\u001b[0m         \u001b[0;32mreturn\u001b[0m \u001b[0mself\u001b[0m\u001b[0;34m.\u001b[0m\u001b[0m_constructor\u001b[0m\u001b[0;34m(\u001b[0m\u001b[0mnew_values\u001b[0m\u001b[0;34m,\u001b[0m \u001b[0mindex\u001b[0m\u001b[0;34m=\u001b[0m\u001b[0mself\u001b[0m\u001b[0;34m.\u001b[0m\u001b[0mindex\u001b[0m\u001b[0;34m)\u001b[0m\u001b[0;34m.\u001b[0m\u001b[0m__finalize__\u001b[0m\u001b[0;34m(\u001b[0m\u001b[0mself\u001b[0m\u001b[0;34m)\u001b[0m\u001b[0;34m\u001b[0m\u001b[0;34m\u001b[0m\u001b[0m\n\u001b[1;32m   3830\u001b[0m \u001b[0;34m\u001b[0m\u001b[0m\n",
      "\u001b[0;32m~/.local/lib/python3.8/site-packages/pandas/core/base.py\u001b[0m in \u001b[0;36m_map_values\u001b[0;34m(self, mapper, na_action)\u001b[0m\n\u001b[1;32m   1298\u001b[0m \u001b[0;34m\u001b[0m\u001b[0m\n\u001b[1;32m   1299\u001b[0m         \u001b[0;31m# mapper is a function\u001b[0m\u001b[0;34m\u001b[0m\u001b[0;34m\u001b[0m\u001b[0;34m\u001b[0m\u001b[0m\n\u001b[0;32m-> 1300\u001b[0;31m         \u001b[0mnew_values\u001b[0m \u001b[0;34m=\u001b[0m \u001b[0mmap_f\u001b[0m\u001b[0;34m(\u001b[0m\u001b[0mvalues\u001b[0m\u001b[0;34m,\u001b[0m \u001b[0mmapper\u001b[0m\u001b[0;34m)\u001b[0m\u001b[0;34m\u001b[0m\u001b[0;34m\u001b[0m\u001b[0m\n\u001b[0m\u001b[1;32m   1301\u001b[0m \u001b[0;34m\u001b[0m\u001b[0m\n\u001b[1;32m   1302\u001b[0m         \u001b[0;32mreturn\u001b[0m \u001b[0mnew_values\u001b[0m\u001b[0;34m\u001b[0m\u001b[0;34m\u001b[0m\u001b[0m\n",
      "\u001b[0;32mpandas/_libs/lib.pyx\u001b[0m in \u001b[0;36mpandas._libs.lib.map_infer\u001b[0;34m()\u001b[0m\n",
      "\u001b[0;31mTypeError\u001b[0m: <lambda>() missing 1 required positional argument: 'x'"
     ]
    }
   ],
   "source": [
    "artists.followers.map(lambda follower,x: follower[x]['total'])"
   ]
  },
  {
   "cell_type": "markdown",
   "metadata": {},
   "source": [
    "### Plot Favourites"
   ]
  },
  {
   "cell_type": "code",
   "execution_count": 13,
   "metadata": {},
   "outputs": [
    {
     "data": {
      "text/plain": [
       "<BarContainer object of 48 artists>"
      ]
     },
     "execution_count": 13,
     "metadata": {},
     "output_type": "execute_result"
    },
    {
     "data": {
      "image/png": "[encoded data removed]",
      "text/plain": [
       "<Figure size 1080x720 with 1 Axes>"
      ]
     },
     "metadata": {
      "needs_background": "light"
     },
     "output_type": "display_data"
    }
   ],
   "source": [
    "fig, ax = plt.subplots(figsize=(15,10))\n",
    "ax.barh(artists.name, artists.popularity)"
   ]
  },
  {
   "cell_type": "markdown",
   "metadata": {},
   "source": [
    "# Scrape Artist Ethnicity\n",
    "https://ethnicelebs.com/"
   ]
  },
  {
   "cell_type": "code",
   "execution_count": 4,
   "metadata": {},
   "outputs": [],
   "source": [
    "# from bs4 import BeautifulSoup as bs4\n",
    "# import requests"
   ]
  },
  {
   "cell_type": "markdown",
   "metadata": {},
   "source": [
    "## Scrape all paragraphs on page"
   ]
  },
  {
   "cell_type": "code",
   "execution_count": 5,
   "metadata": {},
   "outputs": [],
   "source": [
    "# def get_paragraph(artist_name):\n",
    "#     headers = {'User-Agent': 'Mozilla/5.0 (Windows NT 6.3; Win64; x64) AppleWebKit/537.36 (KHTML, like Gecko) Chrome/54.0.2840.71 Safari/537.36'}\n",
    "#     base_url = \"https://ethnicelebs.com/\"\n",
    "    \n",
    "#     # Parsed artists name\n",
    "#     parse_name = artist_name.replace(\" \", \"-\")\n",
    "#     req = requests.get(base_url+parse_name, headers=headers)\n",
    "#     soup = bs4(req.content, \"html.parser\")\n",
    "\n",
    "#     # Find all <p> elements\n",
    "#     para = str(soup.find_all('p'))\n",
    "\n",
    "#     # Find range of string\n",
    "#     string_start = para.find(\"Ethnicity: \") + len(\"Ethnicity: \")\n",
    "#     string_end = para.find(\"</strong\")\n",
    "#     race = para[string_start:string_end]\n",
    "    \n",
    "#     if len(race) < 100:\n",
    "# #         return 'Artist: '+artist_name+'\\nRace: '+ race\n",
    "#         return race\n"
   ]
  },
  {
   "cell_type": "markdown",
   "metadata": {},
   "source": [
    "&nbsp;\n",
    "### Add races for each artist in df\n",
    "Using BeautifulSoup is really slow."
   ]
  },
  {
   "cell_type": "code",
   "execution_count": 6,
   "metadata": {},
   "outputs": [],
   "source": [
    "# # Iterate over names and scrape\n",
    "# races = []\n",
    "# for artist in artists.name:\n",
    "#     races.append(get_paragraph(artist))"
   ]
  },
  {
   "cell_type": "code",
   "execution_count": 7,
   "metadata": {},
   "outputs": [],
   "source": [
    "# # Convert to Pandas Series and add to df\n",
    "# artists_races = pd.Series( v for v in races )    \n",
    "# artists['race'] = artists_races\n",
    "# artists.head(5)"
   ]
  },
  {
   "cell_type": "markdown",
   "metadata": {},
   "source": [
    "#### Plot specific races\n",
    "This plot has many specific races which gives a very messy graph. Grouping the ethnicities and removing the None values would be an improvement"
   ]
  },
  {
   "cell_type": "code",
   "execution_count": 8,
   "metadata": {},
   "outputs": [],
   "source": [
    "# fig, ax = plt.subplots(figsize=(22,7))\n",
    "# artists.plot.barh(x ='race', y='popularity', ax=ax)"
   ]
  },
  {
   "cell_type": "markdown",
   "metadata": {},
   "source": [
    "&nbsp;\n",
    "### Group ethnicities\n",
    "- The artists not found from scraping are 'Unknown\n",
    "- Some *assumptions* for the other races"
   ]
  },
  {
   "cell_type": "code",
   "execution_count": 9,
   "metadata": {},
   "outputs": [],
   "source": [
    "# artists.race.loc[ artists.race.isnull() == True ] = 'Unknown'\n",
    "# artists.race.loc[ artists.race.str.contains('English|Irish|Jewish') == True ] = 'White'\n",
    "# artists.race.loc[ artists.race.str.contains('African|Black|Ethiopian') == True ] = 'Black'"
   ]
  },
  {
   "cell_type": "markdown",
   "metadata": {},
   "source": [
    "#### Plot grouped races\n",
    "- count() prevents popularity playing a role in the numbers\n",
    "- unstack() breaks the groupby into further groups (not sure)"
   ]
  },
  {
   "cell_type": "code",
   "execution_count": 10,
   "metadata": {},
   "outputs": [],
   "source": [
    "# fig, ax = plt.subplots(figsize=(15,7))\n",
    "\n",
    "# # Group and plot\n",
    "# artists.groupby('race').count().unstack().popularity.plot.bar(ax=ax)"
   ]
  },
  {
   "cell_type": "markdown",
   "metadata": {},
   "source": [
    "&nbsp;\n",
    "# ScraPy Efficient Scraping\n",
    "BeautifulSoup was useful for starting off with scraping but it is pretty slow. ScraPy requires a little more setup but supports asynchrony making it a lot faster."
   ]
  },
  {
   "cell_type": "markdown",
   "metadata": {},
   "source": [
    "### Defining the Spider\n",
    "A spider in ScraPy is a class written in Python to define the way data will be searched and parsed on the website."
   ]
  },
  {
   "cell_type": "code",
   "execution_count": 3,
   "metadata": {},
   "outputs": [],
   "source": [
    "import scrapy\n",
    "from scrapy.crawler import CrawlerProcess\n",
    "\n",
    "class EthnicCelebSpider(scrapy.Spider):\n",
    "    \"\"\"Scrapes ethnic celebs website using XPath selector\"\"\"\n",
    "    name = \"ethnic_celebs\"\n",
    "\n",
    "#     def __init__(self, artist='', **kwargs):\n",
    "    def __init__(self, artists=[], **kwargs):\n",
    "        \"\"\"Takes artist as an argument when called\"\"\"\n",
    "        for artist in artists:\n",
    "        # Replaces spaces with \"-\" for website\n",
    "            artist = artist.replace(\" \", \"-\")\n",
    "            print(artist)\n",
    "            self.start_urls.append([f'https://ethnicelebs.com/{artist}'])\n",
    "        \n",
    "    def parse(self, response):\n",
    "        \"\"\"Get artist race\"\"\"    \n",
    "        if response.status != 404:\n",
    "            next_page = response.xpath('/html/body/div/div/div/div/div/section/div[2]/article/div/div[2]/div[1]/p[4]/strong/text()').get()\n",
    "            # Find word and exclude\n",
    "            string_start = next_page.find(\"Ethnicity: \") + len(\"Ethnicity: \")\n",
    "            race = next_page[string_start:len(next_page)]\n",
    "        else:\n",
    "            race = 'Unknown'\n",
    "        \n",
    "        print('\\n'+race+'\\n')\n",
    "        return race"
   ]
  },
  {
   "cell_type": "markdown",
   "metadata": {},
   "source": [
    "### Crawl for 21 Savage"
   ]
  },
  {
   "cell_type": "code",
   "execution_count": 4,
   "metadata": {},
   "outputs": [
    {
     "name": "stderr",
     "output_type": "stream",
     "text": [
      "2020-06-23 09:43:51 [scrapy.utils.log] INFO: Scrapy 2.1.0 started (bot: scrapybot)\n",
      "2020-06-23 09:43:51 [scrapy.utils.log] INFO: Versions: lxml 4.5.0.0, libxml2 2.9.10, cssselect 1.1.0, parsel 1.6.0, w3lib 1.22.0, Twisted 18.9.0, Python 3.8.2 (default, Apr 27 2020, 15:53:34) - [GCC 9.3.0], pyOpenSSL 19.0.0 (OpenSSL 1.1.1f  31 Mar 2020), cryptography 2.8, Platform Linux-5.4.0-37-generic-x86_64-with-glibc2.29\n",
      "2020-06-23 09:43:51 [scrapy.utils.log] DEBUG: Using reactor: twisted.internet.epollreactor.EPollReactor\n",
      "2020-06-23 09:43:51 [scrapy.crawler] INFO: Overridden settings:\n",
      "{'USER_AGENT': 'Mozilla/5.0 (Windows NT 10.0; Win64; x64) AppleWebKit/537.36 '\n",
      "               '(KHTML, like Gecko) Chrome/61.0.3163.100 Safari/537.36'}\n",
      "2020-06-23 09:43:51 [scrapy.extensions.telnet] INFO: Telnet Password: c9a05658b487bfd0\n",
      "2020-06-23 09:43:51 [scrapy.middleware] INFO: Enabled extensions:\n",
      "['scrapy.extensions.corestats.CoreStats',\n",
      " 'scrapy.extensions.telnet.TelnetConsole',\n",
      " 'scrapy.extensions.memusage.MemoryUsage',\n",
      " 'scrapy.extensions.logstats.LogStats']\n"
     ]
    },
    {
     "name": "stdout",
     "output_type": "stream",
     "text": [
      "21-savage\n"
     ]
    }
   ],
   "source": [
    "# Setup scraper\n",
    "process = CrawlerProcess({\n",
    "    'USER_AGENT': 'Mozilla/5.0 (Windows NT 10.0; Win64; x64) AppleWebKit/537.36 (KHTML, like Gecko) Chrome/61.0.3163.100 Safari/537.36' \n",
    "})\n",
    "\n",
    "# Instantiate class and pass artist\n",
    "process.crawl(EthnicCelebSpider, artists=['21 savage', 'kanye west'])\n",
    "# process.crawl(EthnicCelebSpider, artist='21 savage')\n",
    "process.start()"
   ]
  },
  {
   "cell_type": "markdown",
   "metadata": {},
   "source": [
    "### Use Spider with DataFrame"
   ]
  },
  {
   "cell_type": "code",
   "execution_count": 3,
   "metadata": {},
   "outputs": [
    {
     "name": "stderr",
     "output_type": "stream",
     "text": [
      "2020-06-23 09:41:49 [scrapy.utils.log] INFO: Scrapy 2.1.0 started (bot: scrapybot)\n",
      "2020-06-23 09:41:49 [scrapy.utils.log] INFO: Versions: lxml 4.5.0.0, libxml2 2.9.10, cssselect 1.1.0, parsel 1.6.0, w3lib 1.22.0, Twisted 18.9.0, Python 3.8.2 (default, Apr 27 2020, 15:53:34) - [GCC 9.3.0], pyOpenSSL 19.0.0 (OpenSSL 1.1.1f  31 Mar 2020), cryptography 2.8, Platform Linux-5.4.0-37-generic-x86_64-with-glibc2.29\n",
      "2020-06-23 09:41:49 [scrapy.utils.log] DEBUG: Using reactor: twisted.internet.epollreactor.EPollReactor\n"
     ]
    },
    {
     "ename": "NameError",
     "evalue": "name 'artists' is not defined",
     "output_type": "error",
     "traceback": [
      "\u001b[0;31m---------------------------------------------------------------------------\u001b[0m",
      "\u001b[0;31mNameError\u001b[0m                                 Traceback (most recent call last)",
      "\u001b[0;32m<ipython-input-3-bb5b9d60fcfe>\u001b[0m in \u001b[0;36m<module>\u001b[0;34m\u001b[0m\n\u001b[1;32m      6\u001b[0m \u001b[0;31m# for artist in artists.name:\u001b[0m\u001b[0;34m\u001b[0m\u001b[0;34m\u001b[0m\u001b[0;34m\u001b[0m\u001b[0m\n\u001b[1;32m      7\u001b[0m \u001b[0;31m# Instantiate class and pass artist\u001b[0m\u001b[0;34m\u001b[0m\u001b[0;34m\u001b[0m\u001b[0;34m\u001b[0m\u001b[0m\n\u001b[0;32m----> 8\u001b[0;31m \u001b[0mprocess\u001b[0m\u001b[0;34m.\u001b[0m\u001b[0mcrawl\u001b[0m\u001b[0;34m(\u001b[0m\u001b[0mEthnicCelebSpider\u001b[0m\u001b[0;34m,\u001b[0m \u001b[0martists\u001b[0m\u001b[0;34m=\u001b[0m\u001b[0martists\u001b[0m\u001b[0;34m.\u001b[0m\u001b[0mname\u001b[0m\u001b[0;34m)\u001b[0m\u001b[0;34m\u001b[0m\u001b[0;34m\u001b[0m\u001b[0m\n\u001b[0m\u001b[1;32m      9\u001b[0m \u001b[0mprocess\u001b[0m\u001b[0;34m.\u001b[0m\u001b[0mstart\u001b[0m\u001b[0;34m(\u001b[0m\u001b[0;34m)\u001b[0m\u001b[0;34m\u001b[0m\u001b[0;34m\u001b[0m\u001b[0m\n",
      "\u001b[0;31mNameError\u001b[0m: name 'artists' is not defined"
     ]
    }
   ],
   "source": [
    "# Setup scraper\n",
    "process = CrawlerProcess({\n",
    "    'USER_AGENT': 'Mozilla/5.0 (Windows NT 10.0; Win64; x64) AppleWebKit/537.36 (KHTML, like Gecko) Chrome/61.0.3163.100 Safari/537.36' \n",
    "})\n",
    "\n",
    "# for artist in artists.name:\n",
    "# Instantiate class and pass artist\n",
    "process.crawl(EthnicCelebSpider, artists=artists.name)\n",
    "process.start()"
   ]
  },
  {
   "cell_type": "markdown",
   "metadata": {},
   "source": [
    "&nbsp;\n",
    "## Defining the Wikipedia Spider\n",
    "After looking at some of the artists on Wikipedia, spaces in the URL seems to be filled with underscores-as opposed to dashes in ethniccelebs."
   ]
  },
  {
   "cell_type": "code",
   "execution_count": 14,
   "metadata": {
    "collapsed": true,
    "jupyter": {
     "outputs_hidden": true
    }
   },
   "outputs": [
    {
     "name": "stderr",
     "output_type": "stream",
     "text": [
      "Unhandled error in Deferred:\n",
      "Temporarily disabling observer LegacyLogObserverWrapper(<bound method PythonLoggingObserver.emit of <twisted.python.log.PythonLoggingObserver object at 0x7f6e2bd01eb0>>) due to exception: [Failure instance: Traceback: <class 'TypeError'>: _findCaller() takes from 1 to 2 positional arguments but 3 were given\n",
      "/usr/lib/python3.8/tokenize.py:528:_tokenize\n",
      "/usr/lib/python3/dist-packages/twisted/internet/defer.py:953:__del__\n",
      "/usr/lib/python3/dist-packages/twisted/logger/_logger.py:270:critical\n",
      "/usr/lib/python3/dist-packages/twisted/logger/_logger.py:144:emit\n",
      "--- <exception caught here> ---\n",
      "/usr/lib/python3/dist-packages/twisted/logger/_observer.py:131:__call__\n",
      "/usr/lib/python3/dist-packages/twisted/logger/_legacy.py:93:__call__\n",
      "/usr/lib/python3/dist-packages/twisted/python/log.py:595:emit\n",
      "/usr/lib/python3/dist-packages/twisted/logger/_legacy.py:154:publishToNewObserver\n",
      "/usr/lib/python3/dist-packages/twisted/logger/_stdlib.py:115:__call__\n",
      "/usr/lib/python3.8/logging/__init__.py:1500:log\n",
      "/usr/lib/python3.8/logging/__init__.py:1565:_log\n",
      "]\n",
      "Traceback (most recent call last):\n",
      "  File \"/usr/lib/python3.8/tokenize.py\", line 528, in _tokenize\n",
      "    spos, epos, pos = (lnum, start), (lnum, end), end\n",
      "  File \"/usr/lib/python3/dist-packages/twisted/internet/defer.py\", line 953, in __del__\n",
      "    log.critical(\"Unhandled error in Deferred:\",\n",
      "  File \"/usr/lib/python3/dist-packages/twisted/logger/_logger.py\", line 270, in critical\n",
      "    self.emit(LogLevel.critical, format, **kwargs)\n",
      "  File \"/usr/lib/python3/dist-packages/twisted/logger/_logger.py\", line 144, in emit\n",
      "    self.observer(event)\n",
      "--- <exception caught here> ---\n",
      "  File \"/usr/lib/python3/dist-packages/twisted/logger/_observer.py\", line 131, in __call__\n",
      "    observer(event)\n",
      "  File \"/usr/lib/python3/dist-packages/twisted/logger/_legacy.py\", line 93, in __call__\n",
      "    self.legacyObserver(event)\n",
      "  File \"/usr/lib/python3/dist-packages/twisted/python/log.py\", line 595, in emit\n",
      "    _publishNew(self._newObserver, eventDict, textFromEventDict)\n",
      "  File \"/usr/lib/python3/dist-packages/twisted/logger/_legacy.py\", line 154, in publishToNewObserver\n",
      "    observer(eventDict)\n",
      "  File \"/usr/lib/python3/dist-packages/twisted/logger/_stdlib.py\", line 115, in __call__\n",
      "    self.logger.log(\n",
      "  File \"/usr/lib/python3.8/logging/__init__.py\", line 1500, in log\n",
      "    self._log(level, msg, args, **kwargs)\n",
      "  File \"/usr/lib/python3.8/logging/__init__.py\", line 1565, in _log\n",
      "    fn, lno, func, sinfo = self.findCaller(stack_info, stacklevel)\n",
      "builtins.TypeError: _findCaller() takes from 1 to 2 positional arguments but 3 were given\n",
      "\n",
      "Temporarily disabling observer LegacyLogObserverWrapper(<bound method PythonLoggingObserver.emit of <twisted.python.log.PythonLoggingObserver object at 0x7f6e2bad1e80>>) due to exception: [Failure instance: Traceback: <class 'TypeError'>: _findCaller() takes from 1 to 2 positional arguments but 3 were given\n",
      "/usr/lib/python3/dist-packages/twisted/logger/_logger.py:144:emit\n",
      "/usr/lib/python3/dist-packages/twisted/logger/_observer.py:137:__call__\n",
      "/usr/lib/python3/dist-packages/twisted/logger/_logger.py:190:failure\n",
      "/usr/lib/python3/dist-packages/twisted/logger/_logger.py:144:emit\n",
      "--- <exception caught here> ---\n",
      "/usr/lib/python3/dist-packages/twisted/logger/_observer.py:131:__call__\n",
      "/usr/lib/python3/dist-packages/twisted/logger/_legacy.py:93:__call__\n",
      "/usr/lib/python3/dist-packages/twisted/python/log.py:595:emit\n",
      "/usr/lib/python3/dist-packages/twisted/logger/_legacy.py:154:publishToNewObserver\n",
      "/usr/lib/python3/dist-packages/twisted/logger/_stdlib.py:115:__call__\n",
      "/usr/lib/python3.8/logging/__init__.py:1500:log\n",
      "/usr/lib/python3.8/logging/__init__.py:1565:_log\n",
      "]\n",
      "Traceback (most recent call last):\n",
      "  File \"/usr/lib/python3/dist-packages/twisted/logger/_logger.py\", line 144, in emit\n",
      "    self.observer(event)\n",
      "  File \"/usr/lib/python3/dist-packages/twisted/logger/_observer.py\", line 137, in __call__\n",
      "    errorLogger.failure(\n",
      "  File \"/usr/lib/python3/dist-packages/twisted/logger/_logger.py\", line 190, in failure\n",
      "    self.emit(level, format, log_failure=failure, **kwargs)\n",
      "  File \"/usr/lib/python3/dist-packages/twisted/logger/_logger.py\", line 144, in emit\n",
      "    self.observer(event)\n",
      "--- <exception caught here> ---\n",
      "  File \"/usr/lib/python3/dist-packages/twisted/logger/_observer.py\", line 131, in __call__\n",
      "    observer(event)\n",
      "  File \"/usr/lib/python3/dist-packages/twisted/logger/_legacy.py\", line 93, in __call__\n",
      "    self.legacyObserver(event)\n",
      "  File \"/usr/lib/python3/dist-packages/twisted/python/log.py\", line 595, in emit\n",
      "    _publishNew(self._newObserver, eventDict, textFromEventDict)\n",
      "  File \"/usr/lib/python3/dist-packages/twisted/logger/_legacy.py\", line 154, in publishToNewObserver\n",
      "    observer(eventDict)\n",
      "  File \"/usr/lib/python3/dist-packages/twisted/logger/_stdlib.py\", line 115, in __call__\n",
      "    self.logger.log(\n",
      "  File \"/usr/lib/python3.8/logging/__init__.py\", line 1500, in log\n",
      "    self._log(level, msg, args, **kwargs)\n",
      "  File \"/usr/lib/python3.8/logging/__init__.py\", line 1565, in _log\n",
      "    fn, lno, func, sinfo = self.findCaller(stack_info, stacklevel)\n",
      "builtins.TypeError: _findCaller() takes from 1 to 2 positional arguments but 3 were given\n",
      "\n",
      "Temporarily disabling observer LegacyLogObserverWrapper(<bound method PythonLoggingObserver.emit of <twisted.python.log.PythonLoggingObserver object at 0x7f6e2bad1e80>>) due to exception: [Failure instance: Traceback: <class 'TypeError'>: _findCaller() takes from 1 to 2 positional arguments but 3 were given\n",
      "/usr/lib/python3.8/tokenize.py:528:_tokenize\n",
      "/usr/lib/python3/dist-packages/twisted/internet/defer.py:953:__del__\n",
      "/usr/lib/python3/dist-packages/twisted/logger/_logger.py:270:critical\n",
      "/usr/lib/python3/dist-packages/twisted/logger/_logger.py:144:emit\n",
      "--- <exception caught here> ---\n",
      "/usr/lib/python3/dist-packages/twisted/logger/_observer.py:131:__call__\n",
      "/usr/lib/python3/dist-packages/twisted/logger/_legacy.py:93:__call__\n",
      "/usr/lib/python3/dist-packages/twisted/python/log.py:595:emit\n",
      "/usr/lib/python3/dist-packages/twisted/logger/_legacy.py:154:publishToNewObserver\n",
      "/usr/lib/python3/dist-packages/twisted/logger/_stdlib.py:115:__call__\n",
      "/usr/lib/python3.8/logging/__init__.py:1500:log\n",
      "/usr/lib/python3.8/logging/__init__.py:1565:_log\n",
      "]\n",
      "Traceback (most recent call last):\n",
      "  File \"/usr/lib/python3.8/tokenize.py\", line 528, in _tokenize\n",
      "    spos, epos, pos = (lnum, start), (lnum, end), end\n",
      "  File \"/usr/lib/python3/dist-packages/twisted/internet/defer.py\", line 953, in __del__\n",
      "    log.critical(\"Unhandled error in Deferred:\",\n",
      "  File \"/usr/lib/python3/dist-packages/twisted/logger/_logger.py\", line 270, in critical\n",
      "    self.emit(LogLevel.critical, format, **kwargs)\n",
      "  File \"/usr/lib/python3/dist-packages/twisted/logger/_logger.py\", line 144, in emit\n",
      "    self.observer(event)\n",
      "--- <exception caught here> ---\n",
      "  File \"/usr/lib/python3/dist-packages/twisted/logger/_observer.py\", line 131, in __call__\n",
      "    observer(event)\n",
      "  File \"/usr/lib/python3/dist-packages/twisted/logger/_legacy.py\", line 93, in __call__\n",
      "    self.legacyObserver(event)\n",
      "  File \"/usr/lib/python3/dist-packages/twisted/python/log.py\", line 595, in emit\n",
      "    _publishNew(self._newObserver, eventDict, textFromEventDict)\n",
      "  File \"/usr/lib/python3/dist-packages/twisted/logger/_legacy.py\", line 154, in publishToNewObserver\n",
      "    observer(eventDict)\n",
      "  File \"/usr/lib/python3/dist-packages/twisted/logger/_stdlib.py\", line 115, in __call__\n",
      "    self.logger.log(\n",
      "  File \"/usr/lib/python3.8/logging/__init__.py\", line 1500, in log\n",
      "    self._log(level, msg, args, **kwargs)\n",
      "  File \"/usr/lib/python3.8/logging/__init__.py\", line 1565, in _log\n",
      "    fn, lno, func, sinfo = self.findCaller(stack_info, stacklevel)\n",
      "builtins.TypeError: _findCaller() takes from 1 to 2 positional arguments but 3 were given\n",
      "\n",
      "Temporarily disabling observer LegacyLogObserverWrapper(<bound method PythonLoggingObserver.emit of <twisted.python.log.PythonLoggingObserver object at 0x7f6e2bd01eb0>>) due to exception: [Failure instance: Traceback: <class 'TypeError'>: _findCaller() takes from 1 to 2 positional arguments but 3 were given\n",
      "/usr/lib/python3/dist-packages/twisted/logger/_logger.py:144:emit\n",
      "/usr/lib/python3/dist-packages/twisted/logger/_observer.py:137:__call__\n",
      "/usr/lib/python3/dist-packages/twisted/logger/_logger.py:190:failure\n",
      "/usr/lib/python3/dist-packages/twisted/logger/_logger.py:144:emit\n",
      "--- <exception caught here> ---\n",
      "/usr/lib/python3/dist-packages/twisted/logger/_observer.py:131:__call__\n",
      "/usr/lib/python3/dist-packages/twisted/logger/_legacy.py:93:__call__\n",
      "/usr/lib/python3/dist-packages/twisted/python/log.py:595:emit\n",
      "/usr/lib/python3/dist-packages/twisted/logger/_legacy.py:154:publishToNewObserver\n",
      "/usr/lib/python3/dist-packages/twisted/logger/_stdlib.py:115:__call__\n",
      "/usr/lib/python3.8/logging/__init__.py:1500:log\n",
      "/usr/lib/python3.8/logging/__init__.py:1565:_log\n",
      "]\n",
      "Traceback (most recent call last):\n",
      "  File \"/usr/lib/python3/dist-packages/twisted/logger/_logger.py\", line 144, in emit\n",
      "    self.observer(event)\n",
      "  File \"/usr/lib/python3/dist-packages/twisted/logger/_observer.py\", line 137, in __call__\n",
      "    errorLogger.failure(\n",
      "  File \"/usr/lib/python3/dist-packages/twisted/logger/_logger.py\", line 190, in failure\n",
      "    self.emit(level, format, log_failure=failure, **kwargs)\n",
      "  File \"/usr/lib/python3/dist-packages/twisted/logger/_logger.py\", line 144, in emit\n",
      "    self.observer(event)\n",
      "--- <exception caught here> ---\n",
      "  File \"/usr/lib/python3/dist-packages/twisted/logger/_observer.py\", line 131, in __call__\n",
      "    observer(event)\n",
      "  File \"/usr/lib/python3/dist-packages/twisted/logger/_legacy.py\", line 93, in __call__\n",
      "    self.legacyObserver(event)\n",
      "  File \"/usr/lib/python3/dist-packages/twisted/python/log.py\", line 595, in emit\n",
      "    _publishNew(self._newObserver, eventDict, textFromEventDict)\n",
      "  File \"/usr/lib/python3/dist-packages/twisted/logger/_legacy.py\", line 154, in publishToNewObserver\n",
      "    observer(eventDict)\n",
      "  File \"/usr/lib/python3/dist-packages/twisted/logger/_stdlib.py\", line 115, in __call__\n",
      "    self.logger.log(\n",
      "  File \"/usr/lib/python3.8/logging/__init__.py\", line 1500, in log\n",
      "    self._log(level, msg, args, **kwargs)\n",
      "  File \"/usr/lib/python3.8/logging/__init__.py\", line 1565, in _log\n",
      "    fn, lno, func, sinfo = self.findCaller(stack_info, stacklevel)\n",
      "builtins.TypeError: _findCaller() takes from 1 to 2 positional arguments but 3 were given\n",
      "\n",
      "\n",
      "Traceback (most recent call last):\n",
      "  File \"/home/buscemi/.local/lib/python3.8/site-packages/scrapy/crawler.py\", line 192, in crawl\n",
      "    return self._crawl(crawler, *args, **kwargs)\n",
      "  File \"/home/buscemi/.local/lib/python3.8/site-packages/scrapy/crawler.py\", line 196, in _crawl\n",
      "    d = crawler.crawl(*args, **kwargs)\n",
      "  File \"/usr/lib/python3/dist-packages/twisted/internet/defer.py\", line 1613, in unwindGenerator\n",
      "    return _cancellableInlineCallbacks(gen)\n",
      "  File \"/usr/lib/python3/dist-packages/twisted/internet/defer.py\", line 1529, in _cancellableInlineCallbacks\n",
      "    _inlineCallbacks(None, g, status)\n",
      "--- <exception caught here> ---\n",
      "  File \"/usr/lib/python3/dist-packages/twisted/internet/defer.py\", line 1418, in _inlineCallbacks\n",
      "    result = g.send(result)\n",
      "  File \"/home/buscemi/.local/lib/python3.8/site-packages/scrapy/crawler.py\", line 86, in crawl\n",
      "    self.spider = self._create_spider(*args, **kwargs)\n",
      "  File \"/home/buscemi/.local/lib/python3.8/site-packages/scrapy/crawler.py\", line 98, in _create_spider\n",
      "    return self.spidercls.from_crawler(self, *args, **kwargs)\n",
      "  File \"/home/buscemi/.local/lib/python3.8/site-packages/scrapy/spiders/__init__.py\", line 49, in from_crawler\n",
      "    spider = cls(*args, **kwargs)\n",
      "  File \"<ipython-input-11-8ad3ef8dcc56>\", line 14, in __init__\n",
      "    self.start_urls.append([f'https://ethnicelebs.com/{artist}'])\n",
      "builtins.AttributeError: 'EthnicCelebSpider' object has no attribute 'start_urls'\n",
      "\n",
      "Temporarily disabling observer LegacyLogObserverWrapper(<bound method PythonLoggingObserver.emit of <twisted.python.log.PythonLoggingObserver object at 0x7f6e2bd01eb0>>) due to exception: [Failure instance: Traceback: <class 'TypeError'>: _findCaller() takes from 1 to 2 positional arguments but 3 were given\n",
      "/usr/lib/python3.8/tokenize.py:528:_tokenize\n",
      "/usr/lib/python3/dist-packages/twisted/internet/defer.py:962:__del__\n",
      "/usr/lib/python3/dist-packages/twisted/logger/_logger.py:190:failure\n",
      "/usr/lib/python3/dist-packages/twisted/logger/_logger.py:144:emit\n",
      "--- <exception caught here> ---\n",
      "/usr/lib/python3/dist-packages/twisted/logger/_observer.py:131:__call__\n",
      "/usr/lib/python3/dist-packages/twisted/logger/_legacy.py:93:__call__\n",
      "/usr/lib/python3/dist-packages/twisted/python/log.py:595:emit\n",
      "/usr/lib/python3/dist-packages/twisted/logger/_legacy.py:154:publishToNewObserver\n",
      "/usr/lib/python3/dist-packages/twisted/logger/_stdlib.py:115:__call__\n",
      "/usr/lib/python3.8/logging/__init__.py:1500:log\n",
      "/usr/lib/python3.8/logging/__init__.py:1565:_log\n",
      "]\n",
      "Traceback (most recent call last):\n",
      "  File \"/usr/lib/python3.8/tokenize.py\", line 528, in _tokenize\n",
      "    spos, epos, pos = (lnum, start), (lnum, end), end\n",
      "  File \"/usr/lib/python3/dist-packages/twisted/internet/defer.py\", line 962, in __del__\n",
      "    log.failure(format,\n",
      "  File \"/usr/lib/python3/dist-packages/twisted/logger/_logger.py\", line 190, in failure\n",
      "    self.emit(level, format, log_failure=failure, **kwargs)\n",
      "  File \"/usr/lib/python3/dist-packages/twisted/logger/_logger.py\", line 144, in emit\n",
      "    self.observer(event)\n",
      "--- <exception caught here> ---\n",
      "  File \"/usr/lib/python3/dist-packages/twisted/logger/_observer.py\", line 131, in __call__\n",
      "    observer(event)\n",
      "  File \"/usr/lib/python3/dist-packages/twisted/logger/_legacy.py\", line 93, in __call__\n",
      "    self.legacyObserver(event)\n",
      "  File \"/usr/lib/python3/dist-packages/twisted/python/log.py\", line 595, in emit\n",
      "    _publishNew(self._newObserver, eventDict, textFromEventDict)\n",
      "  File \"/usr/lib/python3/dist-packages/twisted/logger/_legacy.py\", line 154, in publishToNewObserver\n",
      "    observer(eventDict)\n",
      "  File \"/usr/lib/python3/dist-packages/twisted/logger/_stdlib.py\", line 115, in __call__\n",
      "    self.logger.log(\n",
      "  File \"/usr/lib/python3.8/logging/__init__.py\", line 1500, in log\n",
      "    self._log(level, msg, args, **kwargs)\n",
      "  File \"/usr/lib/python3.8/logging/__init__.py\", line 1565, in _log\n",
      "    fn, lno, func, sinfo = self.findCaller(stack_info, stacklevel)\n",
      "builtins.TypeError: _findCaller() takes from 1 to 2 positional arguments but 3 were given\n",
      "\n",
      "Temporarily disabling observer LegacyLogObserverWrapper(<bound method PythonLoggingObserver.emit of <twisted.python.log.PythonLoggingObserver object at 0x7f6e2bad1e80>>) due to exception: [Failure instance: Traceback: <class 'TypeError'>: _findCaller() takes from 1 to 2 positional arguments but 3 were given\n",
      "/usr/lib/python3/dist-packages/twisted/logger/_logger.py:144:emit\n",
      "/usr/lib/python3/dist-packages/twisted/logger/_observer.py:137:__call__\n",
      "/usr/lib/python3/dist-packages/twisted/logger/_logger.py:190:failure\n",
      "/usr/lib/python3/dist-packages/twisted/logger/_logger.py:144:emit\n",
      "--- <exception caught here> ---\n",
      "/usr/lib/python3/dist-packages/twisted/logger/_observer.py:131:__call__\n",
      "/usr/lib/python3/dist-packages/twisted/logger/_legacy.py:93:__call__\n",
      "/usr/lib/python3/dist-packages/twisted/python/log.py:595:emit\n",
      "/usr/lib/python3/dist-packages/twisted/logger/_legacy.py:154:publishToNewObserver\n",
      "/usr/lib/python3/dist-packages/twisted/logger/_stdlib.py:115:__call__\n",
      "/usr/lib/python3.8/logging/__init__.py:1500:log\n",
      "/usr/lib/python3.8/logging/__init__.py:1565:_log\n",
      "]\n",
      "Traceback (most recent call last):\n",
      "  File \"/usr/lib/python3/dist-packages/twisted/logger/_logger.py\", line 144, in emit\n",
      "    self.observer(event)\n",
      "  File \"/usr/lib/python3/dist-packages/twisted/logger/_observer.py\", line 137, in __call__\n",
      "    errorLogger.failure(\n",
      "  File \"/usr/lib/python3/dist-packages/twisted/logger/_logger.py\", line 190, in failure\n",
      "    self.emit(level, format, log_failure=failure, **kwargs)\n",
      "  File \"/usr/lib/python3/dist-packages/twisted/logger/_logger.py\", line 144, in emit\n",
      "    self.observer(event)\n",
      "--- <exception caught here> ---\n",
      "  File \"/usr/lib/python3/dist-packages/twisted/logger/_observer.py\", line 131, in __call__\n",
      "    observer(event)\n",
      "  File \"/usr/lib/python3/dist-packages/twisted/logger/_legacy.py\", line 93, in __call__\n",
      "    self.legacyObserver(event)\n",
      "  File \"/usr/lib/python3/dist-packages/twisted/python/log.py\", line 595, in emit\n",
      "    _publishNew(self._newObserver, eventDict, textFromEventDict)\n",
      "  File \"/usr/lib/python3/dist-packages/twisted/logger/_legacy.py\", line 154, in publishToNewObserver\n",
      "    observer(eventDict)\n",
      "  File \"/usr/lib/python3/dist-packages/twisted/logger/_stdlib.py\", line 115, in __call__\n",
      "    self.logger.log(\n",
      "  File \"/usr/lib/python3.8/logging/__init__.py\", line 1500, in log\n",
      "    self._log(level, msg, args, **kwargs)\n",
      "  File \"/usr/lib/python3.8/logging/__init__.py\", line 1565, in _log\n",
      "    fn, lno, func, sinfo = self.findCaller(stack_info, stacklevel)\n",
      "builtins.TypeError: _findCaller() takes from 1 to 2 positional arguments but 3 were given\n",
      "\n",
      "Temporarily disabling observer LegacyLogObserverWrapper(<bound method PythonLoggingObserver.emit of <twisted.python.log.PythonLoggingObserver object at 0x7f6e2bad1e80>>) due to exception: [Failure instance: Traceback: <class 'TypeError'>: _findCaller() takes from 1 to 2 positional arguments but 3 were given\n",
      "/usr/lib/python3.8/tokenize.py:528:_tokenize\n",
      "/usr/lib/python3/dist-packages/twisted/internet/defer.py:962:__del__\n",
      "/usr/lib/python3/dist-packages/twisted/logger/_logger.py:190:failure\n",
      "/usr/lib/python3/dist-packages/twisted/logger/_logger.py:144:emit\n",
      "--- <exception caught here> ---\n",
      "/usr/lib/python3/dist-packages/twisted/logger/_observer.py:131:__call__\n",
      "/usr/lib/python3/dist-packages/twisted/logger/_legacy.py:93:__call__\n",
      "/usr/lib/python3/dist-packages/twisted/python/log.py:595:emit\n",
      "/usr/lib/python3/dist-packages/twisted/logger/_legacy.py:154:publishToNewObserver\n",
      "/usr/lib/python3/dist-packages/twisted/logger/_stdlib.py:115:__call__\n",
      "/usr/lib/python3.8/logging/__init__.py:1500:log\n",
      "/usr/lib/python3.8/logging/__init__.py:1565:_log\n",
      "]\n",
      "Traceback (most recent call last):\n",
      "  File \"/usr/lib/python3.8/tokenize.py\", line 528, in _tokenize\n",
      "    spos, epos, pos = (lnum, start), (lnum, end), end\n",
      "  File \"/usr/lib/python3/dist-packages/twisted/internet/defer.py\", line 962, in __del__\n",
      "    log.failure(format,\n",
      "  File \"/usr/lib/python3/dist-packages/twisted/logger/_logger.py\", line 190, in failure\n",
      "    self.emit(level, format, log_failure=failure, **kwargs)\n",
      "  File \"/usr/lib/python3/dist-packages/twisted/logger/_logger.py\", line 144, in emit\n",
      "    self.observer(event)\n",
      "--- <exception caught here> ---\n",
      "  File \"/usr/lib/python3/dist-packages/twisted/logger/_observer.py\", line 131, in __call__\n",
      "    observer(event)\n",
      "  File \"/usr/lib/python3/dist-packages/twisted/logger/_legacy.py\", line 93, in __call__\n",
      "    self.legacyObserver(event)\n",
      "  File \"/usr/lib/python3/dist-packages/twisted/python/log.py\", line 595, in emit\n",
      "    _publishNew(self._newObserver, eventDict, textFromEventDict)\n",
      "  File \"/usr/lib/python3/dist-packages/twisted/logger/_legacy.py\", line 154, in publishToNewObserver\n",
      "    observer(eventDict)\n",
      "  File \"/usr/lib/python3/dist-packages/twisted/logger/_stdlib.py\", line 115, in __call__\n",
      "    self.logger.log(\n",
      "  File \"/usr/lib/python3.8/logging/__init__.py\", line 1500, in log\n",
      "    self._log(level, msg, args, **kwargs)\n",
      "  File \"/usr/lib/python3.8/logging/__init__.py\", line 1565, in _log\n",
      "    fn, lno, func, sinfo = self.findCaller(stack_info, stacklevel)\n",
      "builtins.TypeError: _findCaller() takes from 1 to 2 positional arguments but 3 were given\n",
      "\n",
      "Temporarily disabling observer LegacyLogObserverWrapper(<bound method PythonLoggingObserver.emit of <twisted.python.log.PythonLoggingObserver object at 0x7f6e2bd01eb0>>) due to exception: [Failure instance: Traceback: <class 'TypeError'>: _findCaller() takes from 1 to 2 positional arguments but 3 were given\n",
      "/usr/lib/python3/dist-packages/twisted/logger/_logger.py:144:emit\n",
      "/usr/lib/python3/dist-packages/twisted/logger/_observer.py:137:__call__\n",
      "/usr/lib/python3/dist-packages/twisted/logger/_logger.py:190:failure\n",
      "/usr/lib/python3/dist-packages/twisted/logger/_logger.py:144:emit\n",
      "--- <exception caught here> ---\n",
      "/usr/lib/python3/dist-packages/twisted/logger/_observer.py:131:__call__\n",
      "/usr/lib/python3/dist-packages/twisted/logger/_legacy.py:93:__call__\n",
      "/usr/lib/python3/dist-packages/twisted/python/log.py:595:emit\n",
      "/usr/lib/python3/dist-packages/twisted/logger/_legacy.py:154:publishToNewObserver\n",
      "/usr/lib/python3/dist-packages/twisted/logger/_stdlib.py:115:__call__\n",
      "/usr/lib/python3.8/logging/__init__.py:1500:log\n",
      "/usr/lib/python3.8/logging/__init__.py:1565:_log\n",
      "]\n",
      "Traceback (most recent call last):\n",
      "  File \"/usr/lib/python3/dist-packages/twisted/logger/_logger.py\", line 144, in emit\n",
      "    self.observer(event)\n",
      "  File \"/usr/lib/python3/dist-packages/twisted/logger/_observer.py\", line 137, in __call__\n",
      "    errorLogger.failure(\n",
      "  File \"/usr/lib/python3/dist-packages/twisted/logger/_logger.py\", line 190, in failure\n",
      "    self.emit(level, format, log_failure=failure, **kwargs)\n",
      "  File \"/usr/lib/python3/dist-packages/twisted/logger/_logger.py\", line 144, in emit\n",
      "    self.observer(event)\n",
      "--- <exception caught here> ---\n",
      "  File \"/usr/lib/python3/dist-packages/twisted/logger/_observer.py\", line 131, in __call__\n",
      "    observer(event)\n",
      "  File \"/usr/lib/python3/dist-packages/twisted/logger/_legacy.py\", line 93, in __call__\n",
      "    self.legacyObserver(event)\n",
      "  File \"/usr/lib/python3/dist-packages/twisted/python/log.py\", line 595, in emit\n",
      "    _publishNew(self._newObserver, eventDict, textFromEventDict)\n",
      "  File \"/usr/lib/python3/dist-packages/twisted/logger/_legacy.py\", line 154, in publishToNewObserver\n",
      "    observer(eventDict)\n",
      "  File \"/usr/lib/python3/dist-packages/twisted/logger/_stdlib.py\", line 115, in __call__\n",
      "    self.logger.log(\n",
      "  File \"/usr/lib/python3.8/logging/__init__.py\", line 1500, in log\n",
      "    self._log(level, msg, args, **kwargs)\n",
      "  File \"/usr/lib/python3.8/logging/__init__.py\", line 1565, in _log\n",
      "    fn, lno, func, sinfo = self.findCaller(stack_info, stacklevel)\n",
      "builtins.TypeError: _findCaller() takes from 1 to 2 positional arguments but 3 were given\n",
      "\n",
      "2020-06-23 09:26:16 [scrapy.utils.log] INFO: Scrapy 2.1.0 started (bot: scrapybot)\n",
      "2020-06-23 09:26:16 [scrapy.utils.log] INFO: Versions: lxml 4.5.0.0, libxml2 2.9.10, cssselect 1.1.0, parsel 1.6.0, w3lib 1.22.0, Twisted 18.9.0, Python 3.8.2 (default, Apr 27 2020, 15:53:34) - [GCC 9.3.0], pyOpenSSL 19.0.0 (OpenSSL 1.1.1f  31 Mar 2020), cryptography 2.8, Platform Linux-5.4.0-37-generic-x86_64-with-glibc2.29\n",
      "2020-06-23 09:26:16 [scrapy.utils.log] DEBUG: Using reactor: twisted.internet.epollreactor.EPollReactor\n",
      "2020-06-23 09:26:16 [scrapy.crawler] INFO: Overridden settings:\n",
      "{'USER_AGENT': 'Mozilla/4.0 (compatible; MSIE 7.0; Windows NT 5.1)'}\n",
      "2020-06-23 09:26:16 [scrapy.extensions.telnet] INFO: Telnet Password: 515c9e541676a6c8\n",
      "2020-06-23 09:26:16 [scrapy.middleware] INFO: Enabled extensions:\n",
      "['scrapy.extensions.corestats.CoreStats',\n",
      " 'scrapy.extensions.telnet.TelnetConsole',\n",
      " 'scrapy.extensions.memusage.MemoryUsage',\n",
      " 'scrapy.extensions.logstats.LogStats']\n"
     ]
    }
   ],
   "source": [
    "import scrapy\n",
    "from scrapy.crawler import CrawlerProcess\n",
    "\n",
    "class WikiSpider(scrapy.Spider):\n",
    "    \"\"\"Scrapes ethnic celebs website using XPath selector\"\"\"\n",
    "    name = \"wiki\"\n",
    "\n",
    "    def __init__(self, artist='', **kwargs):\n",
    "        \"\"\"Takes artist as an argument when called\"\"\"\n",
    "        # Replaces spaces with \"_\" for website\n",
    "        artist = artist.replace(\" \", \"_\")\n",
    "        self.start_urls.append([f'https://wikipedia.com/wiki/{artist}'])\n",
    "\n",
    "    def parse(self, response):\n",
    "        \"\"\"Get artist race\"\"\"    \n",
    "        if response.status != 404:\n",
    "            # 21 Savage XPath\n",
    "#             res = response.xpath('/html/body/div[3]/div[3]/div[4]/div/table[1]/tbody/tr[5]/td/span[2].text()').get()\n",
    "            res = response.css('.\"noprint ForceAgeToShow\" span::text').get()\n",
    "            # Find word and exclude\n",
    "            string_start = res.find(\"age \") + len(\"age \")\n",
    "            age = res[string_start:len(res)]\n",
    "        else:\n",
    "            age = 'Unknown'\n",
    "        \n",
    "        print('\\n'+age+'\\n')\n",
    "        return age\n",
    "    \n",
    "# Setup scraper\n",
    "process = CrawlerProcess({\n",
    "    'USER_AGENT': 'Mozilla/4.0 (compatible; MSIE 7.0; Windows NT 5.1)'\n",
    "})\n",
    "\n",
    "# Instantiate class and pass artist\n",
    "process.crawl(WikiSpider, artist='21 Savage')\n",
    "process.start()"
   ]
  },
  {
   "cell_type": "code",
   "execution_count": null,
   "metadata": {},
   "outputs": [],
   "source": []
  }
 ],
 "metadata": {
  "kernelspec": {
   "display_name": "Python 3.7.5 64-bit",
   "language": "python",
   "name": "python37564bite837ac3d978644508280cde9286add7f"
  },
  "language_info": {
   "codemirror_mode": {
    "name": "ipython",
    "version": 3
   },
   "file_extension": ".py",
   "mimetype": "text/x-python",
   "name": "python",
   "nbconvert_exporter": "python",
   "pygments_lexer": "ipython3",
   "version": "3.8.2"
  },
  "toc-autonumbering": false,
  "toc-showcode": false,
  "toc-showmarkdowntxt": false
 },
 "nbformat": 4,
 "nbformat_minor": 4
}
