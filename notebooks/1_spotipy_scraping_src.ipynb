{
 "cells": [
  {
   "cell_type": "markdown",
   "metadata": {},
   "source": [
    "# SpotiPy Connect & Web Scraping\n",
    "I want to find out who I listen to and what their basic background is.\n",
    "[Medium Article](https://medium.com/@RareLoot/extracting-spotify-data-on-your-favourite-artist-via-python-d58bc92a4330)\n",
    "[Examples](https://github.com/plamere/spotipy/tree/master/examples)"
   ]
  },
  {
   "cell_type": "code",
   "execution_count": 3,
   "metadata": {},
   "outputs": [],
   "source": [
    "import pandas as pd\n",
    "import spotipy\n",
    "from spotipy.oauth2 import SpotifyClientCredentials\n",
    "import spotipy.util as util\n",
    "import matplotlib.pyplot as plt\n",
    "import numpy as np\n",
    "import os\n",
    "from client_secret import *"
   ]
  },
  {
   "cell_type": "markdown",
   "metadata": {},
   "source": [
    "## Spotify API Connection"
   ]
  },
  {
   "cell_type": "code",
   "execution_count": 38,
   "metadata": {},
   "outputs": [],
   "source": [
    "def spotify_connect(user_scope, redirect_uri, artist_limit, time_range):\n",
    "    \"\"\"Connects to Spotify API, returning user's top artists\"\"\"\n",
    "    \n",
    "    # Load in secret keys\n",
    "    client_credentials_manager = SpotifyClientCredentials(client_id=client_id, client_secret=client_secret)\n",
    "    client = spotipy.Spotify(client_credentials_manager=client_credentials_manager)\n",
    "\n",
    "    # Create security token\n",
    "    security_token = util.prompt_for_user_token(username, user_scope, client_id=client_id, client_secret=client_secret, redirect_uri=redirect_uri)\n",
    "    \n",
    "    # Gets favourite artists \n",
    "    if security_token:\n",
    "        spotify_client = spotipy.Spotify(auth=security_token)\n",
    "        spotify_client.trace = False\n",
    "        # Loop through time ranges\n",
    "        for r in time_range:\n",
    "            results = spotify_client.current_user_top_artists(time_range=r, limit=artist_limit)\n",
    "        return results\n",
    "    \n",
    "scope = \"user-top-read\"\n",
    "redirect_uri = \"http://localhost:8080\"\n",
    "\n",
    "results = spotify_connect(scope, redirect_uri, 20, ['short_term', 'medium_term', 'long_term'])"
   ]
  },
  {
   "cell_type": "markdown",
   "metadata": {},
   "source": [
    "&nbsp;\n",
    "### Load Results into DataFrame"
   ]
  },
  {
   "cell_type": "code",
   "execution_count": 39,
   "metadata": {},
   "outputs": [
    {
     "name": "stderr",
     "output_type": "stream",
     "text": [
      "<ipython-input-39-21d38590777f>:8: SettingWithCopyWarning: \n",
      "A value is trying to be set on a copy of a slice from a DataFrame\n",
      "\n",
      "See the caveats in the documentation: http://pandas.pydata.org/pandas-docs/stable/user_guide/indexing.html#returning-a-view-versus-a-copy\n",
      "  items.followers[i] = items.followers[i]['total']\n"
     ]
    },
    {
     "data": {
      "text/html": [
       "<div>\n",
       "<style scoped>\n",
       "    .dataframe tbody tr th:only-of-type {\n",
       "        vertical-align: middle;\n",
       "    }\n",
       "\n",
       "    .dataframe tbody tr th {\n",
       "        vertical-align: top;\n",
       "    }\n",
       "\n",
       "    .dataframe thead th {\n",
       "        text-align: right;\n",
       "    }\n",
       "</style>\n",
       "<table border=\"1\" class=\"dataframe\">\n",
       "  <thead>\n",
       "    <tr style=\"text-align: right;\">\n",
       "      <th></th>\n",
       "      <th>followers</th>\n",
       "      <th>genres</th>\n",
       "      <th>name</th>\n",
       "      <th>popularity</th>\n",
       "      <th>type</th>\n",
       "    </tr>\n",
       "  </thead>\n",
       "  <tbody>\n",
       "    <tr>\n",
       "      <th>6</th>\n",
       "      <td>47296312</td>\n",
       "      <td>[canadian hip hop, canadian pop, hip hop, pop ...</td>\n",
       "      <td>Drake</td>\n",
       "      <td>100</td>\n",
       "      <td>artist</td>\n",
       "    </tr>\n",
       "    <tr>\n",
       "      <th>3</th>\n",
       "      <td>10165180</td>\n",
       "      <td>[chicago rap, melodic rap]</td>\n",
       "      <td>Juice WRLD</td>\n",
       "      <td>97</td>\n",
       "      <td>artist</td>\n",
       "    </tr>\n",
       "    <tr>\n",
       "      <th>1</th>\n",
       "      <td>21336414</td>\n",
       "      <td>[canadian contemporary r&amp;b, canadian pop, pop]</td>\n",
       "      <td>The Weeknd</td>\n",
       "      <td>97</td>\n",
       "      <td>artist</td>\n",
       "    </tr>\n",
       "    <tr>\n",
       "      <th>14</th>\n",
       "      <td>28078338</td>\n",
       "      <td>[electropop, pop]</td>\n",
       "      <td>Billie Eilish</td>\n",
       "      <td>94</td>\n",
       "      <td>artist</td>\n",
       "    </tr>\n",
       "    <tr>\n",
       "      <th>2</th>\n",
       "      <td>16527701</td>\n",
       "      <td>[beatlesque, british invasion, classic rock, m...</td>\n",
       "      <td>The Beatles</td>\n",
       "      <td>90</td>\n",
       "      <td>artist</td>\n",
       "    </tr>\n",
       "    <tr>\n",
       "      <th>16</th>\n",
       "      <td>26560524</td>\n",
       "      <td>[glam rock, rock]</td>\n",
       "      <td>Queen</td>\n",
       "      <td>90</td>\n",
       "      <td>artist</td>\n",
       "    </tr>\n",
       "    <tr>\n",
       "      <th>5</th>\n",
       "      <td>7997390</td>\n",
       "      <td>[atl hip hop, rap, trap]</td>\n",
       "      <td>21 Savage</td>\n",
       "      <td>87</td>\n",
       "      <td>artist</td>\n",
       "    </tr>\n",
       "    <tr>\n",
       "      <th>7</th>\n",
       "      <td>7086601</td>\n",
       "      <td>[east coast hip hop, hip hop, pop rap, rap, so...</td>\n",
       "      <td>A$AP Rocky</td>\n",
       "      <td>87</td>\n",
       "      <td>artist</td>\n",
       "    </tr>\n",
       "    <tr>\n",
       "      <th>10</th>\n",
       "      <td>8729613</td>\n",
       "      <td>[album rock, british invasion, classic rock, r...</td>\n",
       "      <td>The Rolling Stones</td>\n",
       "      <td>84</td>\n",
       "      <td>artist</td>\n",
       "    </tr>\n",
       "    <tr>\n",
       "      <th>15</th>\n",
       "      <td>5568232</td>\n",
       "      <td>[album rock, art rock, classic rock, dance roc...</td>\n",
       "      <td>David Bowie</td>\n",
       "      <td>83</td>\n",
       "      <td>artist</td>\n",
       "    </tr>\n",
       "    <tr>\n",
       "      <th>12</th>\n",
       "      <td>286465</td>\n",
       "      <td>[bedroom pop, indie pop, indie poptimism]</td>\n",
       "      <td>Gus Dapperton</td>\n",
       "      <td>83</td>\n",
       "      <td>artist</td>\n",
       "    </tr>\n",
       "    <tr>\n",
       "      <th>4</th>\n",
       "      <td>1967935</td>\n",
       "      <td>[german soundtrack, soundtrack]</td>\n",
       "      <td>Hans Zimmer</td>\n",
       "      <td>80</td>\n",
       "      <td>artist</td>\n",
       "    </tr>\n",
       "    <tr>\n",
       "      <th>8</th>\n",
       "      <td>1941157</td>\n",
       "      <td>[conscious hip hop, east coast hip hop, gangst...</td>\n",
       "      <td>Nas</td>\n",
       "      <td>77</td>\n",
       "      <td>artist</td>\n",
       "    </tr>\n",
       "    <tr>\n",
       "      <th>18</th>\n",
       "      <td>1857631</td>\n",
       "      <td>[album rock, canadian singer-songwriter, class...</td>\n",
       "      <td>Neil Young</td>\n",
       "      <td>76</td>\n",
       "      <td>artist</td>\n",
       "    </tr>\n",
       "    <tr>\n",
       "      <th>17</th>\n",
       "      <td>1224294</td>\n",
       "      <td>[alternative hip hop, conscious hip hop, east ...</td>\n",
       "      <td>A Tribe Called Quest</td>\n",
       "      <td>72</td>\n",
       "      <td>artist</td>\n",
       "    </tr>\n",
       "    <tr>\n",
       "      <th>19</th>\n",
       "      <td>71329</td>\n",
       "      <td>[deep house, electronica, float house, indie j...</td>\n",
       "      <td>HNNY</td>\n",
       "      <td>61</td>\n",
       "      <td>artist</td>\n",
       "    </tr>\n",
       "    <tr>\n",
       "      <th>13</th>\n",
       "      <td>102802</td>\n",
       "      <td>[aussietronica, australian house, float house,...</td>\n",
       "      <td>Mall Grab</td>\n",
       "      <td>57</td>\n",
       "      <td>artist</td>\n",
       "    </tr>\n",
       "    <tr>\n",
       "      <th>0</th>\n",
       "      <td>48408</td>\n",
       "      <td>[banjo, celtic, irish banjo, irish country, ir...</td>\n",
       "      <td>Luke Kelly</td>\n",
       "      <td>52</td>\n",
       "      <td>artist</td>\n",
       "    </tr>\n",
       "    <tr>\n",
       "      <th>11</th>\n",
       "      <td>35661</td>\n",
       "      <td>[deep house, electronica, float house, lo-fi h...</td>\n",
       "      <td>DJ Seinfeld</td>\n",
       "      <td>49</td>\n",
       "      <td>artist</td>\n",
       "    </tr>\n",
       "    <tr>\n",
       "      <th>9</th>\n",
       "      <td>7012</td>\n",
       "      <td>[]</td>\n",
       "      <td>Mosie</td>\n",
       "      <td>44</td>\n",
       "      <td>artist</td>\n",
       "    </tr>\n",
       "  </tbody>\n",
       "</table>\n",
       "</div>"
      ],
      "text/plain": [
       "   followers                                             genres  \\\n",
       "6   47296312  [canadian hip hop, canadian pop, hip hop, pop ...   \n",
       "3   10165180                         [chicago rap, melodic rap]   \n",
       "1   21336414     [canadian contemporary r&b, canadian pop, pop]   \n",
       "14  28078338                                  [electropop, pop]   \n",
       "2   16527701  [beatlesque, british invasion, classic rock, m...   \n",
       "16  26560524                                  [glam rock, rock]   \n",
       "5    7997390                           [atl hip hop, rap, trap]   \n",
       "7    7086601  [east coast hip hop, hip hop, pop rap, rap, so...   \n",
       "10   8729613  [album rock, british invasion, classic rock, r...   \n",
       "15   5568232  [album rock, art rock, classic rock, dance roc...   \n",
       "12    286465          [bedroom pop, indie pop, indie poptimism]   \n",
       "4    1967935                    [german soundtrack, soundtrack]   \n",
       "8    1941157  [conscious hip hop, east coast hip hop, gangst...   \n",
       "18   1857631  [album rock, canadian singer-songwriter, class...   \n",
       "17   1224294  [alternative hip hop, conscious hip hop, east ...   \n",
       "19     71329  [deep house, electronica, float house, indie j...   \n",
       "13    102802  [aussietronica, australian house, float house,...   \n",
       "0      48408  [banjo, celtic, irish banjo, irish country, ir...   \n",
       "11     35661  [deep house, electronica, float house, lo-fi h...   \n",
       "9       7012                                                 []   \n",
       "\n",
       "                    name  popularity    type  \n",
       "6                  Drake         100  artist  \n",
       "3             Juice WRLD          97  artist  \n",
       "1             The Weeknd          97  artist  \n",
       "14         Billie Eilish          94  artist  \n",
       "2            The Beatles          90  artist  \n",
       "16                 Queen          90  artist  \n",
       "5              21 Savage          87  artist  \n",
       "7             A$AP Rocky          87  artist  \n",
       "10    The Rolling Stones          84  artist  \n",
       "15           David Bowie          83  artist  \n",
       "12         Gus Dapperton          83  artist  \n",
       "4            Hans Zimmer          80  artist  \n",
       "8                    Nas          77  artist  \n",
       "18            Neil Young          76  artist  \n",
       "17  A Tribe Called Quest          72  artist  \n",
       "19                  HNNY          61  artist  \n",
       "13             Mall Grab          57  artist  \n",
       "0             Luke Kelly          52  artist  \n",
       "11           DJ Seinfeld          49  artist  \n",
       "9                  Mosie          44  artist  "
      ]
     },
     "execution_count": 39,
     "metadata": {},
     "output_type": "execute_result"
    }
   ],
   "source": [
    "def make_df(response):\n",
    "    \"\"\"Pass results from Spotfy API call and returns cleaned DataFrame\"\"\"\n",
    "    items = pd.DataFrame(response['items'])\n",
    "    # Drop unnecessary columns\n",
    "    items = items.drop(['external_urls', 'href', 'id', 'images', 'uri'], axis=1)\n",
    "    # Followes column needs cleaning\n",
    "    for i in range(0, len(items)):\n",
    "        items.followers[i] = items.followers[i]['total']\n",
    "\n",
    "    return items.sort_values(by='popularity', ascending=False)\n",
    "    \n",
    "    \n",
    "artists = make_df(results)\n",
    "artists"
   ]
  },
  {
   "cell_type": "markdown",
   "metadata": {},
   "source": [
    "### Plot Favourites"
   ]
  },
  {
   "cell_type": "code",
   "execution_count": 42,
   "metadata": {},
   "outputs": [
    {
     "data": {
      "text/plain": [
       "<BarContainer object of 10 artists>"
      ]
     },
     "execution_count": 42,
     "metadata": {},
     "output_type": "execute_result"
    },
    {
     "data": {
      "image/png": "[encoded data removed]",
      "text/plain": [
       "<Figure size 1080x720 with 1 Axes>"
      ]
     },
     "metadata": {
      "needs_background": "light"
     },
     "output_type": "display_data"
    }
   ],
   "source": [
    "fig, ax = plt.subplots(figsize=(15,10))\n",
    "ax.barh(artists.name, artists.popularity)"
   ]
  },
  {
   "cell_type": "markdown",
   "metadata": {},
   "source": [
    "# Scrape Artist Ethnicity\n",
    "https://ethnicelebs.com/"
   ]
  },
  {
   "cell_type": "code",
   "execution_count": 4,
   "metadata": {},
   "outputs": [],
   "source": [
    "# from bs4 import BeautifulSoup as bs4\n",
    "# import requests"
   ]
  },
  {
   "cell_type": "markdown",
   "metadata": {},
   "source": [
    "## Scrape all paragraphs on page"
   ]
  },
  {
   "cell_type": "code",
   "execution_count": 5,
   "metadata": {
    "jupyter": {
     "source_hidden": true
    }
   },
   "outputs": [],
   "source": [
    "# def get_paragraph(artist_name):\n",
    "#     headers = {'User-Agent': 'Mozilla/5.0 (Windows NT 6.3; Win64; x64) AppleWebKit/537.36 (KHTML, like Gecko) Chrome/54.0.2840.71 Safari/537.36'}\n",
    "#     base_url = \"https://ethnicelebs.com/\"\n",
    "    \n",
    "#     # Parsed artists name\n",
    "#     parse_name = artist_name.replace(\" \", \"-\")\n",
    "#     req = requests.get(base_url+parse_name, headers=headers)\n",
    "#     soup = bs4(req.content, \"html.parser\")\n",
    "\n",
    "#     # Find all <p> elements\n",
    "#     para = str(soup.find_all('p'))\n",
    "\n",
    "#     # Find range of string\n",
    "#     string_start = para.find(\"Ethnicity: \") + len(\"Ethnicity: \")\n",
    "#     string_end = para.find(\"</strong\")\n",
    "#     race = para[string_start:string_end]\n",
    "    \n",
    "#     if len(race) < 100:\n",
    "#         return race\n"
   ]
  },
  {
   "cell_type": "markdown",
   "metadata": {},
   "source": [
    "&nbsp;\n",
    "### Add races for each artist in df\n",
    "Using BeautifulSoup is really slow."
   ]
  },
  {
   "cell_type": "code",
   "execution_count": 6,
   "metadata": {},
   "outputs": [],
   "source": [
    "# # Iterate over names and scrape\n",
    "# races = []\n",
    "# for artist in artists.name:\n",
    "#     races.append(get_paragraph(artist))"
   ]
  },
  {
   "cell_type": "code",
   "execution_count": 7,
   "metadata": {},
   "outputs": [],
   "source": [
    "# # Convert to Pandas Series and add to df\n",
    "# artists_races = pd.Series( v for v in races )    \n",
    "# artists['race'] = artists_races\n",
    "# artists.head(5)"
   ]
  },
  {
   "cell_type": "markdown",
   "metadata": {},
   "source": [
    "#### Plot specific races\n",
    "This plot has many specific races which gives a very messy graph. Grouping the ethnicities and removing the None values would be an improvement"
   ]
  },
  {
   "cell_type": "code",
   "execution_count": 8,
   "metadata": {},
   "outputs": [],
   "source": [
    "# fig, ax = plt.subplots(figsize=(22,7))\n",
    "# artists.plot.barh(x ='race', y='popularity', ax=ax)"
   ]
  },
  {
   "cell_type": "markdown",
   "metadata": {},
   "source": [
    "&nbsp;\n",
    "### Group ethnicities\n",
    "- The artists not found from scraping are 'Unknown\n",
    "- Some *assumptions* for the other races"
   ]
  },
  {
   "cell_type": "code",
   "execution_count": 9,
   "metadata": {},
   "outputs": [],
   "source": [
    "# artists.race.loc[ artists.race.isnull() == True ] = 'Unknown'\n",
    "# artists.race.loc[ artists.race.str.contains('English|Irish|Jewish') == True ] = 'White'\n",
    "# artists.race.loc[ artists.race.str.contains('African|Black|Ethiopian') == True ] = 'Black'"
   ]
  },
  {
   "cell_type": "markdown",
   "metadata": {},
   "source": [
    "#### Plot grouped races\n",
    "- count() prevents popularity playing a role in the numbers\n",
    "- unstack() breaks the groupby into further groups (not sure)"
   ]
  },
  {
   "cell_type": "code",
   "execution_count": 10,
   "metadata": {},
   "outputs": [],
   "source": [
    "# fig, ax = plt.subplots(figsize=(15,7))\n",
    "\n",
    "# # Group and plot\n",
    "# artists.groupby('race').count().unstack().popularity.plot.bar(ax=ax)"
   ]
  },
  {
   "cell_type": "markdown",
   "metadata": {},
   "source": [
    "&nbsp;\n",
    "# ScraPy Efficient Scraping\n",
    "BeautifulSoup was useful for starting off with scraping but it is pretty slow. ScraPy requires a little more setup but supports asynchrony making it a lot faster."
   ]
  },
  {
   "cell_type": "markdown",
   "metadata": {},
   "source": [
    "### Defining the Spider\n",
    "A spider in ScraPy is a class written in Python to define the way data will be searched and parsed on the website."
   ]
  },
  {
   "cell_type": "code",
   "execution_count": 1,
   "metadata": {
    "jupyter": {
     "source_hidden": true
    }
   },
   "outputs": [],
   "source": [
    "import scrapy\n",
    "from scrapy.crawler import CrawlerProcess\n",
    "\n",
    "class EthnicScraperSpider(scrapy.Spider):\n",
    "    \"\"\"Scrapes ethnic celebs website using XPath selector\"\"\"\n",
    "    name = 'ethnic-scraper'\n",
    "    allowed_domains = ['ethnicelebs.com'] \n",
    "    \n",
    "    def __init__(self, artist='', *args, **kwargs):\n",
    "        \"\"\"Takes artist as an argument when called\"\"\"\n",
    "        super(EthnicScraperSpider, self).__init__(*args, **kwargs)\n",
    "        self.start_urls = [f'https://ethnicelebs.com/{artist}']\n",
    "\n",
    "    def parse(self, response):\n",
    "        \"\"\"Get artist race\"\"\"\n",
    "        next_page = response.xpath('/html/body/div/div/div/div/div/section/div[2]/article/div/div[2]/div[1]/p[4]/strong/text()').get()\n",
    "        # Find word and exclude\n",
    "        string_start = next_page.find(\"Ethnicity: \") + len(\"Ethnicity: \")\n",
    "        race = next_page[string_start:len(next_page)]\n",
    "        \n",
    "        yield {\n",
    "            'race': race\n",
    "        } "
   ]
  },
  {
   "cell_type": "markdown",
   "metadata": {},
   "source": [
    "### Crawl for 21 Savage & Ye"
   ]
  },
  {
   "cell_type": "code",
   "execution_count": 3,
   "metadata": {
    "jupyter": {
     "source_hidden": true
    }
   },
   "outputs": [],
   "source": [
    "# # Setup scraper\n",
    "# process = CrawlerProcess({\n",
    "#     'USER_AGENT': 'Mozilla/5.0 (Windows NT 10.0; Win64; x64) AppleWebKit/537.36 (KHTML, like Gecko) Chrome/61.0.3163.100 Safari/537.36',\n",
    "#     'FEED_FORMAT': 'json',\n",
    "#     'FEED_URI': '123.json',\n",
    "#     'CONCURRENT_ITEMS': 1\n",
    "# # })\n",
    "\n",
    "# crawler = process.create_crawler(EthnicScraperSpider)\n",
    "# process.crawl(crawler, artist='21-savage')\n",
    "# process.start()"
   ]
  },
  {
   "cell_type": "markdown",
   "metadata": {},
   "source": [
    "&nbsp;\n",
    "## Defining the Wikipedia Spider\n",
    "After looking at some of the artists on Wikipedia, spaces in the URL seems to be filled with underscores-as opposed to dashes in ethniccelebs. This Spider will find the country of origin and the age of the artist."
   ]
  },
  {
   "cell_type": "code",
   "execution_count": 4,
   "metadata": {
    "jupyter": {
     "source_hidden": true
    }
   },
   "outputs": [],
   "source": [
    "import scrapy\n",
    "from scrapy.crawler import CrawlerProcess\n",
    "\n",
    "class WikiSpider(scrapy.Spider):\n",
    "    \"\"\"Scrapes Wikipedia using CSS selector\"\"\"\n",
    "    name = \"wiki\"\n",
    "    allowed_domains = ['wikipedia.org'] \n",
    "    start_urls = ['https://wikipedia.org/wiki/']\n",
    "\n",
    "    def __init__(self, artist='', *args, **kwargs):\n",
    "        \"\"\"Takes artist as an argument when called\"\"\"\n",
    "        # Replaces spaces with \"_\" for website\n",
    "        artist = artist.replace(\" \", \"_\")\n",
    "        self.start_urls = [f'https://wikipedia.org/wiki/{artist}']\n",
    "\n",
    "    def parse(self, response):\n",
    "        \"\"\"Get artist race\"\"\"    \n",
    "        # Trim brackets and age\n",
    "        age = response.xpath('/html/body/div[3]/div[3]/div[4]/div/table[1]/tbody/tr[5]/td/span[2]/text()').get()\n",
    "        age = age.strip(')').lstrip(' (age ')\n",
    "\n",
    "        country = response.xpath('/html/body/div[3]/div[3]/div[4]/div/table[1]/tbody/tr[6]/td/text()').get()\n",
    "        region = response.xpath('/html/body/div[3]/div[3]/div[4]/div/table[1]/tbody/tr[6]/td/a[2]/text()').get()\n",
    "    \n",
    "        yield {\n",
    "            'country': country,\n",
    "            'region': region,\n",
    "            'age': age\n",
    "        }\n",
    "    \n",
    "# # Setup scraper\n",
    "# process = CrawlerProcess({\n",
    "#     'USER_AGENT': 'Mozilla/5.0 (Windows NT 10.0; Win64; x64) AppleWebKit/537.36 (KHTML, like Gecko) Chrome/61.0.3163.100 Safari/537.36'\n",
    "# })\n",
    "\n",
    "# # Instantiate class and pass artist\n",
    "# process.crawl(WikiSpider, artist='21 Savage')\n",
    "# process.start()"
   ]
  },
  {
   "cell_type": "markdown",
   "metadata": {},
   "source": [
    "&nbsp;\n",
    "## Music Brainz API\n",
    "Open music API with a Python binding allowing artists to be searched and their details returned."
   ]
  },
  {
   "cell_type": "code",
   "execution_count": 56,
   "metadata": {},
   "outputs": [
    {
     "name": "stdout",
     "output_type": "stream",
     "text": [
      "{'artist': 'Drake', 'gender': 'male', 'country': 'CA', 'city': 'unknown', 'district': 'unknown', 'age': 33}\n"
     ]
    },
    {
     "ename": "AttributeError",
     "evalue": "'int' object has no attribute 'days'",
     "output_type": "error",
     "traceback": [
      "\u001b[0;31m---------------------------------------------------------------------------\u001b[0m",
      "\u001b[0;31mAttributeError\u001b[0m                            Traceback (most recent call last)",
      "\u001b[0;32m<ipython-input-56-448a5d6e6af2>\u001b[0m in \u001b[0;36m<module>\u001b[0;34m\u001b[0m\n\u001b[1;32m     74\u001b[0m \u001b[0;32mfor\u001b[0m \u001b[0martist\u001b[0m \u001b[0;32min\u001b[0m \u001b[0martists\u001b[0m\u001b[0;34m.\u001b[0m\u001b[0mname\u001b[0m\u001b[0;34m:\u001b[0m\u001b[0;34m\u001b[0m\u001b[0;34m\u001b[0m\u001b[0m\n\u001b[1;32m     75\u001b[0m \u001b[0;31m#     artist_info.update(get_brainz_artist(artist))\u001b[0m\u001b[0;34m\u001b[0m\u001b[0;34m\u001b[0m\u001b[0;34m\u001b[0m\u001b[0m\n\u001b[0;32m---> 76\u001b[0;31m     \u001b[0mprint\u001b[0m\u001b[0;34m(\u001b[0m\u001b[0mget_brainz_artist\u001b[0m\u001b[0;34m(\u001b[0m\u001b[0martist\u001b[0m\u001b[0;34m)\u001b[0m\u001b[0;34m)\u001b[0m\u001b[0;34m\u001b[0m\u001b[0;34m\u001b[0m\u001b[0m\n\u001b[0m\u001b[1;32m     77\u001b[0m     \u001b[0mtime\u001b[0m\u001b[0;34m.\u001b[0m\u001b[0msleep\u001b[0m\u001b[0;34m(\u001b[0m\u001b[0;36m1\u001b[0m\u001b[0;34m)\u001b[0m\u001b[0;34m\u001b[0m\u001b[0;34m\u001b[0m\u001b[0m\n\u001b[1;32m     78\u001b[0m \u001b[0;34m\u001b[0m\u001b[0m\n",
      "\u001b[0;32m<ipython-input-56-448a5d6e6af2>\u001b[0m in \u001b[0;36mget_brainz_artist\u001b[0;34m(artist_name)\u001b[0m\n\u001b[1;32m     57\u001b[0m \u001b[0;31m#                 age = passed - born\u001b[0m\u001b[0;34m\u001b[0m\u001b[0;34m\u001b[0m\u001b[0;34m\u001b[0m\u001b[0m\n\u001b[1;32m     58\u001b[0m \u001b[0;34m\u001b[0m\u001b[0m\n\u001b[0;32m---> 59\u001b[0;31m             \u001b[0mage\u001b[0m \u001b[0;34m=\u001b[0m \u001b[0mmath\u001b[0m\u001b[0;34m.\u001b[0m\u001b[0mfloor\u001b[0m\u001b[0;34m(\u001b[0m\u001b[0mage\u001b[0m\u001b[0;34m.\u001b[0m\u001b[0mdays\u001b[0m\u001b[0;34m/\u001b[0m\u001b[0;36m365\u001b[0m\u001b[0;34m)\u001b[0m\u001b[0;34m\u001b[0m\u001b[0;34m\u001b[0m\u001b[0m\n\u001b[0m\u001b[1;32m     60\u001b[0m \u001b[0;34m\u001b[0m\u001b[0m\n\u001b[1;32m     61\u001b[0m     \u001b[0;32mif\u001b[0m \u001b[0mage\u001b[0m \u001b[0;34m==\u001b[0m \u001b[0;36m0\u001b[0m\u001b[0;34m:\u001b[0m\u001b[0;34m\u001b[0m\u001b[0;34m\u001b[0m\u001b[0m\n",
      "\u001b[0;31mAttributeError\u001b[0m: 'int' object has no attribute 'days'"
     ]
    }
   ],
   "source": [
    "import musicbrainzngs as brainz\n",
    "from datetime import date\n",
    "import datetime as dt\n",
    "import math\n",
    "import pandas as pd\n",
    "import time\n",
    "\n",
    "def get_brainz_artist(artist_name):\n",
    "    \"\"\"Pass artist name and returns age, country and gender\"\"\"\n",
    "    # Set name of app\n",
    "    brainz.set_useragent('lxm', version='1')\n",
    "\n",
    "    # Get first artist in search\n",
    "    artist = brainz.search_artists(artist_name, limit=1)['artist-list'][0]\n",
    "    \n",
    "    # Check gender key in JSON\n",
    "    if 'type' in artist:    \n",
    "        # Check if solo artist\n",
    "        if artist['type'] == 'Person':\n",
    "            gender = artist['gender']\n",
    "        elif artist['type'] == 'Group':\n",
    "            gender = 'mixed'\n",
    "    else:\n",
    "        gender = 'Unknown'\n",
    "        \n",
    "    # Check country key\n",
    "    if 'country' in artist:\n",
    "        country = artist['country']\n",
    "    else:\n",
    "        country = 'Unknown'\n",
    "        \n",
    "    district = 'unknown'\n",
    "    city = 'unknown'\n",
    "    # Check area key\n",
    "    if 'area' in artist:\n",
    "        # Check area name and type\n",
    "        if 'type' in artist['area'] and 'name' in artist['area']:\n",
    "            if artist['area']['type'] == 'District':\n",
    "                district = artist['area']['name']\n",
    "            elif artist['area']['type'] == 'City':\n",
    "                city = artist['area']['name']     \n",
    "    \n",
    "    age = 0\n",
    "    # Check life-span key\n",
    "    if 'life-span' in artist:\n",
    "        if 'begin' in artist['life-span']:\n",
    "            born = artist['life-span']['begin']\n",
    "            born = dt.datetime.strptime(born, '%Y-%m-%d').date()\n",
    "\n",
    "            # If artist is still with us\n",
    "            if artist['life-span']['ended'] == 'false':         \n",
    "                # Find age as of today\n",
    "                age = date.today() - born\n",
    "#             else:\n",
    "#                 passed = artist['life-span']['ended']\n",
    "#                 passed = dt.datetime.strptime(passed, '%Y-%m-%d').date()\n",
    "#                 age = passed - born\n",
    "\n",
    "            age = math.floor(age.days/365)\n",
    "            \n",
    "    if age == 0:\n",
    "        age = 'unknown'\n",
    "        \n",
    "    return {\n",
    "        'artist': artist_name,\n",
    "        'gender': gender, \n",
    "        'country': country, \n",
    "        'city': city,\n",
    "        'district': district,\n",
    "        'age': age\n",
    "    }\n",
    "\n",
    "artist_info = {}\n",
    "for artist in artists.name:\n",
    "#     artist_info.update(get_brainz_artist(artist))\n",
    "    print(get_brainz_artist(artist))\n",
    "    time.sleep(1)\n",
    "    \n",
    "# artist_info"
   ]
  },
  {
   "cell_type": "code",
   "execution_count": null,
   "metadata": {},
   "outputs": [],
   "source": [
    "artist_info\n",
    "# races = pd.DataFrame(artist_info, index=[0])\n",
    "# races"
   ]
  },
  {
   "cell_type": "code",
   "execution_count": 52,
   "metadata": {},
   "outputs": [
    {
     "data": {
      "text/plain": [
       "6                    Drake\n",
       "3               Juice WRLD\n",
       "1               The Weeknd\n",
       "14           Billie Eilish\n",
       "2              The Beatles\n",
       "16                   Queen\n",
       "5                21 Savage\n",
       "7               A$AP Rocky\n",
       "10      The Rolling Stones\n",
       "15             David Bowie\n",
       "12           Gus Dapperton\n",
       "4              Hans Zimmer\n",
       "8                      Nas\n",
       "18              Neil Young\n",
       "17    A Tribe Called Quest\n",
       "19                    HNNY\n",
       "13               Mall Grab\n",
       "0               Luke Kelly\n",
       "11             DJ Seinfeld\n",
       "9                    Mosie\n",
       "Name: name, dtype: object"
      ]
     },
     "execution_count": 52,
     "metadata": {},
     "output_type": "execute_result"
    }
   ],
   "source": [
    "artists.name"
   ]
  },
  {
   "cell_type": "markdown",
   "metadata": {},
   "source": [
    "### Bypass API Rate Limit\n",
    "The API I'm using limits the amount of requests per minute to 60 so getting rid of this is a good idea."
   ]
  },
  {
   "cell_type": "code",
   "execution_count": 53,
   "metadata": {},
   "outputs": [
    {
     "name": "stdout",
     "output_type": "stream",
     "text": [
      "{'alias-list': [{'alias': 'Juice WRLD 999', 'sort-name': 'Juice WRLD 999'},\n",
      "                {'alias': 'Juice TheKidd', 'sort-name': 'Juice TheKidd'},\n",
      "                {'alias': 'Juice WORLD', 'sort-name': 'Juice WORLD'},\n",
      "                {'alias': 'Jarad Anthony Higgins',\n",
      "                 'sort-name': 'Higgins, Jarad Anthony',\n",
      "                 'type': 'Legal name'}],\n",
      " 'area': {'id': '489ce91b-6658-3307-9877-795b68554c98',\n",
      "          'life-span': {'ended': 'false'},\n",
      "          'name': 'United States',\n",
      "          'sort-name': 'United States',\n",
      "          'type': 'Country'},\n",
      " 'begin-area': {'id': '29a709d8-0320-493e-8d0c-f2c386662b7f',\n",
      "                'life-span': {'ended': 'false'},\n",
      "                'name': 'Chicago',\n",
      "                'sort-name': 'Chicago',\n",
      "                'type': 'City'},\n",
      " 'country': 'US',\n",
      " 'disambiguation': 'US rapper',\n",
      " 'end-area': {'id': '9abe1407-8c54-4d22-933b-82c3b574716a',\n",
      "              'life-span': {'ended': 'false'},\n",
      "              'name': 'Oak Lawn',\n",
      "              'sort-name': 'Oak Lawn',\n",
      "              'type': 'City'},\n",
      " 'ext:score': '100',\n",
      " 'gender': 'male',\n",
      " 'id': '4e4ebde4-0c56-4dec-844b-6c73adcdd92d',\n",
      " 'life-span': {'begin': '1998-12-02', 'end': '2019-12-08', 'ended': 'true'},\n",
      " 'name': 'Juice WRLD',\n",
      " 'sort-name': 'Juice WRLD',\n",
      " 'type': 'Person'}\n"
     ]
    }
   ],
   "source": [
    "import pprint as pp\n",
    "brainz.set_useragent('hjvdksv', version='1')\n",
    "\n",
    "artist = brainz.search_artists('Juice WRLD', limit=1)['artist-list'][0]#['area']\n",
    "pp.pprint(artist)"
   ]
  },
  {
   "cell_type": "code",
   "execution_count": null,
   "metadata": {},
   "outputs": [],
   "source": [
    "#     # Get artist age \n",
    "#     if artist['life-span']['begin'] is not None:\n",
    "#         # Date artist was born and parse as Date\n",
    "#         born = artist['life-span']['begin']\n",
    "#         born = dt.datetime.strptime(born, '%Y-%m-%d').date()\n",
    "        \n",
    "#         # If artist is still with us\n",
    "#         if artist['life-span']['ended'] == 'false':         \n",
    "#             # Find age as of today\n",
    "#             age = date.today() - born\n",
    "#         else:\n",
    "#             passed = artist['life-span']['ended']\n",
    "#             passed = dt.datetime.strptime(passed, '%Y-%m-%d').date()\n",
    "#             age = passed - born\n",
    "            \n",
    "#         age = math.floor(age.days/365)\n",
    "#     else: \n",
    "#         age = None "
   ]
  }
 ],
 "metadata": {
  "kernelspec": {
   "display_name": "Python 3.7.5 64-bit",
   "language": "python",
   "name": "python37564bite837ac3d978644508280cde9286add7f"
  },
  "language_info": {
   "codemirror_mode": {
    "name": "ipython",
    "version": 3
   },
   "file_extension": ".py",
   "mimetype": "text/x-python",
   "name": "python",
   "nbconvert_exporter": "python",
   "pygments_lexer": "ipython3",
   "version": "3.8.2"
  },
  "toc-autonumbering": false,
  "toc-showcode": false,
  "toc-showmarkdowntxt": false
 },
 "nbformat": 4,
 "nbformat_minor": 4
}
