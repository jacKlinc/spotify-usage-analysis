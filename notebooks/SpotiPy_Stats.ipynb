{
 "cells": [
  {
   "cell_type": "markdown",
   "metadata": {},
   "source": [
    "# Spotify Usage Analysis\n",
    "I want to find out who I listen to and what their basic background is.\n",
    "[Medium Article](https://medium.com/@RareLoot/extracting-spotify-data-on-your-favourite-artist-via-python-d58bc92a4330)\n",
    "[Examples](https://github.com/plamere/spotipy/tree/master/examples)"
   ]
  },
  {
   "cell_type": "code",
   "execution_count": 35,
   "metadata": {},
   "outputs": [],
   "source": [
    "import pandas as pd\n",
    "import spotipy\n",
    "from spotipy.oauth2 import SpotifyClientCredentials\n",
    "import spotipy.util as util\n",
    "import matplotlib.pyplot as plt\n",
    "import numpy as np\n",
    "import os\n",
    "from client_secret import *"
   ]
  },
  {
   "cell_type": "markdown",
   "metadata": {},
   "source": [
    "## Setup Spotify API connection"
   ]
  },
  {
   "cell_type": "code",
   "execution_count": 36,
   "metadata": {},
   "outputs": [],
   "source": [
    "scope = \"user-top-read\"\n",
    "redirect_uri = \"http://localhost:8080\"\n",
    "\n",
    "client_credentials_manager = SpotifyClientCredentials(client_id=client_id, client_secret=client_secret)\n",
    "sp = spotipy.Spotify(client_credentials_manager=client_credentials_manager) #spotify object to access API\n",
    "\n",
    "# Create security token\n",
    "token = util.prompt_for_user_token(username,\n",
    "                           scope,\n",
    "                           client_id=client_id,\n",
    "                           client_secret=client_secret,\n",
    "                           redirect_uri=redirect_uri)"
   ]
  },
  {
   "cell_type": "markdown",
   "metadata": {},
   "source": [
    "## Get my favourite artists"
   ]
  },
  {
   "cell_type": "code",
   "execution_count": 37,
   "metadata": {},
   "outputs": [
    {
     "data": {
      "text/html": [
       "<div>\n",
       "<style scoped>\n",
       "    .dataframe tbody tr th:only-of-type {\n",
       "        vertical-align: middle;\n",
       "    }\n",
       "\n",
       "    .dataframe tbody tr th {\n",
       "        vertical-align: top;\n",
       "    }\n",
       "\n",
       "    .dataframe thead th {\n",
       "        text-align: right;\n",
       "    }\n",
       "</style>\n",
       "<table border=\"1\" class=\"dataframe\">\n",
       "  <thead>\n",
       "    <tr style=\"text-align: right;\">\n",
       "      <th></th>\n",
       "      <th>name</th>\n",
       "      <th>popularity</th>\n",
       "      <th>followers</th>\n",
       "      <th>genre</th>\n",
       "    </tr>\n",
       "  </thead>\n",
       "  <tbody>\n",
       "    <tr>\n",
       "      <th>0</th>\n",
       "      <td>Luke Kelly</td>\n",
       "      <td>52</td>\n",
       "      <td>47609</td>\n",
       "      <td>banjo,celtic,irish banjo,irish country,irish f...</td>\n",
       "    </tr>\n",
       "    <tr>\n",
       "      <th>1</th>\n",
       "      <td>The Weeknd</td>\n",
       "      <td>97</td>\n",
       "      <td>20838462</td>\n",
       "      <td>canadian contemporary r&amp;b,canadian pop,pop,</td>\n",
       "    </tr>\n",
       "    <tr>\n",
       "      <th>2</th>\n",
       "      <td>The Beatles</td>\n",
       "      <td>90</td>\n",
       "      <td>16336613</td>\n",
       "      <td>beatlesque,british invasion,classic rock,merse...</td>\n",
       "    </tr>\n",
       "    <tr>\n",
       "      <th>3</th>\n",
       "      <td>Juice WRLD</td>\n",
       "      <td>96</td>\n",
       "      <td>9793200</td>\n",
       "      <td>chicago rap,melodic rap,</td>\n",
       "    </tr>\n",
       "    <tr>\n",
       "      <th>4</th>\n",
       "      <td>Hans Zimmer</td>\n",
       "      <td>80</td>\n",
       "      <td>1949558</td>\n",
       "      <td>german soundtrack,soundtrack,</td>\n",
       "    </tr>\n",
       "  </tbody>\n",
       "</table>\n",
       "</div>"
      ],
      "text/plain": [
       "          name  popularity  followers  \\\n",
       "0   Luke Kelly          52      47609   \n",
       "1   The Weeknd          97   20838462   \n",
       "2  The Beatles          90   16336613   \n",
       "3   Juice WRLD          96    9793200   \n",
       "4  Hans Zimmer          80    1949558   \n",
       "\n",
       "                                               genre  \n",
       "0  banjo,celtic,irish banjo,irish country,irish f...  \n",
       "1        canadian contemporary r&b,canadian pop,pop,  \n",
       "2  beatlesque,british invasion,classic rock,merse...  \n",
       "3                           chicago rap,melodic rap,  \n",
       "4                      german soundtrack,soundtrack,  "
      ]
     },
     "execution_count": 37,
     "metadata": {},
     "output_type": "execute_result"
    }
   ],
   "source": [
    "if token:\n",
    "    sp = spotipy.Spotify(auth=token)\n",
    "    sp.trace = False\n",
    "    ranges = ['short_term', 'medium_term', 'long_term']\n",
    "    for r in ranges:\n",
    "        results = sp.current_user_top_artists(time_range=r, limit=50)\n",
    "\n",
    "name=[]\n",
    "popularity=[]\n",
    "genres=[]\n",
    "followers=[]\n",
    "\n",
    "for artist in results['items']:\n",
    "    if len(artist['genres']) > 0:\n",
    "        name.append(artist['name'])\n",
    "        popularity.append(artist['popularity'])\n",
    "        followers.append(artist['followers']['total'])\n",
    "        csv_genre=''\n",
    "        for genre in artist['genres']:\n",
    "            csv_genre+=genre+','\n",
    "        genres.append(csv_genre)\n",
    "        \n",
    "artists = pd.DataFrame()\n",
    "artists['name'] = name\n",
    "artists['popularity'] = popularity\n",
    "artists['followers'] = followers\n",
    "artists['genre'] = genres\n",
    "artists.head(5)"
   ]
  },
  {
   "cell_type": "markdown",
   "metadata": {},
   "source": [
    "### Plot Favourites"
   ]
  },
  {
   "cell_type": "code",
   "execution_count": 38,
   "metadata": {},
   "outputs": [
    {
     "data": {
      "text/plain": [
       "<matplotlib.axes._subplots.AxesSubplot at 0x7f6e02a7be50>"
      ]
     },
     "execution_count": 38,
     "metadata": {},
     "output_type": "execute_result"
    },
    {
     "data": {
      "image/png": "[encoded data removed]",
      "text/plain": [
       "<Figure size 1080x504 with 1 Axes>"
      ]
     },
     "metadata": {
      "needs_background": "light"
     },
     "output_type": "display_data"
    }
   ],
   "source": [
    "fig, ax = plt.subplots(figsize=(15,7))\n",
    "artists.plot.bar(x ='name', y='popularity', ax=ax)"
   ]
  },
  {
   "cell_type": "markdown",
   "metadata": {},
   "source": [
    "# Scrape Artist Ethnicity\n",
    "https://ethnicelebs.com/"
   ]
  },
  {
   "cell_type": "code",
   "execution_count": 39,
   "metadata": {},
   "outputs": [],
   "source": [
    "from bs4 import BeautifulSoup as bs4\n",
    "import requests"
   ]
  },
  {
   "cell_type": "markdown",
   "metadata": {},
   "source": [
    "## Scrape all paragraphs on page"
   ]
  },
  {
   "cell_type": "code",
   "execution_count": 40,
   "metadata": {},
   "outputs": [],
   "source": [
    "def get_paragraph(artist_name):\n",
    "    headers = {'User-Agent': 'Mozilla/5.0 (Windows NT 6.3; Win64; x64) AppleWebKit/537.36 (KHTML, like Gecko) Chrome/54.0.2840.71 Safari/537.36'}\n",
    "    base_url = \"https://ethnicelebs.com/\"\n",
    "    \n",
    "    # Parsed artists name\n",
    "    parse_name = artist_name.replace(\" \", \"-\")\n",
    "    req = requests.get(base_url+parse_name, headers=headers)\n",
    "    soup = bs4(req.content, \"html.parser\")\n",
    "\n",
    "    # Find all <p> elements\n",
    "    para = str(soup.find_all('p'))\n",
    "\n",
    "    # Find range of string\n",
    "    string_start = para.find(\"Ethnicity: \") + len(\"Ethnicity: \")\n",
    "    string_end = para.find(\"</strong\")\n",
    "    race = para[string_start:string_end]\n",
    "    \n",
    "    if len(race) < 100:\n",
    "#         return 'Artist: '+artist_name+'\\nRace: '+ race\n",
    "        return race\n"
   ]
  },
  {
   "cell_type": "markdown",
   "metadata": {},
   "source": [
    "### Add races for each artist in df\n",
    "Using BeautifulSoup is really slow."
   ]
  },
  {
   "cell_type": "code",
   "execution_count": null,
   "metadata": {},
   "outputs": [],
   "source": [
    "# Iterate over names and scrape\n",
    "races = []\n",
    "for artist in artists.name:\n",
    "    races.append(get_paragraph(artist))"
   ]
  },
  {
   "cell_type": "code",
   "execution_count": null,
   "metadata": {},
   "outputs": [],
   "source": [
    "# Convert to Pandas Series and add to df\n",
    "artists_races = pd.Series( v for v in races )    \n",
    "artists['race'] = artists_races\n",
    "artists.head(5)"
   ]
  },
  {
   "cell_type": "markdown",
   "metadata": {},
   "source": [
    "### Plot specific races\n",
    "This plot has many specific races which gives a very messy graph. Grouping the ethnicities and removing the None values would be an improvement"
   ]
  },
  {
   "cell_type": "code",
   "execution_count": null,
   "metadata": {},
   "outputs": [],
   "source": [
    "fig, ax = plt.subplots(figsize=(15,7))\n",
    "artists.plot.bar(x ='race', y='popularity', ax=ax)"
   ]
  },
  {
   "cell_type": "markdown",
   "metadata": {},
   "source": [
    "### Group ethnicities\n",
    "- The artists not found from scraping are 'Unknown\n",
    "- Some *assumptions* for the other races"
   ]
  },
  {
   "cell_type": "code",
   "execution_count": null,
   "metadata": {},
   "outputs": [],
   "source": [
    "artists.race.loc[ artists.race.isnull() == True ] = 'Unknown'\n",
    "artists.race.loc[ artists.race.str.contains('English|Irish|Jewish') == True ] = 'White'\n",
    "artists.race.loc[ artists.race.str.contains('African|Black|Ethiopian') == True ] = 'Black'"
   ]
  },
  {
   "cell_type": "markdown",
   "metadata": {},
   "source": [
    "### Plot grouped races\n",
    "- count() prevents popularity playing a role in the numbers\n",
    "- unstack() breaks the groupby into further groups (not sure)"
   ]
  },
  {
   "cell_type": "code",
   "execution_count": null,
   "metadata": {},
   "outputs": [],
   "source": [
    "fig, ax = plt.subplots(figsize=(15,7))\n",
    "\n",
    "# Group and plot\n",
    "artists.groupby('race').count().unstack().popularity.plot.bar(ax=ax)"
   ]
  },
  {
   "cell_type": "markdown",
   "metadata": {},
   "source": [
    "## Popularity Weighting System"
   ]
  },
  {
   "cell_type": "code",
   "execution_count": null,
   "metadata": {},
   "outputs": [],
   "source": [
    "update trello, make plan"
   ]
  },
  {
   "cell_type": "markdown",
   "metadata": {},
   "source": [
    "## Get more data"
   ]
  }
 ],
 "metadata": {
  "kernelspec": {
   "display_name": "Python 3.7.5 64-bit",
   "language": "python",
   "name": "python37564bite837ac3d978644508280cde9286add7f"
  },
  "language_info": {
   "codemirror_mode": {
    "name": "ipython",
    "version": 3
   },
   "file_extension": ".py",
   "mimetype": "text/x-python",
   "name": "python",
   "nbconvert_exporter": "python",
   "pygments_lexer": "ipython3",
   "version": "3.8.2"
  }
 },
 "nbformat": 4,
 "nbformat_minor": 4
}
