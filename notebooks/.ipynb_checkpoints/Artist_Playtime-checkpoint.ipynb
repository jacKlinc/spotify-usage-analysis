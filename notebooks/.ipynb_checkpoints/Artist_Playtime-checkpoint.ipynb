{
 "cells": [
  {
   "cell_type": "markdown",
   "metadata": {},
   "source": [
    "# Spotify Weighting System\n",
    "The weighting system used to rank artists is based on data downloaded from Spotify on my usage. It shows how much time I spend listening to a song which I can then use to find how much per artist. \n",
    "\n",
    "The per artist weighting system is based on three equally important factors: \n",
    "- Average listen time (t)\n",
    "- Total listens (L)\n",
    "- Listen recency (R)\n",
    "\n",
    "***Relevance = t X L X R***"
   ]
  },
  {
   "cell_type": "markdown",
   "metadata": {},
   "source": [
    "### Imports and setup"
   ]
  },
  {
   "cell_type": "code",
   "execution_count": 2,
   "metadata": {},
   "outputs": [],
   "source": [
    "import pandas as pd\n",
    "import matplotlib.pyplot as plt\n",
    "import numpy as np\n",
    "from datetime import datetime, date"
   ]
  },
  {
   "cell_type": "code",
   "execution_count": 3,
   "metadata": {},
   "outputs": [
    {
     "data": {
      "text/html": [
       "<div>\n",
       "<style scoped>\n",
       "    .dataframe tbody tr th:only-of-type {\n",
       "        vertical-align: middle;\n",
       "    }\n",
       "\n",
       "    .dataframe tbody tr th {\n",
       "        vertical-align: top;\n",
       "    }\n",
       "\n",
       "    .dataframe thead th {\n",
       "        text-align: right;\n",
       "    }\n",
       "</style>\n",
       "<table border=\"1\" class=\"dataframe\">\n",
       "  <thead>\n",
       "    <tr style=\"text-align: right;\">\n",
       "      <th></th>\n",
       "      <th>artistName</th>\n",
       "      <th>trackName</th>\n",
       "      <th>msPlayed</th>\n",
       "    </tr>\n",
       "    <tr>\n",
       "      <th>endTime</th>\n",
       "      <th></th>\n",
       "      <th></th>\n",
       "      <th></th>\n",
       "    </tr>\n",
       "  </thead>\n",
       "  <tbody>\n",
       "    <tr>\n",
       "      <th>2019-11-26 18:56:00</th>\n",
       "      <td>New York Dolls</td>\n",
       "      <td>Personality Crisis</td>\n",
       "      <td>0</td>\n",
       "    </tr>\n",
       "    <tr>\n",
       "      <th>2019-11-26 18:56:00</th>\n",
       "      <td>Steve Miller Band</td>\n",
       "      <td>Fly Like An Eagle</td>\n",
       "      <td>0</td>\n",
       "    </tr>\n",
       "    <tr>\n",
       "      <th>2019-11-26 18:56:00</th>\n",
       "      <td>Canned Heat</td>\n",
       "      <td>Going Up The Country</td>\n",
       "      <td>3300</td>\n",
       "    </tr>\n",
       "    <tr>\n",
       "      <th>2019-11-26 18:56:00</th>\n",
       "      <td>Black Sabbath</td>\n",
       "      <td>Paranoid</td>\n",
       "      <td>1382</td>\n",
       "    </tr>\n",
       "    <tr>\n",
       "      <th>2019-11-26 18:56:00</th>\n",
       "      <td>Boston</td>\n",
       "      <td>More Than a Feeling</td>\n",
       "      <td>120988</td>\n",
       "    </tr>\n",
       "  </tbody>\n",
       "</table>\n",
       "</div>"
      ],
      "text/plain": [
       "                            artistName             trackName  msPlayed\n",
       "endTime                                                               \n",
       "2019-11-26 18:56:00     New York Dolls    Personality Crisis         0\n",
       "2019-11-26 18:56:00  Steve Miller Band     Fly Like An Eagle         0\n",
       "2019-11-26 18:56:00        Canned Heat  Going Up The Country      3300\n",
       "2019-11-26 18:56:00      Black Sabbath              Paranoid      1382\n",
       "2019-11-26 18:56:00             Boston   More Than a Feeling    120988"
      ]
     },
     "execution_count": 3,
     "metadata": {},
     "output_type": "execute_result"
    }
   ],
   "source": [
    "stream_hist = pd.read_json('../data/Spotify_UsageData_29May2020/StreamingHistory0.json')\n",
    "\n",
    "# Set index as date\n",
    "stream_hist = stream_hist.set_index('endTime')\n",
    "\n",
    "# Sort values\n",
    "stream_hist = stream_hist.sort_values(by='endTime', ascending=False)\n",
    "\n",
    "# Set index as Timestamp\n",
    "stream_hist.index = pd.to_datetime(stream_hist.index)\n",
    "\n",
    "stream_hist.head(5)"
   ]
  },
  {
   "cell_type": "markdown",
   "metadata": {},
   "source": [
    "# &nbsp;\n",
    "\n",
    "## 1. Average Listen Time\n",
    "This section finds the average listen per artist and compares it to the average."
   ]
  },
  {
   "cell_type": "code",
   "execution_count": 4,
   "metadata": {},
   "outputs": [
    {
     "data": {
      "text/plain": [
       "44173.3851"
      ]
     },
     "execution_count": 4,
     "metadata": {},
     "output_type": "execute_result"
    }
   ],
   "source": [
    "mean_played = stream_hist.msPlayed.mean()\n",
    "mean_played"
   ]
  },
  {
   "cell_type": "markdown",
   "metadata": {},
   "source": [
    "Group the DataFram by the artist's name and finds the average listen for that artist."
   ]
  },
  {
   "cell_type": "code",
   "execution_count": 5,
   "metadata": {},
   "outputs": [
    {
     "data": {
      "text/plain": [
       "artistName\n",
       "The Tim Ferriss Show    877573.0\n",
       "Harvey McKay            432853.0\n",
       "Crackazat               396623.0\n",
       "Cameo                   393573.0\n",
       "Tiger Stripes           384728.0\n",
       "                          ...   \n",
       "The Undisputed Truth         0.0\n",
       "The Vines                    0.0\n",
       "OC                           0.0\n",
       "O.T. Genasis                 0.0\n",
       "Lil Xan                      0.0\n",
       "Name: msPlayed, Length: 1137, dtype: float64"
      ]
     },
     "execution_count": 5,
     "metadata": {},
     "output_type": "execute_result"
    }
   ],
   "source": [
    "# Listen time ranges per artist\n",
    "listen_ranges = stream_hist.groupby('artistName').msPlayed.agg('mean').sort_values(ascending=False)\n",
    "listen_ranges"
   ]
  },
  {
   "cell_type": "markdown",
   "metadata": {},
   "source": [
    "## &nbsp;\n",
    "\n",
    "### Artist vs Average"
   ]
  },
  {
   "cell_type": "code",
   "execution_count": 6,
   "metadata": {},
   "outputs": [
    {
     "data": {
      "text/plain": [
       "artistName\n",
       "The Tim Ferriss Show    833399.6149\n",
       "Harvey McKay            388679.6149\n",
       "Crackazat               352449.6149\n",
       "Cameo                   349399.6149\n",
       "Tiger Stripes           340554.6149\n",
       "                           ...     \n",
       "The Undisputed Truth    -44173.3851\n",
       "The Vines               -44173.3851\n",
       "OC                      -44173.3851\n",
       "O.T. Genasis            -44173.3851\n",
       "Lil Xan                 -44173.3851\n",
       "Name: msPlayed, Length: 1137, dtype: float64"
      ]
     },
     "execution_count": 6,
     "metadata": {},
     "output_type": "execute_result"
    }
   ],
   "source": [
    "# Deducts total mean listen time from each artist's\n",
    "artist_relevance = listen_ranges.map(lambda x: x - mean_played)\n",
    "artist_relevance"
   ]
  },
  {
   "cell_type": "markdown",
   "metadata": {},
   "source": [
    "### &nbsp;\n",
    "\n",
    "#### Plot \n",
    "The top 20 artists are plotted below."
   ]
  },
  {
   "cell_type": "code",
   "execution_count": 7,
   "metadata": {},
   "outputs": [
    {
     "data": {
      "text/plain": [
       "<matplotlib.axes._subplots.AxesSubplot at 0x7f229dd0ad90>"
      ]
     },
     "execution_count": 7,
     "metadata": {},
     "output_type": "execute_result"
    },
    {
     "data": {
      "image/png": "[encoded data removed]",
      "text/plain": [
       "<Figure size 1080x504 with 1 Axes>"
      ]
     },
     "metadata": {
      "needs_background": "light"
     },
     "output_type": "display_data"
    }
   ],
   "source": [
    "fig, ax = plt.subplots(figsize=(15,7))\n",
    "artist_relevance.head(20).plot.barh(ax=ax)"
   ]
  },
  {
   "cell_type": "markdown",
   "metadata": {},
   "source": [
    "## &nbsp;\n",
    "\n",
    "### Remove podcasts\n",
    "The most listened per artist are mostly podcasts and I'd like to exclude these from the analysis. A quick way to do this would be to limit only songs with a listen time less than 6 minutes. **This is obviously not the optimal way to decide whether it's a podcast; comparing the song name to Spotify's API would be better.**"
   ]
  },
  {
   "cell_type": "markdown",
   "metadata": {},
   "source": [
    "#### Drop rows based on time\n",
    "Any tracks more than 6 minutes (360000ms) are dropped."
   ]
  },
  {
   "cell_type": "code",
   "execution_count": 8,
   "metadata": {},
   "outputs": [
    {
     "data": {
      "text/html": [
       "<div>\n",
       "<style scoped>\n",
       "    .dataframe tbody tr th:only-of-type {\n",
       "        vertical-align: middle;\n",
       "    }\n",
       "\n",
       "    .dataframe tbody tr th {\n",
       "        vertical-align: top;\n",
       "    }\n",
       "\n",
       "    .dataframe thead th {\n",
       "        text-align: right;\n",
       "    }\n",
       "</style>\n",
       "<table border=\"1\" class=\"dataframe\">\n",
       "  <thead>\n",
       "    <tr style=\"text-align: right;\">\n",
       "      <th></th>\n",
       "      <th>artistName</th>\n",
       "      <th>trackName</th>\n",
       "      <th>msPlayed</th>\n",
       "    </tr>\n",
       "    <tr>\n",
       "      <th>endTime</th>\n",
       "      <th></th>\n",
       "      <th></th>\n",
       "      <th></th>\n",
       "    </tr>\n",
       "  </thead>\n",
       "  <tbody>\n",
       "    <tr>\n",
       "      <th>2019-11-26 18:56:00</th>\n",
       "      <td>New York Dolls</td>\n",
       "      <td>Personality Crisis</td>\n",
       "      <td>0</td>\n",
       "    </tr>\n",
       "    <tr>\n",
       "      <th>2019-11-26 18:56:00</th>\n",
       "      <td>Steve Miller Band</td>\n",
       "      <td>Fly Like An Eagle</td>\n",
       "      <td>0</td>\n",
       "    </tr>\n",
       "    <tr>\n",
       "      <th>2019-11-26 18:56:00</th>\n",
       "      <td>Canned Heat</td>\n",
       "      <td>Going Up The Country</td>\n",
       "      <td>3300</td>\n",
       "    </tr>\n",
       "    <tr>\n",
       "      <th>2019-11-26 18:56:00</th>\n",
       "      <td>Black Sabbath</td>\n",
       "      <td>Paranoid</td>\n",
       "      <td>1382</td>\n",
       "    </tr>\n",
       "    <tr>\n",
       "      <th>2019-11-26 18:56:00</th>\n",
       "      <td>Boston</td>\n",
       "      <td>More Than a Feeling</td>\n",
       "      <td>120988</td>\n",
       "    </tr>\n",
       "    <tr>\n",
       "      <th>2019-11-26 18:56:00</th>\n",
       "      <td>Frank Zappa</td>\n",
       "      <td>Bobby Brown Goes Down</td>\n",
       "      <td>0</td>\n",
       "    </tr>\n",
       "    <tr>\n",
       "      <th>2019-11-26 18:56:00</th>\n",
       "      <td>Cream</td>\n",
       "      <td>White Room</td>\n",
       "      <td>4994</td>\n",
       "    </tr>\n",
       "    <tr>\n",
       "      <th>2019-11-26 18:56:00</th>\n",
       "      <td>T. Rex</td>\n",
       "      <td>I Love To Boogie</td>\n",
       "      <td>0</td>\n",
       "    </tr>\n",
       "    <tr>\n",
       "      <th>2019-11-26 18:56:00</th>\n",
       "      <td>Status Quo</td>\n",
       "      <td>Pictures of Matchstick Men - Mono Version</td>\n",
       "      <td>990</td>\n",
       "    </tr>\n",
       "    <tr>\n",
       "      <th>2019-11-26 18:56:00</th>\n",
       "      <td>Status Quo</td>\n",
       "      <td>Pictures of Matchstick Men - Mono Version</td>\n",
       "      <td>2743</td>\n",
       "    </tr>\n",
       "    <tr>\n",
       "      <th>2019-11-26 18:54:00</th>\n",
       "      <td>Thin Lizzy</td>\n",
       "      <td>The Rocker</td>\n",
       "      <td>960</td>\n",
       "    </tr>\n",
       "    <tr>\n",
       "      <th>2019-11-26 18:54:00</th>\n",
       "      <td>Joe Walsh</td>\n",
       "      <td>A Life of Illusion</td>\n",
       "      <td>1513</td>\n",
       "    </tr>\n",
       "    <tr>\n",
       "      <th>2019-11-26 18:54:00</th>\n",
       "      <td>Rush</td>\n",
       "      <td>The Spirit Of Radio</td>\n",
       "      <td>797</td>\n",
       "    </tr>\n",
       "    <tr>\n",
       "      <th>2019-11-26 18:54:00</th>\n",
       "      <td>David Lee Roth</td>\n",
       "      <td>Just Like Paradise</td>\n",
       "      <td>2015</td>\n",
       "    </tr>\n",
       "    <tr>\n",
       "      <th>2019-11-26 18:52:00</th>\n",
       "      <td>The Jam</td>\n",
       "      <td>That's Entertainment</td>\n",
       "      <td>141464</td>\n",
       "    </tr>\n",
       "  </tbody>\n",
       "</table>\n",
       "</div>"
      ],
      "text/plain": [
       "                            artistName  \\\n",
       "endTime                                  \n",
       "2019-11-26 18:56:00     New York Dolls   \n",
       "2019-11-26 18:56:00  Steve Miller Band   \n",
       "2019-11-26 18:56:00        Canned Heat   \n",
       "2019-11-26 18:56:00      Black Sabbath   \n",
       "2019-11-26 18:56:00             Boston   \n",
       "2019-11-26 18:56:00        Frank Zappa   \n",
       "2019-11-26 18:56:00              Cream   \n",
       "2019-11-26 18:56:00             T. Rex   \n",
       "2019-11-26 18:56:00         Status Quo   \n",
       "2019-11-26 18:56:00         Status Quo   \n",
       "2019-11-26 18:54:00         Thin Lizzy   \n",
       "2019-11-26 18:54:00          Joe Walsh   \n",
       "2019-11-26 18:54:00               Rush   \n",
       "2019-11-26 18:54:00     David Lee Roth   \n",
       "2019-11-26 18:52:00            The Jam   \n",
       "\n",
       "                                                     trackName  msPlayed  \n",
       "endTime                                                                   \n",
       "2019-11-26 18:56:00                         Personality Crisis         0  \n",
       "2019-11-26 18:56:00                          Fly Like An Eagle         0  \n",
       "2019-11-26 18:56:00                       Going Up The Country      3300  \n",
       "2019-11-26 18:56:00                                   Paranoid      1382  \n",
       "2019-11-26 18:56:00                        More Than a Feeling    120988  \n",
       "2019-11-26 18:56:00                      Bobby Brown Goes Down         0  \n",
       "2019-11-26 18:56:00                                 White Room      4994  \n",
       "2019-11-26 18:56:00                           I Love To Boogie         0  \n",
       "2019-11-26 18:56:00  Pictures of Matchstick Men - Mono Version       990  \n",
       "2019-11-26 18:56:00  Pictures of Matchstick Men - Mono Version      2743  \n",
       "2019-11-26 18:54:00                                 The Rocker       960  \n",
       "2019-11-26 18:54:00                         A Life of Illusion      1513  \n",
       "2019-11-26 18:54:00                        The Spirit Of Radio       797  \n",
       "2019-11-26 18:54:00                         Just Like Paradise      2015  \n",
       "2019-11-26 18:52:00                       That's Entertainment    141464  "
      ]
     },
     "execution_count": 8,
     "metadata": {},
     "output_type": "execute_result"
    }
   ],
   "source": [
    "stream_hist = stream_hist.drop(stream_hist[stream_hist.msPlayed > 360000].index)\n",
    "stream_hist.head(15)"
   ]
  },
  {
   "cell_type": "code",
   "execution_count": 9,
   "metadata": {},
   "outputs": [
    {
     "data": {
      "text/plain": [
       "42710.755972180224"
      ]
     },
     "execution_count": 9,
     "metadata": {},
     "output_type": "execute_result"
    }
   ],
   "source": [
    "mean_played = stream_hist.msPlayed.mean()\n",
    "mean_played"
   ]
  },
  {
   "cell_type": "code",
   "execution_count": 35,
   "metadata": {},
   "outputs": [
    {
     "data": {
      "text/plain": [
       "artistName\n",
       "AC Slater      230289.244028\n",
       "Gwen McCrae    225122.910694\n",
       "Billy Joel     218415.244028\n",
       "Matt Corby     205182.244028\n",
       "Flamingosis    171574.244028\n",
       "Name: msPlayed, dtype: float64"
      ]
     },
     "execution_count": 35,
     "metadata": {},
     "output_type": "execute_result"
    }
   ],
   "source": [
    "# Listen time ranges per artist\n",
    "listen_ranges = stream_hist.groupby('artistName').msPlayed.agg('mean').sort_values(ascending=False)\n",
    "listen_time = listen_ranges.map(lambda x: x - mean_played)\n",
    "listen_time.head()"
   ]
  },
  {
   "cell_type": "code",
   "execution_count": 37,
   "metadata": {},
   "outputs": [
    {
     "data": {
      "text/plain": [
       "count    1128.000000\n",
       "mean       -0.090448\n",
       "std         0.183251\n",
       "min        -0.185466\n",
       "25%        -0.182065\n",
       "50%        -0.177081\n",
       "75%        -0.095577\n",
       "max         1.000000\n",
       "Name: msPlayed, dtype: float64"
      ]
     },
     "execution_count": 37,
     "metadata": {},
     "output_type": "execute_result"
    }
   ],
   "source": [
    "# Grade listens from 0-1-divides each value by max\n",
    "listen_time_graded = listen_time.map(lambda x: x / listen_time.max())\n",
    "listen_time_graded.describe()"
   ]
  },
  {
   "cell_type": "markdown",
   "metadata": {},
   "source": [
    "### &nbsp;\n",
    "\n",
    "#### Plot with adjustments\n",
    "I haven't heard of many of the artists in the graph. I think counting total listens might solve this."
   ]
  },
  {
   "cell_type": "code",
   "execution_count": 30,
   "metadata": {},
   "outputs": [
    {
     "data": {
      "text/plain": [
       "<matplotlib.axes._subplots.AxesSubplot at 0x7f229d605700>"
      ]
     },
     "execution_count": 30,
     "metadata": {},
     "output_type": "execute_result"
    },
    {
     "data": {
      "image/png": "[encoded data removed]",
      "text/plain": [
       "<Figure size 1080x504 with 1 Axes>"
      ]
     },
     "metadata": {
      "needs_background": "light"
     },
     "output_type": "display_data"
    }
   ],
   "source": [
    "fig, ax = plt.subplots(figsize=(15,7))\n",
    "artist_relevance_graded.head(20).plot.barh(ax=ax)"
   ]
  },
  {
   "cell_type": "markdown",
   "metadata": {},
   "source": [
    "**Can't say I know many of these artists. Reducing the weight this parameter might be done in future.**"
   ]
  },
  {
   "cell_type": "markdown",
   "metadata": {},
   "source": [
    "# &nbsp;\n",
    "\n",
    "## 2. Total Listens\n",
    "This section counts the total number of listens per artist"
   ]
  },
  {
   "cell_type": "code",
   "execution_count": 19,
   "metadata": {},
   "outputs": [
    {
     "data": {
      "text/plain": [
       "artistName\n",
       "Drake                 254\n",
       "The Rolling Stones    237\n",
       "The Beatles           222\n",
       "Tame Impala           190\n",
       "The Weeknd            172\n",
       "Name: artistName, dtype: int64"
      ]
     },
     "execution_count": 19,
     "metadata": {},
     "output_type": "execute_result"
    }
   ],
   "source": [
    "# How many songs per artists\n",
    "songs_per_artist = stream_hist.groupby('artistName').artistName.count().sort_values(ascending=False)\n",
    "songs_per_artist.head()"
   ]
  },
  {
   "cell_type": "code",
   "execution_count": 33,
   "metadata": {},
   "outputs": [
    {
     "data": {
      "text/plain": [
       "count    1128.000000\n",
       "mean        0.034627\n",
       "std         0.083296\n",
       "min         0.003937\n",
       "25%         0.003937\n",
       "50%         0.011811\n",
       "75%         0.027559\n",
       "max         1.000000\n",
       "Name: artistName, dtype: float64"
      ]
     },
     "execution_count": 33,
     "metadata": {},
     "output_type": "execute_result"
    }
   ],
   "source": [
    "# Grade listens from 0-1-divides each value by max\n",
    "songs_per_artist = songs_per_artist.map(lambda x: x / songs_per_artist.max())\n",
    "songs_per_artist.describe()"
   ]
  },
  {
   "cell_type": "markdown",
   "metadata": {},
   "source": [
    "## &nbsp;\n",
    "\n",
    "### Plot Most Total Listens"
   ]
  },
  {
   "cell_type": "code",
   "execution_count": 22,
   "metadata": {},
   "outputs": [
    {
     "data": {
      "text/plain": [
       "<matplotlib.axes._subplots.AxesSubplot at 0x7f229cc2b1f0>"
      ]
     },
     "execution_count": 22,
     "metadata": {},
     "output_type": "execute_result"
    },
    {
     "data": {
      "image/png": "[encoded data removed]",
      "text/plain": [
       "<Figure size 1080x504 with 1 Axes>"
      ]
     },
     "metadata": {
      "needs_background": "light"
     },
     "output_type": "display_data"
    }
   ],
   "source": [
    "fig, ax = plt.subplots(figsize=(15,7))\n",
    "songs_per_artist.head(20).plot.barh(ax=ax)"
   ]
  },
  {
   "cell_type": "markdown",
   "metadata": {},
   "source": [
    "**This seems a little more reflective of my actual listens. In future weighting I might give more weight to this.**"
   ]
  },
  {
   "cell_type": "markdown",
   "metadata": {},
   "source": [
    "# &nbsp;\n",
    "\n",
    "## 3. Listen Recency\n",
    "This ranks the artist based on how much of their listens have been recent. This will get the most recent date and award points based on how few days have passed since the most recent date."
   ]
  },
  {
   "cell_type": "markdown",
   "metadata": {},
   "source": [
    "### Most recent date"
   ]
  },
  {
   "cell_type": "code",
   "execution_count": 13,
   "metadata": {},
   "outputs": [
    {
     "data": {
      "text/plain": [
       "Timestamp('2019-11-26 18:56:00')"
      ]
     },
     "execution_count": 13,
     "metadata": {},
     "output_type": "execute_result"
    }
   ],
   "source": [
    "# Sort the DataFrame in descending order and find the date of the 0th entry\n",
    "recent_date = stream_hist.iloc[0].name\n",
    "recent_date"
   ]
  },
  {
   "cell_type": "markdown",
   "metadata": {},
   "source": [
    "#### &nbsp;\n",
    "\n",
    "### Days passed since the first entry\n",
    "Finds the number of minutes passed since the most recent date. The value is divides 1 so that the most recent is 1 and the less recent going towards zero."
   ]
  },
  {
   "cell_type": "code",
   "execution_count": 24,
   "metadata": {},
   "outputs": [
    {
     "data": {
      "text/html": [
       "<div>\n",
       "<style scoped>\n",
       "    .dataframe tbody tr th:only-of-type {\n",
       "        vertical-align: middle;\n",
       "    }\n",
       "\n",
       "    .dataframe tbody tr th {\n",
       "        vertical-align: top;\n",
       "    }\n",
       "\n",
       "    .dataframe thead th {\n",
       "        text-align: right;\n",
       "    }\n",
       "</style>\n",
       "<table border=\"1\" class=\"dataframe\">\n",
       "  <thead>\n",
       "    <tr style=\"text-align: right;\">\n",
       "      <th></th>\n",
       "      <th>artistName</th>\n",
       "      <th>trackName</th>\n",
       "      <th>msPlayed</th>\n",
       "      <th>recencyScore</th>\n",
       "    </tr>\n",
       "    <tr>\n",
       "      <th>endTime</th>\n",
       "      <th></th>\n",
       "      <th></th>\n",
       "      <th></th>\n",
       "      <th></th>\n",
       "    </tr>\n",
       "  </thead>\n",
       "  <tbody>\n",
       "    <tr>\n",
       "      <th>2019-11-26 18:56:00</th>\n",
       "      <td>New York Dolls</td>\n",
       "      <td>Personality Crisis</td>\n",
       "      <td>0</td>\n",
       "      <td>1.00</td>\n",
       "    </tr>\n",
       "    <tr>\n",
       "      <th>2019-11-26 18:56:00</th>\n",
       "      <td>Steve Miller Band</td>\n",
       "      <td>Fly Like An Eagle</td>\n",
       "      <td>0</td>\n",
       "      <td>1.00</td>\n",
       "    </tr>\n",
       "    <tr>\n",
       "      <th>2019-11-26 18:56:00</th>\n",
       "      <td>Canned Heat</td>\n",
       "      <td>Going Up The Country</td>\n",
       "      <td>3300</td>\n",
       "      <td>1.00</td>\n",
       "    </tr>\n",
       "    <tr>\n",
       "      <th>2019-11-26 18:56:00</th>\n",
       "      <td>Black Sabbath</td>\n",
       "      <td>Paranoid</td>\n",
       "      <td>1382</td>\n",
       "      <td>1.00</td>\n",
       "    </tr>\n",
       "    <tr>\n",
       "      <th>2019-11-26 18:56:00</th>\n",
       "      <td>Boston</td>\n",
       "      <td>More Than a Feeling</td>\n",
       "      <td>120988</td>\n",
       "      <td>1.00</td>\n",
       "    </tr>\n",
       "    <tr>\n",
       "      <th>2019-11-26 18:56:00</th>\n",
       "      <td>Frank Zappa</td>\n",
       "      <td>Bobby Brown Goes Down</td>\n",
       "      <td>0</td>\n",
       "      <td>1.00</td>\n",
       "    </tr>\n",
       "    <tr>\n",
       "      <th>2019-11-26 18:56:00</th>\n",
       "      <td>Cream</td>\n",
       "      <td>White Room</td>\n",
       "      <td>4994</td>\n",
       "      <td>1.00</td>\n",
       "    </tr>\n",
       "    <tr>\n",
       "      <th>2019-11-26 18:56:00</th>\n",
       "      <td>T. Rex</td>\n",
       "      <td>I Love To Boogie</td>\n",
       "      <td>0</td>\n",
       "      <td>1.00</td>\n",
       "    </tr>\n",
       "    <tr>\n",
       "      <th>2019-11-26 18:56:00</th>\n",
       "      <td>Status Quo</td>\n",
       "      <td>Pictures of Matchstick Men - Mono Version</td>\n",
       "      <td>990</td>\n",
       "      <td>1.00</td>\n",
       "    </tr>\n",
       "    <tr>\n",
       "      <th>2019-11-26 18:56:00</th>\n",
       "      <td>Status Quo</td>\n",
       "      <td>Pictures of Matchstick Men - Mono Version</td>\n",
       "      <td>2743</td>\n",
       "      <td>1.00</td>\n",
       "    </tr>\n",
       "    <tr>\n",
       "      <th>2019-11-26 18:54:00</th>\n",
       "      <td>Thin Lizzy</td>\n",
       "      <td>The Rocker</td>\n",
       "      <td>960</td>\n",
       "      <td>0.50</td>\n",
       "    </tr>\n",
       "    <tr>\n",
       "      <th>2019-11-26 18:54:00</th>\n",
       "      <td>Joe Walsh</td>\n",
       "      <td>A Life of Illusion</td>\n",
       "      <td>1513</td>\n",
       "      <td>0.50</td>\n",
       "    </tr>\n",
       "    <tr>\n",
       "      <th>2019-11-26 18:54:00</th>\n",
       "      <td>Rush</td>\n",
       "      <td>The Spirit Of Radio</td>\n",
       "      <td>797</td>\n",
       "      <td>0.50</td>\n",
       "    </tr>\n",
       "    <tr>\n",
       "      <th>2019-11-26 18:54:00</th>\n",
       "      <td>David Lee Roth</td>\n",
       "      <td>Just Like Paradise</td>\n",
       "      <td>2015</td>\n",
       "      <td>0.50</td>\n",
       "    </tr>\n",
       "    <tr>\n",
       "      <th>2019-11-26 18:52:00</th>\n",
       "      <td>The Jam</td>\n",
       "      <td>That's Entertainment</td>\n",
       "      <td>141464</td>\n",
       "      <td>0.25</td>\n",
       "    </tr>\n",
       "  </tbody>\n",
       "</table>\n",
       "</div>"
      ],
      "text/plain": [
       "                            artistName  \\\n",
       "endTime                                  \n",
       "2019-11-26 18:56:00     New York Dolls   \n",
       "2019-11-26 18:56:00  Steve Miller Band   \n",
       "2019-11-26 18:56:00        Canned Heat   \n",
       "2019-11-26 18:56:00      Black Sabbath   \n",
       "2019-11-26 18:56:00             Boston   \n",
       "2019-11-26 18:56:00        Frank Zappa   \n",
       "2019-11-26 18:56:00              Cream   \n",
       "2019-11-26 18:56:00             T. Rex   \n",
       "2019-11-26 18:56:00         Status Quo   \n",
       "2019-11-26 18:56:00         Status Quo   \n",
       "2019-11-26 18:54:00         Thin Lizzy   \n",
       "2019-11-26 18:54:00          Joe Walsh   \n",
       "2019-11-26 18:54:00               Rush   \n",
       "2019-11-26 18:54:00     David Lee Roth   \n",
       "2019-11-26 18:52:00            The Jam   \n",
       "\n",
       "                                                     trackName  msPlayed  \\\n",
       "endTime                                                                    \n",
       "2019-11-26 18:56:00                         Personality Crisis         0   \n",
       "2019-11-26 18:56:00                          Fly Like An Eagle         0   \n",
       "2019-11-26 18:56:00                       Going Up The Country      3300   \n",
       "2019-11-26 18:56:00                                   Paranoid      1382   \n",
       "2019-11-26 18:56:00                        More Than a Feeling    120988   \n",
       "2019-11-26 18:56:00                      Bobby Brown Goes Down         0   \n",
       "2019-11-26 18:56:00                                 White Room      4994   \n",
       "2019-11-26 18:56:00                           I Love To Boogie         0   \n",
       "2019-11-26 18:56:00  Pictures of Matchstick Men - Mono Version       990   \n",
       "2019-11-26 18:56:00  Pictures of Matchstick Men - Mono Version      2743   \n",
       "2019-11-26 18:54:00                                 The Rocker       960   \n",
       "2019-11-26 18:54:00                         A Life of Illusion      1513   \n",
       "2019-11-26 18:54:00                        The Spirit Of Radio       797   \n",
       "2019-11-26 18:54:00                         Just Like Paradise      2015   \n",
       "2019-11-26 18:52:00                       That's Entertainment    141464   \n",
       "\n",
       "                     recencyScore  \n",
       "endTime                            \n",
       "2019-11-26 18:56:00          1.00  \n",
       "2019-11-26 18:56:00          1.00  \n",
       "2019-11-26 18:56:00          1.00  \n",
       "2019-11-26 18:56:00          1.00  \n",
       "2019-11-26 18:56:00          1.00  \n",
       "2019-11-26 18:56:00          1.00  \n",
       "2019-11-26 18:56:00          1.00  \n",
       "2019-11-26 18:56:00          1.00  \n",
       "2019-11-26 18:56:00          1.00  \n",
       "2019-11-26 18:56:00          1.00  \n",
       "2019-11-26 18:54:00          0.50  \n",
       "2019-11-26 18:54:00          0.50  \n",
       "2019-11-26 18:54:00          0.50  \n",
       "2019-11-26 18:54:00          0.50  \n",
       "2019-11-26 18:52:00          0.25  "
      ]
     },
     "execution_count": 24,
     "metadata": {},
     "output_type": "execute_result"
    }
   ],
   "source": [
    "# Iterate over index and subract most recent date from each entry\n",
    "mins_since=[]\n",
    "for t_stamp in stream_hist.index:\n",
    "    # Gets time in minutes since most recent\n",
    "    minute = (recent_date - t_stamp) / np.timedelta64(1, 'm')\n",
    "    if minute == 0.0:\n",
    "        # If no time has passed max of 1 is given\n",
    "        mins_since.append(1)\n",
    "    else:\n",
    "        # Divde 1 by time passed\n",
    "        mins_since.append(1 / minute)\n",
    "        \n",
    "stream_hist['recencyScore'] = mins_since\n",
    "stream_hist.head(15)\n",
    "\n",
    "# stream_hist['daysPassed'] = stream_hist['daysPassed'].map(lambda x: (recent_date-x) / np.timedelta64(1, 'm'), stream_hist.index)"
   ]
  },
  {
   "cell_type": "markdown",
   "metadata": {},
   "source": [
    "## &nbsp;\n",
    "### Artist's Average Recency Score"
   ]
  },
  {
   "cell_type": "code",
   "execution_count": 15,
   "metadata": {},
   "outputs": [
    {
     "data": {
      "text/plain": [
       "0.0014088373462944552"
      ]
     },
     "execution_count": 15,
     "metadata": {},
     "output_type": "execute_result"
    }
   ],
   "source": [
    "mean_recency = stream_hist.recencyScore.mean()\n",
    "mean_recency"
   ]
  },
  {
   "cell_type": "code",
   "execution_count": 61,
   "metadata": {},
   "outputs": [
    {
     "data": {
      "text/plain": [
       "artistName\n",
       "New York Dolls    0.998591\n",
       "Frank Zappa       0.500666\n",
       "Black Sabbath     0.498598\n",
       "Rush              0.498591\n",
       "David Lee Roth    0.498591\n",
       "Name: recencyScore, dtype: float64"
      ]
     },
     "execution_count": 61,
     "metadata": {},
     "output_type": "execute_result"
    }
   ],
   "source": [
    "# Listen time ranges per artist\n",
    "artist_recency = stream_hist.groupby('artistName').recencyScore.agg('mean').sort_values(ascending=False)\n",
    "artist_recency = artist_recency.map(lambda x: x - mean_recency)\n",
    "\n",
    "# for artist in artist_recency:\n",
    "#     if artist >= mean_recency:\n",
    "#         artist_recency = artist_recency.map(artist - mean_recency)\n",
    "#     else:\n",
    "#         artist_recency = artist_recency.map(artist - mean_recency)\n",
    "artist_recency.head()"
   ]
  },
  {
   "cell_type": "code",
   "execution_count": 17,
   "metadata": {},
   "outputs": [
    {
     "data": {
      "text/plain": [
       "<matplotlib.axes._subplots.AxesSubplot at 0x7f229db700a0>"
      ]
     },
     "execution_count": 17,
     "metadata": {},
     "output_type": "execute_result"
    },
    {
     "data": {
      "image/png": "[encoded data removed]",
      "text/plain": [
       "<Figure size 1080x504 with 1 Axes>"
      ]
     },
     "metadata": {
      "needs_background": "light"
     },
     "output_type": "display_data"
    }
   ],
   "source": [
    "fig, ax = plt.subplots(figsize=(15,7))\n",
    "artist_recency.head(20).plot.barh(ax=ax)"
   ]
  },
  {
   "cell_type": "markdown",
   "metadata": {},
   "source": [
    "**Can't say I know many of these artists. Reducing the weight this parameter might be done in future.**"
   ]
  },
  {
   "cell_type": "markdown",
   "metadata": {},
   "source": [
    "# &nbsp;\n",
    "\n",
    "## 4. Combine Weights\n",
    "Combine all weights:\n",
    "- Average listen time (t) = listen_time_graded\n",
    "- Total listens (L) = songs_per_artist\n",
    "- Listen recency (R) = artist_recency\n",
    "\n",
    "***Relevance = t X L X R***"
   ]
  },
  {
   "cell_type": "markdown",
   "metadata": {},
   "source": [
    "### Join Series"
   ]
  },
  {
   "cell_type": "code",
   "execution_count": 54,
   "metadata": {},
   "outputs": [
    {
     "data": {
      "text/html": [
       "<div>\n",
       "<style scoped>\n",
       "    .dataframe tbody tr th:only-of-type {\n",
       "        vertical-align: middle;\n",
       "    }\n",
       "\n",
       "    .dataframe tbody tr th {\n",
       "        vertical-align: top;\n",
       "    }\n",
       "\n",
       "    .dataframe thead th {\n",
       "        text-align: right;\n",
       "    }\n",
       "</style>\n",
       "<table border=\"1\" class=\"dataframe\">\n",
       "  <thead>\n",
       "    <tr style=\"text-align: right;\">\n",
       "      <th></th>\n",
       "      <th>listenTime</th>\n",
       "      <th>totalListens</th>\n",
       "      <th>listenRecency</th>\n",
       "    </tr>\n",
       "    <tr>\n",
       "      <th>artistName</th>\n",
       "      <th></th>\n",
       "      <th></th>\n",
       "      <th></th>\n",
       "    </tr>\n",
       "  </thead>\n",
       "  <tbody>\n",
       "    <tr>\n",
       "      <th>AC Slater</th>\n",
       "      <td>1.000000</td>\n",
       "      <td>0.003937</td>\n",
       "      <td>-0.001374</td>\n",
       "    </tr>\n",
       "    <tr>\n",
       "      <th>Gwen McCrae</th>\n",
       "      <td>0.977566</td>\n",
       "      <td>0.011811</td>\n",
       "      <td>-0.001304</td>\n",
       "    </tr>\n",
       "    <tr>\n",
       "      <th>Billy Joel</th>\n",
       "      <td>0.948439</td>\n",
       "      <td>0.003937</td>\n",
       "      <td>-0.001401</td>\n",
       "    </tr>\n",
       "    <tr>\n",
       "      <th>Matt Corby</th>\n",
       "      <td>0.890976</td>\n",
       "      <td>0.003937</td>\n",
       "      <td>-0.001400</td>\n",
       "    </tr>\n",
       "    <tr>\n",
       "      <th>Flamingosis</th>\n",
       "      <td>0.745038</td>\n",
       "      <td>0.003937</td>\n",
       "      <td>-0.001400</td>\n",
       "    </tr>\n",
       "  </tbody>\n",
       "</table>\n",
       "</div>"
      ],
      "text/plain": [
       "             listenTime  totalListens  listenRecency\n",
       "artistName                                          \n",
       "AC Slater      1.000000      0.003937      -0.001374\n",
       "Gwen McCrae    0.977566      0.011811      -0.001304\n",
       "Billy Joel     0.948439      0.003937      -0.001401\n",
       "Matt Corby     0.890976      0.003937      -0.001400\n",
       "Flamingosis    0.745038      0.003937      -0.001400"
      ]
     },
     "execution_count": 54,
     "metadata": {},
     "output_type": "execute_result"
    }
   ],
   "source": [
    "# Create DataFrame for weights\n",
    "artist_relevance = pd.DataFrame() \n",
    "artist_relevance['listenTime'] = listen_time_graded\n",
    "artist_relevance['totalListens'] = songs_per_artist\n",
    "artist_relevance['listenRecency'] = artist_recency\n",
    "\n",
    "artist_relevance.head()"
   ]
  },
  {
   "cell_type": "markdown",
   "metadata": {},
   "source": [
    "&nbsp;\n",
    "### Combine Values"
   ]
  },
  {
   "cell_type": "code",
   "execution_count": 72,
   "metadata": {},
   "outputs": [
    {
     "data": {
      "text/html": [
       "<div>\n",
       "<style scoped>\n",
       "    .dataframe tbody tr th:only-of-type {\n",
       "        vertical-align: middle;\n",
       "    }\n",
       "\n",
       "    .dataframe tbody tr th {\n",
       "        vertical-align: top;\n",
       "    }\n",
       "\n",
       "    .dataframe thead th {\n",
       "        text-align: right;\n",
       "    }\n",
       "</style>\n",
       "<table border=\"1\" class=\"dataframe\">\n",
       "  <thead>\n",
       "    <tr style=\"text-align: right;\">\n",
       "      <th></th>\n",
       "      <th>listenTime</th>\n",
       "      <th>totalListens</th>\n",
       "      <th>listenRecency</th>\n",
       "      <th>combinedScore</th>\n",
       "    </tr>\n",
       "    <tr>\n",
       "      <th>artistName</th>\n",
       "      <th></th>\n",
       "      <th></th>\n",
       "      <th></th>\n",
       "      <th></th>\n",
       "    </tr>\n",
       "  </thead>\n",
       "  <tbody>\n",
       "    <tr>\n",
       "      <th>Drake</th>\n",
       "      <td>0.058892</td>\n",
       "      <td>1.000000</td>\n",
       "      <td>-0.001393</td>\n",
       "      <td>1.057499</td>\n",
       "    </tr>\n",
       "    <tr>\n",
       "      <th>The Rolling Stones</th>\n",
       "      <td>0.099929</td>\n",
       "      <td>0.933071</td>\n",
       "      <td>-0.001268</td>\n",
       "      <td>1.031731</td>\n",
       "    </tr>\n",
       "    <tr>\n",
       "      <th>AC Slater</th>\n",
       "      <td>1.000000</td>\n",
       "      <td>0.003937</td>\n",
       "      <td>-0.001374</td>\n",
       "      <td>1.002563</td>\n",
       "    </tr>\n",
       "    <tr>\n",
       "      <th>Gwen McCrae</th>\n",
       "      <td>0.977566</td>\n",
       "      <td>0.011811</td>\n",
       "      <td>-0.001304</td>\n",
       "      <td>0.988073</td>\n",
       "    </tr>\n",
       "    <tr>\n",
       "      <th>Billy Joel</th>\n",
       "      <td>0.948439</td>\n",
       "      <td>0.003937</td>\n",
       "      <td>-0.001401</td>\n",
       "      <td>0.950975</td>\n",
       "    </tr>\n",
       "    <tr>\n",
       "      <th>The Weeknd</th>\n",
       "      <td>0.228541</td>\n",
       "      <td>0.677165</td>\n",
       "      <td>-0.001382</td>\n",
       "      <td>0.904324</td>\n",
       "    </tr>\n",
       "    <tr>\n",
       "      <th>Matt Corby</th>\n",
       "      <td>0.890976</td>\n",
       "      <td>0.003937</td>\n",
       "      <td>-0.001400</td>\n",
       "      <td>0.893513</td>\n",
       "    </tr>\n",
       "    <tr>\n",
       "      <th>New York Dolls</th>\n",
       "      <td>-0.185466</td>\n",
       "      <td>0.003937</td>\n",
       "      <td>0.998591</td>\n",
       "      <td>0.817062</td>\n",
       "    </tr>\n",
       "    <tr>\n",
       "      <th>Tame Impala</th>\n",
       "      <td>0.067223</td>\n",
       "      <td>0.748031</td>\n",
       "      <td>-0.001374</td>\n",
       "      <td>0.813881</td>\n",
       "    </tr>\n",
       "    <tr>\n",
       "      <th>The Beatles</th>\n",
       "      <td>-0.083082</td>\n",
       "      <td>0.874016</td>\n",
       "      <td>-0.001389</td>\n",
       "      <td>0.789544</td>\n",
       "    </tr>\n",
       "    <tr>\n",
       "      <th>Flamingosis</th>\n",
       "      <td>0.745038</td>\n",
       "      <td>0.003937</td>\n",
       "      <td>-0.001400</td>\n",
       "      <td>0.747575</td>\n",
       "    </tr>\n",
       "    <tr>\n",
       "      <th>Russ Millions</th>\n",
       "      <td>0.742706</td>\n",
       "      <td>0.003937</td>\n",
       "      <td>-0.001364</td>\n",
       "      <td>0.745279</td>\n",
       "    </tr>\n",
       "    <tr>\n",
       "      <th>Gregory Porter</th>\n",
       "      <td>0.719092</td>\n",
       "      <td>0.003937</td>\n",
       "      <td>-0.001404</td>\n",
       "      <td>0.721625</td>\n",
       "    </tr>\n",
       "    <tr>\n",
       "      <th>Noname</th>\n",
       "      <td>0.717746</td>\n",
       "      <td>0.003937</td>\n",
       "      <td>-0.001399</td>\n",
       "      <td>0.720284</td>\n",
       "    </tr>\n",
       "    <tr>\n",
       "      <th>Phil Lynott</th>\n",
       "      <td>0.707611</td>\n",
       "      <td>0.003937</td>\n",
       "      <td>0.002706</td>\n",
       "      <td>0.714255</td>\n",
       "    </tr>\n",
       "    <tr>\n",
       "      <th>Neil Diamond</th>\n",
       "      <td>0.698523</td>\n",
       "      <td>0.011811</td>\n",
       "      <td>-0.001405</td>\n",
       "      <td>0.708929</td>\n",
       "    </tr>\n",
       "    <tr>\n",
       "      <th>Travis Scott</th>\n",
       "      <td>0.330671</td>\n",
       "      <td>0.377953</td>\n",
       "      <td>-0.001389</td>\n",
       "      <td>0.707235</td>\n",
       "    </tr>\n",
       "    <tr>\n",
       "      <th>Slakah The Beatchild</th>\n",
       "      <td>0.703560</td>\n",
       "      <td>0.003937</td>\n",
       "      <td>-0.001400</td>\n",
       "      <td>0.706097</td>\n",
       "    </tr>\n",
       "    <tr>\n",
       "      <th>A Tribe Called Quest</th>\n",
       "      <td>0.150469</td>\n",
       "      <td>0.555118</td>\n",
       "      <td>-0.001375</td>\n",
       "      <td>0.704212</td>\n",
       "    </tr>\n",
       "    <tr>\n",
       "      <th>Deltron 3030</th>\n",
       "      <td>0.693885</td>\n",
       "      <td>0.003937</td>\n",
       "      <td>-0.001390</td>\n",
       "      <td>0.696432</td>\n",
       "    </tr>\n",
       "  </tbody>\n",
       "</table>\n",
       "</div>"
      ],
      "text/plain": [
       "                      listenTime  totalListens  listenRecency  combinedScore\n",
       "artistName                                                                  \n",
       "Drake                   0.058892      1.000000      -0.001393       1.057499\n",
       "The Rolling Stones      0.099929      0.933071      -0.001268       1.031731\n",
       "AC Slater               1.000000      0.003937      -0.001374       1.002563\n",
       "Gwen McCrae             0.977566      0.011811      -0.001304       0.988073\n",
       "Billy Joel              0.948439      0.003937      -0.001401       0.950975\n",
       "The Weeknd              0.228541      0.677165      -0.001382       0.904324\n",
       "Matt Corby              0.890976      0.003937      -0.001400       0.893513\n",
       "New York Dolls         -0.185466      0.003937       0.998591       0.817062\n",
       "Tame Impala             0.067223      0.748031      -0.001374       0.813881\n",
       "The Beatles            -0.083082      0.874016      -0.001389       0.789544\n",
       "Flamingosis             0.745038      0.003937      -0.001400       0.747575\n",
       "Russ Millions           0.742706      0.003937      -0.001364       0.745279\n",
       "Gregory Porter          0.719092      0.003937      -0.001404       0.721625\n",
       "Noname                  0.717746      0.003937      -0.001399       0.720284\n",
       "Phil Lynott             0.707611      0.003937       0.002706       0.714255\n",
       "Neil Diamond            0.698523      0.011811      -0.001405       0.708929\n",
       "Travis Scott            0.330671      0.377953      -0.001389       0.707235\n",
       "Slakah The Beatchild    0.703560      0.003937      -0.001400       0.706097\n",
       "A Tribe Called Quest    0.150469      0.555118      -0.001375       0.704212\n",
       "Deltron 3030            0.693885      0.003937      -0.001390       0.696432"
      ]
     },
     "execution_count": 72,
     "metadata": {},
     "output_type": "execute_result"
    }
   ],
   "source": [
    "artist_relevance['combinedScore'] = listen_time_graded + songs_per_artist + artist_recency\n",
    "artist_relevance = artist_relevance.sort_values(by='combinedScore', ascending=False)\n",
    "\n",
    "artist_relevance.head(20)"
   ]
  },
  {
   "cell_type": "markdown",
   "metadata": {},
   "source": [
    "&nbsp;\n",
    "### Plot Score"
   ]
  },
  {
   "cell_type": "code",
   "execution_count": 73,
   "metadata": {},
   "outputs": [
    {
     "data": {
      "text/plain": [
       "<matplotlib.axes._subplots.AxesSubplot at 0x7f229d345a60>"
      ]
     },
     "execution_count": 73,
     "metadata": {},
     "output_type": "execute_result"
    },
    {
     "data": {
      "image/png": "[encoded data removed]",
      "text/plain": [
       "<Figure size 1080x504 with 1 Axes>"
      ]
     },
     "metadata": {
      "needs_background": "light"
     },
     "output_type": "display_data"
    }
   ],
   "source": [
    "fig, ax = plt.subplots(figsize=(15, 7))\n",
    "artist_relevance.combinedScore.head(20).plot.barh(ax=ax)"
   ]
  }
 ],
 "metadata": {
  "kernelspec": {
   "display_name": "Python 3.7.5 64-bit",
   "language": "python",
   "name": "python37564bite837ac3d978644508280cde9286add7f"
  },
  "language_info": {
   "codemirror_mode": {
    "name": "ipython",
    "version": 3
   },
   "file_extension": ".py",
   "mimetype": "text/x-python",
   "name": "python",
   "nbconvert_exporter": "python",
   "pygments_lexer": "ipython3",
   "version": "3.8.2"
  }
 },
 "nbformat": 4,
 "nbformat_minor": 4
}
