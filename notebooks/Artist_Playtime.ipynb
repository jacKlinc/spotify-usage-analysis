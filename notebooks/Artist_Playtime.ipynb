{
 "cells": [
  {
   "cell_type": "markdown",
   "metadata": {},
   "source": [
    "# Spotify Weighting System\n",
    "The weighting system used to rank artists is based on data downloaded from Spotify on my usage. It shows how much time I spend listening to a song which I can then use to find how much per artist. \n",
    "\n",
    "The per artist weighting system is based on three equally important factors: \n",
    "- Average listen time (t)\n",
    "- Total listens (L)\n",
    "- Listen recency (R)\n",
    "\n",
    "***Relevance = t X L X R***"
   ]
  },
  {
   "cell_type": "markdown",
   "metadata": {},
   "source": [
    "### Imports and setup"
   ]
  },
  {
   "cell_type": "code",
   "execution_count": 75,
   "metadata": {},
   "outputs": [],
   "source": [
    "import pandas as pd\n",
    "import matplotlib.pyplot as plt\n",
    "import numpy as np\n",
    "from datetime import datetime, date"
   ]
  },
  {
   "cell_type": "code",
   "execution_count": 76,
   "metadata": {},
   "outputs": [
    {
     "data": {
      "text/html": [
       "<div>\n",
       "<style scoped>\n",
       "    .dataframe tbody tr th:only-of-type {\n",
       "        vertical-align: middle;\n",
       "    }\n",
       "\n",
       "    .dataframe tbody tr th {\n",
       "        vertical-align: top;\n",
       "    }\n",
       "\n",
       "    .dataframe thead th {\n",
       "        text-align: right;\n",
       "    }\n",
       "</style>\n",
       "<table border=\"1\" class=\"dataframe\">\n",
       "  <thead>\n",
       "    <tr style=\"text-align: right;\">\n",
       "      <th></th>\n",
       "      <th>artistName</th>\n",
       "      <th>trackName</th>\n",
       "      <th>msPlayed</th>\n",
       "    </tr>\n",
       "    <tr>\n",
       "      <th>endTime</th>\n",
       "      <th></th>\n",
       "      <th></th>\n",
       "      <th></th>\n",
       "    </tr>\n",
       "  </thead>\n",
       "  <tbody>\n",
       "    <tr>\n",
       "      <th>2019-11-26 18:56:00</th>\n",
       "      <td>New York Dolls</td>\n",
       "      <td>Personality Crisis</td>\n",
       "      <td>0</td>\n",
       "    </tr>\n",
       "    <tr>\n",
       "      <th>2019-11-26 18:56:00</th>\n",
       "      <td>Steve Miller Band</td>\n",
       "      <td>Fly Like An Eagle</td>\n",
       "      <td>0</td>\n",
       "    </tr>\n",
       "    <tr>\n",
       "      <th>2019-11-26 18:56:00</th>\n",
       "      <td>Canned Heat</td>\n",
       "      <td>Going Up The Country</td>\n",
       "      <td>3300</td>\n",
       "    </tr>\n",
       "    <tr>\n",
       "      <th>2019-11-26 18:56:00</th>\n",
       "      <td>Black Sabbath</td>\n",
       "      <td>Paranoid</td>\n",
       "      <td>1382</td>\n",
       "    </tr>\n",
       "    <tr>\n",
       "      <th>2019-11-26 18:56:00</th>\n",
       "      <td>Boston</td>\n",
       "      <td>More Than a Feeling</td>\n",
       "      <td>120988</td>\n",
       "    </tr>\n",
       "  </tbody>\n",
       "</table>\n",
       "</div>"
      ],
      "text/plain": [
       "                            artistName             trackName  msPlayed\n",
       "endTime                                                               \n",
       "2019-11-26 18:56:00     New York Dolls    Personality Crisis         0\n",
       "2019-11-26 18:56:00  Steve Miller Band     Fly Like An Eagle         0\n",
       "2019-11-26 18:56:00        Canned Heat  Going Up The Country      3300\n",
       "2019-11-26 18:56:00      Black Sabbath              Paranoid      1382\n",
       "2019-11-26 18:56:00             Boston   More Than a Feeling    120988"
      ]
     },
     "execution_count": 76,
     "metadata": {},
     "output_type": "execute_result"
    }
   ],
   "source": [
    "stream_hist = pd.read_json('../data/Spotify_UsageData_29May2020/StreamingHistory0.json')\n",
    "\n",
    "# Set index as date\n",
    "stream_hist = stream_hist.set_index('endTime')\n",
    "\n",
    "# Sort values\n",
    "stream_hist = stream_hist.sort_values(by='endTime', ascending=False)\n",
    "\n",
    "# Set index as Timestamp\n",
    "stream_hist.index = pd.to_datetime(stream_hist.index)\n",
    "\n",
    "stream_hist.head(5)"
   ]
  },
  {
   "cell_type": "markdown",
   "metadata": {},
   "source": [
    "# &nbsp;\n",
    "\n",
    "## 1. Average Listen Time\n",
    "This section finds the average listen per artist and compares it to the average."
   ]
  },
  {
   "cell_type": "code",
   "execution_count": 77,
   "metadata": {},
   "outputs": [
    {
     "data": {
      "text/plain": [
       "44173.3851"
      ]
     },
     "execution_count": 77,
     "metadata": {},
     "output_type": "execute_result"
    }
   ],
   "source": [
    "mean_played = stream_hist.msPlayed.mean()\n",
    "mean_played"
   ]
  },
  {
   "cell_type": "markdown",
   "metadata": {},
   "source": [
    "Group the DataFram by the artist's name and finds the average listen for that artist."
   ]
  },
  {
   "cell_type": "code",
   "execution_count": 78,
   "metadata": {},
   "outputs": [
    {
     "data": {
      "text/plain": [
       "artistName\n",
       "The Tim Ferriss Show    877573.0\n",
       "Harvey McKay            432853.0\n",
       "Crackazat               396623.0\n",
       "Cameo                   393573.0\n",
       "Tiger Stripes           384728.0\n",
       "                          ...   \n",
       "The Undisputed Truth         0.0\n",
       "The Vines                    0.0\n",
       "OC                           0.0\n",
       "O.T. Genasis                 0.0\n",
       "Lil Xan                      0.0\n",
       "Name: msPlayed, Length: 1137, dtype: float64"
      ]
     },
     "execution_count": 78,
     "metadata": {},
     "output_type": "execute_result"
    }
   ],
   "source": [
    "# Listen time ranges per artist\n",
    "listen_ranges = stream_hist.groupby('artistName').msPlayed.agg('mean').sort_values(ascending=False)\n",
    "listen_ranges"
   ]
  },
  {
   "cell_type": "markdown",
   "metadata": {},
   "source": [
    "## &nbsp;\n",
    "\n",
    "### Artist vs Average"
   ]
  },
  {
   "cell_type": "code",
   "execution_count": 121,
   "metadata": {},
   "outputs": [
    {
     "data": {
      "text/plain": [
       "artistName\n",
       "AC Slater       230289.244028\n",
       "Gwen McCrae     225122.910694\n",
       "Billy Joel      218415.244028\n",
       "Matt Corby      205182.244028\n",
       "Flamingosis     171574.244028\n",
       "                    ...      \n",
       "Prospa          -42710.755972\n",
       "Babyshambles    -42710.755972\n",
       "My$tik          -42710.755972\n",
       "Calboy          -42710.755972\n",
       "Lil Peep        -42710.755972\n",
       "Name: msPlayed, Length: 1128, dtype: float64"
      ]
     },
     "execution_count": 121,
     "metadata": {},
     "output_type": "execute_result"
    }
   ],
   "source": [
    "# Deducts total mean listen time from each artist's\n",
    "artist_relevance = listen_ranges.map(lambda x: x - mean_played)\n",
    "artist_relevance"
   ]
  },
  {
   "cell_type": "markdown",
   "metadata": {},
   "source": [
    "### &nbsp;\n",
    "\n",
    "#### Plot \n",
    "The top 20 artists are plotted below."
   ]
  },
  {
   "cell_type": "code",
   "execution_count": 175,
   "metadata": {},
   "outputs": [
    {
     "data": {
      "text/plain": [
       "<matplotlib.axes._subplots.AxesSubplot at 0x7f229a365130>"
      ]
     },
     "execution_count": 175,
     "metadata": {},
     "output_type": "execute_result"
    },
    {
     "data": {
      "image/png": "[encoded data removed]",
      "text/plain": [
       "<Figure size 1080x504 with 1 Axes>"
      ]
     },
     "metadata": {
      "needs_background": "light"
     },
     "output_type": "display_data"
    }
   ],
   "source": [
    "def bar_plot20(data_s):\n",
    "    \"\"\"The top 20 of a DataSeries in a bar plot\"\"\"\n",
    "    fig, ax = plt.subplots(figsize=(15,7))\n",
    "    return data_s.head(20).plot.barh(ax=ax)\n",
    "\n",
    "bar_plot20(artist_relevance)"
   ]
  },
  {
   "cell_type": "markdown",
   "metadata": {},
   "source": [
    "## &nbsp;\n",
    "\n",
    "### Remove podcasts\n",
    "The most listened per artist are mostly podcasts and I'd like to exclude these from the analysis. A quick way to do this would be to limit only songs with a listen time less than 6 minutes. **This is obviously not the optimal way to decide whether it's a podcast; comparing the song name to Spotify's API would be better.**"
   ]
  },
  {
   "cell_type": "markdown",
   "metadata": {},
   "source": [
    "#### Drop rows based on time\n",
    "Any tracks more than 6 minutes (360000ms) are dropped."
   ]
  },
  {
   "cell_type": "code",
   "execution_count": 81,
   "metadata": {},
   "outputs": [
    {
     "data": {
      "text/html": [
       "<div>\n",
       "<style scoped>\n",
       "    .dataframe tbody tr th:only-of-type {\n",
       "        vertical-align: middle;\n",
       "    }\n",
       "\n",
       "    .dataframe tbody tr th {\n",
       "        vertical-align: top;\n",
       "    }\n",
       "\n",
       "    .dataframe thead th {\n",
       "        text-align: right;\n",
       "    }\n",
       "</style>\n",
       "<table border=\"1\" class=\"dataframe\">\n",
       "  <thead>\n",
       "    <tr style=\"text-align: right;\">\n",
       "      <th></th>\n",
       "      <th>artistName</th>\n",
       "      <th>trackName</th>\n",
       "      <th>msPlayed</th>\n",
       "    </tr>\n",
       "    <tr>\n",
       "      <th>endTime</th>\n",
       "      <th></th>\n",
       "      <th></th>\n",
       "      <th></th>\n",
       "    </tr>\n",
       "  </thead>\n",
       "  <tbody>\n",
       "    <tr>\n",
       "      <th>2019-11-26 18:56:00</th>\n",
       "      <td>New York Dolls</td>\n",
       "      <td>Personality Crisis</td>\n",
       "      <td>0</td>\n",
       "    </tr>\n",
       "    <tr>\n",
       "      <th>2019-11-26 18:56:00</th>\n",
       "      <td>Steve Miller Band</td>\n",
       "      <td>Fly Like An Eagle</td>\n",
       "      <td>0</td>\n",
       "    </tr>\n",
       "    <tr>\n",
       "      <th>2019-11-26 18:56:00</th>\n",
       "      <td>Canned Heat</td>\n",
       "      <td>Going Up The Country</td>\n",
       "      <td>3300</td>\n",
       "    </tr>\n",
       "    <tr>\n",
       "      <th>2019-11-26 18:56:00</th>\n",
       "      <td>Black Sabbath</td>\n",
       "      <td>Paranoid</td>\n",
       "      <td>1382</td>\n",
       "    </tr>\n",
       "    <tr>\n",
       "      <th>2019-11-26 18:56:00</th>\n",
       "      <td>Boston</td>\n",
       "      <td>More Than a Feeling</td>\n",
       "      <td>120988</td>\n",
       "    </tr>\n",
       "    <tr>\n",
       "      <th>2019-11-26 18:56:00</th>\n",
       "      <td>Frank Zappa</td>\n",
       "      <td>Bobby Brown Goes Down</td>\n",
       "      <td>0</td>\n",
       "    </tr>\n",
       "    <tr>\n",
       "      <th>2019-11-26 18:56:00</th>\n",
       "      <td>Cream</td>\n",
       "      <td>White Room</td>\n",
       "      <td>4994</td>\n",
       "    </tr>\n",
       "    <tr>\n",
       "      <th>2019-11-26 18:56:00</th>\n",
       "      <td>T. Rex</td>\n",
       "      <td>I Love To Boogie</td>\n",
       "      <td>0</td>\n",
       "    </tr>\n",
       "    <tr>\n",
       "      <th>2019-11-26 18:56:00</th>\n",
       "      <td>Status Quo</td>\n",
       "      <td>Pictures of Matchstick Men - Mono Version</td>\n",
       "      <td>990</td>\n",
       "    </tr>\n",
       "    <tr>\n",
       "      <th>2019-11-26 18:56:00</th>\n",
       "      <td>Status Quo</td>\n",
       "      <td>Pictures of Matchstick Men - Mono Version</td>\n",
       "      <td>2743</td>\n",
       "    </tr>\n",
       "    <tr>\n",
       "      <th>2019-11-26 18:54:00</th>\n",
       "      <td>Thin Lizzy</td>\n",
       "      <td>The Rocker</td>\n",
       "      <td>960</td>\n",
       "    </tr>\n",
       "    <tr>\n",
       "      <th>2019-11-26 18:54:00</th>\n",
       "      <td>Joe Walsh</td>\n",
       "      <td>A Life of Illusion</td>\n",
       "      <td>1513</td>\n",
       "    </tr>\n",
       "    <tr>\n",
       "      <th>2019-11-26 18:54:00</th>\n",
       "      <td>Rush</td>\n",
       "      <td>The Spirit Of Radio</td>\n",
       "      <td>797</td>\n",
       "    </tr>\n",
       "    <tr>\n",
       "      <th>2019-11-26 18:54:00</th>\n",
       "      <td>David Lee Roth</td>\n",
       "      <td>Just Like Paradise</td>\n",
       "      <td>2015</td>\n",
       "    </tr>\n",
       "    <tr>\n",
       "      <th>2019-11-26 18:52:00</th>\n",
       "      <td>The Jam</td>\n",
       "      <td>That's Entertainment</td>\n",
       "      <td>141464</td>\n",
       "    </tr>\n",
       "  </tbody>\n",
       "</table>\n",
       "</div>"
      ],
      "text/plain": [
       "                            artistName  \\\n",
       "endTime                                  \n",
       "2019-11-26 18:56:00     New York Dolls   \n",
       "2019-11-26 18:56:00  Steve Miller Band   \n",
       "2019-11-26 18:56:00        Canned Heat   \n",
       "2019-11-26 18:56:00      Black Sabbath   \n",
       "2019-11-26 18:56:00             Boston   \n",
       "2019-11-26 18:56:00        Frank Zappa   \n",
       "2019-11-26 18:56:00              Cream   \n",
       "2019-11-26 18:56:00             T. Rex   \n",
       "2019-11-26 18:56:00         Status Quo   \n",
       "2019-11-26 18:56:00         Status Quo   \n",
       "2019-11-26 18:54:00         Thin Lizzy   \n",
       "2019-11-26 18:54:00          Joe Walsh   \n",
       "2019-11-26 18:54:00               Rush   \n",
       "2019-11-26 18:54:00     David Lee Roth   \n",
       "2019-11-26 18:52:00            The Jam   \n",
       "\n",
       "                                                     trackName  msPlayed  \n",
       "endTime                                                                   \n",
       "2019-11-26 18:56:00                         Personality Crisis         0  \n",
       "2019-11-26 18:56:00                          Fly Like An Eagle         0  \n",
       "2019-11-26 18:56:00                       Going Up The Country      3300  \n",
       "2019-11-26 18:56:00                                   Paranoid      1382  \n",
       "2019-11-26 18:56:00                        More Than a Feeling    120988  \n",
       "2019-11-26 18:56:00                      Bobby Brown Goes Down         0  \n",
       "2019-11-26 18:56:00                                 White Room      4994  \n",
       "2019-11-26 18:56:00                           I Love To Boogie         0  \n",
       "2019-11-26 18:56:00  Pictures of Matchstick Men - Mono Version       990  \n",
       "2019-11-26 18:56:00  Pictures of Matchstick Men - Mono Version      2743  \n",
       "2019-11-26 18:54:00                                 The Rocker       960  \n",
       "2019-11-26 18:54:00                         A Life of Illusion      1513  \n",
       "2019-11-26 18:54:00                        The Spirit Of Radio       797  \n",
       "2019-11-26 18:54:00                         Just Like Paradise      2015  \n",
       "2019-11-26 18:52:00                       That's Entertainment    141464  "
      ]
     },
     "execution_count": 81,
     "metadata": {},
     "output_type": "execute_result"
    }
   ],
   "source": [
    "stream_hist = stream_hist.drop(stream_hist[stream_hist.msPlayed > 360000].index)\n",
    "stream_hist.head(15)"
   ]
  },
  {
   "cell_type": "code",
   "execution_count": 144,
   "metadata": {},
   "outputs": [],
   "source": [
    "def get_listen_time(data_f):\n",
    "    \"\"\"Passed DataFrame and returns graded, sorted Data Series\"\"\"\n",
    "    # Group artists, get average and sort  \n",
    "    listen_ranges = data_f.groupby('artistName').msPlayed.agg('mean').sort_values(ascending=False)\n",
    "    # Subtract average from each artist\n",
    "    listen_time = listen_ranges.map(lambda x: x - listen_ranges.mean())\n",
    "    # Grade listens from 0-1-divides each value by max\n",
    "    return listen_time.map(lambda x: x / listen_time.max())\n",
    "\n",
    "listen_time_graded = get_listen_time(stream_hist)"
   ]
  },
  {
   "cell_type": "markdown",
   "metadata": {},
   "source": [
    "### &nbsp;\n",
    "\n",
    "#### Plot with adjustments\n",
    "I haven't heard of many of the artists in the graph. I think counting total listens might solve this."
   ]
  },
  {
   "cell_type": "code",
   "execution_count": 143,
   "metadata": {},
   "outputs": [
    {
     "data": {
      "text/plain": [
       "<matplotlib.axes._subplots.AxesSubplot at 0x7f229bb5ca00>"
      ]
     },
     "execution_count": 143,
     "metadata": {},
     "output_type": "execute_result"
    },
    {
     "data": {
      "image/png": "[encoded data removed]",
      "text/plain": [
       "<Figure size 1080x504 with 1 Axes>"
      ]
     },
     "metadata": {
      "needs_background": "light"
     },
     "output_type": "display_data"
    }
   ],
   "source": [
    "bar_plot20(listen_time_graded)"
   ]
  },
  {
   "cell_type": "markdown",
   "metadata": {},
   "source": [
    "**Can't say I know many of these artists. Reducing the weight this parameter might be done in future.**"
   ]
  },
  {
   "cell_type": "markdown",
   "metadata": {},
   "source": [
    "# &nbsp;\n",
    "\n",
    "## 2. Total Listens\n",
    "This section counts the total number of listens per artist"
   ]
  },
  {
   "cell_type": "code",
   "execution_count": 135,
   "metadata": {},
   "outputs": [],
   "source": [
    "def get_total_listens(data_f):\n",
    "    \"\"\"Pass DataFrame and returns graded, sorted Data Series\"\"\"\n",
    "    # Group and sort artists\n",
    "    songs_per_artist = data_f.groupby('artistName').artistName.count().sort_values(ascending=False)\n",
    "    # Returns each row divided by the max\n",
    "    return songs_per_artist.map(lambda x: x / songs_per_artist.max())\n",
    "\n",
    "total_songs = get_total_listens(stream_hist)"
   ]
  },
  {
   "cell_type": "markdown",
   "metadata": {},
   "source": [
    "## &nbsp;\n",
    "\n",
    "### Plot Most Total Listens"
   ]
  },
  {
   "cell_type": "code",
   "execution_count": 136,
   "metadata": {},
   "outputs": [
    {
     "data": {
      "text/plain": [
       "<matplotlib.axes._subplots.AxesSubplot at 0x7f229bcd7b50>"
      ]
     },
     "execution_count": 136,
     "metadata": {},
     "output_type": "execute_result"
    },
    {
     "data": {
      "image/png": "[encoded data removed]",
      "text/plain": [
       "<Figure size 1080x504 with 1 Axes>"
      ]
     },
     "metadata": {
      "needs_background": "light"
     },
     "output_type": "display_data"
    }
   ],
   "source": [
    "bar_plot20(total_songs)"
   ]
  },
  {
   "cell_type": "markdown",
   "metadata": {},
   "source": [
    "**This seems a little more reflective of my actual listens. In future weighting I might give more weight to this.**"
   ]
  },
  {
   "cell_type": "markdown",
   "metadata": {},
   "source": [
    "# &nbsp;\n",
    "\n",
    "## 3. Listen Recency\n",
    "This ranks the artist based on how much of their listens have been recent. This will get the most recent date and award points based on how few days have passed since the most recent date."
   ]
  },
  {
   "cell_type": "markdown",
   "metadata": {},
   "source": [
    "### Days passed since the first entry\n",
    "Finds the number of minutes passed since the most recent date. The value is divides 1 so that the most recent is 1 and the less recent going towards zero."
   ]
  },
  {
   "cell_type": "code",
   "execution_count": 171,
   "metadata": {},
   "outputs": [
    {
     "data": {
      "text/plain": [
       "endTime\n",
       "2019-11-26 18:56:00    1.000000\n",
       "2019-11-26 18:56:00    1.000000\n",
       "2019-11-26 18:56:00    1.000000\n",
       "2019-11-26 18:56:00    1.000000\n",
       "2019-11-26 18:56:00    1.000000\n",
       "                         ...   \n",
       "2019-05-28 11:10:00    0.000004\n",
       "2019-05-28 11:10:00    0.000004\n",
       "2019-05-28 11:06:00    0.000004\n",
       "2019-05-28 11:02:00    0.000004\n",
       "2019-05-28 11:02:00    0.000004\n",
       "Name: recencyScore, Length: 9921, dtype: float64"
      ]
     },
     "execution_count": 171,
     "metadata": {},
     "output_type": "execute_result"
    }
   ],
   "source": [
    "def get_recency(data_f):\n",
    "    \"\"\"Pass DataFrame and return Series of graded averages\"\"\"\n",
    "    \n",
    "    # Get most recent date\n",
    "    recent_date = data_f.index[0]\n",
    "    \n",
    "    # Iterate index and grade average \n",
    "    mins_since=[]\n",
    "    for t_stamp in data_f.index:\n",
    "        # Gets time in minutes since most recent\n",
    "        minute = (recent_date - t_stamp) / np.timedelta64(1, 'm')\n",
    "        if minute == 0.0:\n",
    "            # If no time has passed max of 1 is given\n",
    "            mins_since.append(1)\n",
    "        else:\n",
    "            # Divde 1 by time passed\n",
    "            mins_since.append(1 / minute)\n",
    "            \n",
    "    data_f['recencyScore'] = mins_since\n",
    "    return data_f.recencyScore\n",
    "\n",
    "recency = get_recency(stream_hist)\n",
    "recency"
   ]
  },
  {
   "cell_type": "markdown",
   "metadata": {},
   "source": [
    "## &nbsp;\n",
    "### Artist's Average Recency Score"
   ]
  },
  {
   "cell_type": "code",
   "execution_count": 172,
   "metadata": {},
   "outputs": [
    {
     "data": {
      "text/plain": [
       "artistName\n",
       "New York Dolls                         0.998591\n",
       "Frank Zappa                            0.500666\n",
       "Black Sabbath                          0.498598\n",
       "Rush                                   0.498591\n",
       "David Lee Roth                         0.498591\n",
       "                                         ...   \n",
       "Brother Ali                           -0.001405\n",
       "The Aztext Ft Double Ab and Rich Mo   -0.001405\n",
       "MC Hammer                             -0.001405\n",
       "House Of Pain                         -0.001405\n",
       "Sage Francis                          -0.001405\n",
       "Name: recencyScore, Length: 1128, dtype: float64"
      ]
     },
     "execution_count": 172,
     "metadata": {},
     "output_type": "execute_result"
    }
   ],
   "source": [
    "# Listen time ranges per artist\n",
    "def get_avg_recency(recency_score):\n",
    "    \"\"\"Pass recency score to get average of all artists\"\"\"\n",
    "    # Get average of all\n",
    "    mean_recency = recency_score.mean()\n",
    "    # Group by artist and sort\n",
    "    artist_recency = stream_hist.groupby('artistName').recencyScore.agg('mean').sort_values(ascending=False)\n",
    "    # Subtract each from average and return\n",
    "    return artist_recency.map(lambda x: x - mean_recency)\n",
    "\n",
    "avg_recency = get_avg_recency(recency)\n",
    "avg_recency"
   ]
  },
  {
   "cell_type": "code",
   "execution_count": 173,
   "metadata": {},
   "outputs": [
    {
     "data": {
      "text/plain": [
       "<matplotlib.axes._subplots.AxesSubplot at 0x7f229a55a730>"
      ]
     },
     "execution_count": 173,
     "metadata": {},
     "output_type": "execute_result"
    },
    {
     "data": {
      "image/png": "[encoded data removed]",
      "text/plain": [
       "<Figure size 1080x504 with 1 Axes>"
      ]
     },
     "metadata": {
      "needs_background": "light"
     },
     "output_type": "display_data"
    }
   ],
   "source": [
    "bar_plot20(recency)"
   ]
  },
  {
   "cell_type": "markdown",
   "metadata": {},
   "source": [
    "**Can't say I know many of these artists. Reducing the weight this parameter might be done in future.**"
   ]
  },
  {
   "cell_type": "markdown",
   "metadata": {},
   "source": [
    "# &nbsp;\n",
    "\n",
    "## 4. Combine Weights\n",
    "Combine all weights:\n",
    "- Average listen time (t) = listen_time_graded\n",
    "- Total listens (L) = songs_per_artist\n",
    "- Listen recency (R) = artist_recency\n",
    "\n",
    "***Relevance = t X L X R***"
   ]
  },
  {
   "cell_type": "markdown",
   "metadata": {},
   "source": [
    "### Join Series"
   ]
  },
  {
   "cell_type": "code",
   "execution_count": 129,
   "metadata": {},
   "outputs": [
    {
     "data": {
      "text/html": [
       "<div>\n",
       "<style scoped>\n",
       "    .dataframe tbody tr th:only-of-type {\n",
       "        vertical-align: middle;\n",
       "    }\n",
       "\n",
       "    .dataframe tbody tr th {\n",
       "        vertical-align: top;\n",
       "    }\n",
       "\n",
       "    .dataframe thead th {\n",
       "        text-align: right;\n",
       "    }\n",
       "</style>\n",
       "<table border=\"1\" class=\"dataframe\">\n",
       "  <thead>\n",
       "    <tr style=\"text-align: right;\">\n",
       "      <th></th>\n",
       "      <th>listenTime</th>\n",
       "      <th>totalListens</th>\n",
       "      <th>listenRecency</th>\n",
       "    </tr>\n",
       "    <tr>\n",
       "      <th>artistName</th>\n",
       "      <th></th>\n",
       "      <th></th>\n",
       "      <th></th>\n",
       "    </tr>\n",
       "  </thead>\n",
       "  <tbody>\n",
       "    <tr>\n",
       "      <th>AC Slater</th>\n",
       "      <td>1.000000</td>\n",
       "      <td>0.003937</td>\n",
       "      <td>-0.001374</td>\n",
       "    </tr>\n",
       "    <tr>\n",
       "      <th>Gwen McCrae</th>\n",
       "      <td>0.977566</td>\n",
       "      <td>0.011811</td>\n",
       "      <td>-0.001304</td>\n",
       "    </tr>\n",
       "    <tr>\n",
       "      <th>Billy Joel</th>\n",
       "      <td>0.948439</td>\n",
       "      <td>0.003937</td>\n",
       "      <td>-0.001401</td>\n",
       "    </tr>\n",
       "    <tr>\n",
       "      <th>Matt Corby</th>\n",
       "      <td>0.890976</td>\n",
       "      <td>0.003937</td>\n",
       "      <td>-0.001400</td>\n",
       "    </tr>\n",
       "    <tr>\n",
       "      <th>Flamingosis</th>\n",
       "      <td>0.745038</td>\n",
       "      <td>0.003937</td>\n",
       "      <td>-0.001400</td>\n",
       "    </tr>\n",
       "  </tbody>\n",
       "</table>\n",
       "</div>"
      ],
      "text/plain": [
       "             listenTime  totalListens  listenRecency\n",
       "artistName                                          \n",
       "AC Slater      1.000000      0.003937      -0.001374\n",
       "Gwen McCrae    0.977566      0.011811      -0.001304\n",
       "Billy Joel     0.948439      0.003937      -0.001401\n",
       "Matt Corby     0.890976      0.003937      -0.001400\n",
       "Flamingosis    0.745038      0.003937      -0.001400"
      ]
     },
     "execution_count": 129,
     "metadata": {},
     "output_type": "execute_result"
    }
   ],
   "source": [
    "# Create DataFrame for weights\n",
    "artist_relevance = pd.DataFrame() \n",
    "artist_relevance['listenTime'] = listen_time_graded\n",
    "artist_relevance['totalListens'] = songs_per_artist\n",
    "artist_relevance['listenRecency'] = artist_recency\n",
    "\n",
    "artist_relevance.head()"
   ]
  },
  {
   "cell_type": "markdown",
   "metadata": {},
   "source": [
    "&nbsp;\n",
    "### Combine Values"
   ]
  },
  {
   "cell_type": "code",
   "execution_count": 130,
   "metadata": {},
   "outputs": [
    {
     "data": {
      "text/html": [
       "<div>\n",
       "<style scoped>\n",
       "    .dataframe tbody tr th:only-of-type {\n",
       "        vertical-align: middle;\n",
       "    }\n",
       "\n",
       "    .dataframe tbody tr th {\n",
       "        vertical-align: top;\n",
       "    }\n",
       "\n",
       "    .dataframe thead th {\n",
       "        text-align: right;\n",
       "    }\n",
       "</style>\n",
       "<table border=\"1\" class=\"dataframe\">\n",
       "  <thead>\n",
       "    <tr style=\"text-align: right;\">\n",
       "      <th></th>\n",
       "      <th>listenTime</th>\n",
       "      <th>totalListens</th>\n",
       "      <th>listenRecency</th>\n",
       "      <th>combinedScore</th>\n",
       "    </tr>\n",
       "    <tr>\n",
       "      <th>artistName</th>\n",
       "      <th></th>\n",
       "      <th></th>\n",
       "      <th></th>\n",
       "      <th></th>\n",
       "    </tr>\n",
       "  </thead>\n",
       "  <tbody>\n",
       "    <tr>\n",
       "      <th>Drake</th>\n",
       "      <td>0.058892</td>\n",
       "      <td>1.000000</td>\n",
       "      <td>-0.001393</td>\n",
       "      <td>1.057499</td>\n",
       "    </tr>\n",
       "    <tr>\n",
       "      <th>The Rolling Stones</th>\n",
       "      <td>0.099929</td>\n",
       "      <td>0.933071</td>\n",
       "      <td>-0.001268</td>\n",
       "      <td>1.031731</td>\n",
       "    </tr>\n",
       "    <tr>\n",
       "      <th>AC Slater</th>\n",
       "      <td>1.000000</td>\n",
       "      <td>0.003937</td>\n",
       "      <td>-0.001374</td>\n",
       "      <td>1.002563</td>\n",
       "    </tr>\n",
       "    <tr>\n",
       "      <th>Gwen McCrae</th>\n",
       "      <td>0.977566</td>\n",
       "      <td>0.011811</td>\n",
       "      <td>-0.001304</td>\n",
       "      <td>0.988073</td>\n",
       "    </tr>\n",
       "    <tr>\n",
       "      <th>Billy Joel</th>\n",
       "      <td>0.948439</td>\n",
       "      <td>0.003937</td>\n",
       "      <td>-0.001401</td>\n",
       "      <td>0.950975</td>\n",
       "    </tr>\n",
       "  </tbody>\n",
       "</table>\n",
       "</div>"
      ],
      "text/plain": [
       "                    listenTime  totalListens  listenRecency  combinedScore\n",
       "artistName                                                                \n",
       "Drake                 0.058892      1.000000      -0.001393       1.057499\n",
       "The Rolling Stones    0.099929      0.933071      -0.001268       1.031731\n",
       "AC Slater             1.000000      0.003937      -0.001374       1.002563\n",
       "Gwen McCrae           0.977566      0.011811      -0.001304       0.988073\n",
       "Billy Joel            0.948439      0.003937      -0.001401       0.950975"
      ]
     },
     "execution_count": 130,
     "metadata": {},
     "output_type": "execute_result"
    }
   ],
   "source": [
    "artist_relevance['combinedScore'] = listen_time_graded + songs_per_artist + artist_recency\n",
    "artist_relevance = artist_relevance.sort_values(by='combinedScore', ascending=False)\n",
    "\n",
    "artist_relevance.head()"
   ]
  },
  {
   "cell_type": "markdown",
   "metadata": {},
   "source": [
    "&nbsp;\n",
    "### Plot Score"
   ]
  },
  {
   "cell_type": "code",
   "execution_count": 132,
   "metadata": {},
   "outputs": [
    {
     "data": {
      "text/plain": [
       "<matplotlib.axes._subplots.AxesSubplot at 0x7f229be2e160>"
      ]
     },
     "execution_count": 132,
     "metadata": {},
     "output_type": "execute_result"
    },
    {
     "data": {
      "image/png": "[encoded data removed]",
      "text/plain": [
       "<Figure size 1080x504 with 1 Axes>"
      ]
     },
     "metadata": {
      "needs_background": "light"
     },
     "output_type": "display_data"
    }
   ],
   "source": [
    "bar_plot20(artist_relevance.combinedScore)"
   ]
  },
  {
   "cell_type": "markdown",
   "metadata": {},
   "source": [
    "# &nbsp;\n",
    "\n",
    "## 5. Use Entire Streaming History"
   ]
  },
  {
   "cell_type": "code",
   "execution_count": 150,
   "metadata": {},
   "outputs": [
    {
     "data": {
      "text/html": [
       "<div>\n",
       "<style scoped>\n",
       "    .dataframe tbody tr th:only-of-type {\n",
       "        vertical-align: middle;\n",
       "    }\n",
       "\n",
       "    .dataframe tbody tr th {\n",
       "        vertical-align: top;\n",
       "    }\n",
       "\n",
       "    .dataframe thead th {\n",
       "        text-align: right;\n",
       "    }\n",
       "</style>\n",
       "<table border=\"1\" class=\"dataframe\">\n",
       "  <thead>\n",
       "    <tr style=\"text-align: right;\">\n",
       "      <th></th>\n",
       "      <th>artistName</th>\n",
       "      <th>trackName</th>\n",
       "      <th>msPlayed</th>\n",
       "    </tr>\n",
       "    <tr>\n",
       "      <th>endTime</th>\n",
       "      <th></th>\n",
       "      <th></th>\n",
       "      <th></th>\n",
       "    </tr>\n",
       "  </thead>\n",
       "  <tbody>\n",
       "    <tr>\n",
       "      <th>2020-05-28 20:50:00</th>\n",
       "      <td>The Chats</td>\n",
       "      <td>The Clap</td>\n",
       "      <td>89630</td>\n",
       "    </tr>\n",
       "    <tr>\n",
       "      <th>2020-05-28 20:49:00</th>\n",
       "      <td>The Chats</td>\n",
       "      <td>Bus Money</td>\n",
       "      <td>150884</td>\n",
       "    </tr>\n",
       "    <tr>\n",
       "      <th>2020-05-28 20:47:00</th>\n",
       "      <td>The Chats</td>\n",
       "      <td>Smoko</td>\n",
       "      <td>179526</td>\n",
       "    </tr>\n",
       "    <tr>\n",
       "      <th>2020-05-28 20:44:00</th>\n",
       "      <td>The Chats</td>\n",
       "      <td>Pub Feed</td>\n",
       "      <td>18582</td>\n",
       "    </tr>\n",
       "    <tr>\n",
       "      <th>2020-05-28 20:43:00</th>\n",
       "      <td>The Chats</td>\n",
       "      <td>Pub Feed</td>\n",
       "      <td>145840</td>\n",
       "    </tr>\n",
       "    <tr>\n",
       "      <th>2020-05-28 16:03:00</th>\n",
       "      <td>Betty Wright</td>\n",
       "      <td>Shoorah! Shoorah!</td>\n",
       "      <td>15482</td>\n",
       "    </tr>\n",
       "    <tr>\n",
       "      <th>2020-05-28 16:02:00</th>\n",
       "      <td>Bill Withers</td>\n",
       "      <td>Lovely Day</td>\n",
       "      <td>254560</td>\n",
       "    </tr>\n",
       "    <tr>\n",
       "      <th>2020-05-28 15:58:00</th>\n",
       "      <td>Marlena Shaw</td>\n",
       "      <td>California Soul</td>\n",
       "      <td>177226</td>\n",
       "    </tr>\n",
       "    <tr>\n",
       "      <th>2020-05-28 15:55:00</th>\n",
       "      <td>Joey Bada$$</td>\n",
       "      <td>TEMPTATION</td>\n",
       "      <td>57842</td>\n",
       "    </tr>\n",
       "    <tr>\n",
       "      <th>2020-05-28 15:54:00</th>\n",
       "      <td>Gus Dapperton</td>\n",
       "      <td>Nomadicon</td>\n",
       "      <td>0</td>\n",
       "    </tr>\n",
       "    <tr>\n",
       "      <th>2020-05-28 15:54:00</th>\n",
       "      <td>Mild High Club</td>\n",
       "      <td>Windowpane</td>\n",
       "      <td>0</td>\n",
       "    </tr>\n",
       "    <tr>\n",
       "      <th>2020-05-28 15:54:00</th>\n",
       "      <td>Kid Bloom</td>\n",
       "      <td>Parents House</td>\n",
       "      <td>0</td>\n",
       "    </tr>\n",
       "    <tr>\n",
       "      <th>2020-05-28 15:54:00</th>\n",
       "      <td>Magroove</td>\n",
       "      <td>B Cool (feat. Melanie Faye)</td>\n",
       "      <td>0</td>\n",
       "    </tr>\n",
       "    <tr>\n",
       "      <th>2020-05-28 15:54:00</th>\n",
       "      <td>Crumb</td>\n",
       "      <td>Locket</td>\n",
       "      <td>0</td>\n",
       "    </tr>\n",
       "    <tr>\n",
       "      <th>2020-05-28 15:54:00</th>\n",
       "      <td>Inner Wave</td>\n",
       "      <td>Diamond Eyes</td>\n",
       "      <td>0</td>\n",
       "    </tr>\n",
       "  </tbody>\n",
       "</table>\n",
       "</div>"
      ],
      "text/plain": [
       "                         artistName                    trackName  msPlayed\n",
       "endTime                                                                   \n",
       "2020-05-28 20:50:00       The Chats                     The Clap     89630\n",
       "2020-05-28 20:49:00       The Chats                    Bus Money    150884\n",
       "2020-05-28 20:47:00       The Chats                        Smoko    179526\n",
       "2020-05-28 20:44:00       The Chats                     Pub Feed     18582\n",
       "2020-05-28 20:43:00       The Chats                     Pub Feed    145840\n",
       "2020-05-28 16:03:00    Betty Wright            Shoorah! Shoorah!     15482\n",
       "2020-05-28 16:02:00    Bill Withers                   Lovely Day    254560\n",
       "2020-05-28 15:58:00    Marlena Shaw              California Soul    177226\n",
       "2020-05-28 15:55:00     Joey Bada$$                   TEMPTATION     57842\n",
       "2020-05-28 15:54:00   Gus Dapperton                    Nomadicon         0\n",
       "2020-05-28 15:54:00  Mild High Club                   Windowpane         0\n",
       "2020-05-28 15:54:00       Kid Bloom                Parents House         0\n",
       "2020-05-28 15:54:00        Magroove  B Cool (feat. Melanie Faye)         0\n",
       "2020-05-28 15:54:00           Crumb                       Locket         0\n",
       "2020-05-28 15:54:00      Inner Wave                 Diamond Eyes         0"
      ]
     },
     "execution_count": 150,
     "metadata": {},
     "output_type": "execute_result"
    }
   ],
   "source": [
    "from glob import glob\n",
    "\n",
    "# Finds all relevant files\n",
    "filenames = glob('../data/Spotify_UsageData_29May2020/StreamingHistory*.json')\n",
    "dataframes = [pd.read_json(f) for f in filenames]\n",
    "\n",
    "combined_streams = pd.concat(dataframes)\n",
    "\n",
    "combined_streams\n",
    "\n",
    "# Set index as date\n",
    "combined_streams = combined_streams.set_index('endTime')\n",
    "\n",
    "# Sort values\n",
    "combined_streams = combined_streams.sort_values(by='endTime', ascending=False)\n",
    "\n",
    "# Set index as Timestamp\n",
    "combined_streams.index = pd.to_datetime(combined_streams.index)\n",
    "\n",
    "combined_streams = combined_streams.drop(combined_streams[combined_streams.msPlayed > 360000].index)\n",
    "combined_streams.head(15)"
   ]
  },
  {
   "cell_type": "markdown",
   "metadata": {},
   "source": [
    "&nbsp;\n",
    "### Plot Each Weight"
   ]
  },
  {
   "cell_type": "code",
   "execution_count": 177,
   "metadata": {},
   "outputs": [
    {
     "data": {
      "text/plain": [
       "<matplotlib.axes._subplots.AxesSubplot at 0x7f229a3750a0>"
      ]
     },
     "execution_count": 177,
     "metadata": {},
     "output_type": "execute_result"
    },
    {
     "data": {
      "image/png": "[encoded data removed]",
      "text/plain": [
       "<Figure size 1080x504 with 1 Axes>"
      ]
     },
     "metadata": {
      "needs_background": "light"
     },
     "output_type": "display_data"
    }
   ],
   "source": [
    "listen_time = get_listen_time(combined_streams)\n",
    "bar_plot20(listen_time)"
   ]
  },
  {
   "cell_type": "code",
   "execution_count": 178,
   "metadata": {},
   "outputs": [
    {
     "data": {
      "text/plain": [
       "<matplotlib.axes._subplots.AxesSubplot at 0x7f229a51c2e0>"
      ]
     },
     "execution_count": 178,
     "metadata": {},
     "output_type": "execute_result"
    },
    {
     "data": {
      "image/png": "[encoded data removed]",
      "text/plain": [
       "<Figure size 1080x504 with 1 Axes>"
      ]
     },
     "metadata": {
      "needs_background": "light"
     },
     "output_type": "display_data"
    }
   ],
   "source": [
    "total_songs = get_total_listens(combined_streams)\n",
    "bar_plot20(total_songs)"
   ]
  },
  {
   "cell_type": "code",
   "execution_count": 184,
   "metadata": {},
   "outputs": [
    {
     "data": {
      "text/plain": [
       "<matplotlib.axes._subplots.AxesSubplot at 0x7f229a3d97c0>"
      ]
     },
     "execution_count": 184,
     "metadata": {},
     "output_type": "execute_result"
    },
    {
     "data": {
      "image/png": "[encoded data removed]",
      "text/plain": [
       "<Figure size 1080x504 with 1 Axes>"
      ]
     },
     "metadata": {
      "needs_background": "light"
     },
     "output_type": "display_data"
    }
   ],
   "source": [
    "recency = get_recency(combined_streams)\n",
    "avg_recency = get_avg_recency(recency)\n",
    "bar_plot20(avg_recency)"
   ]
  },
  {
   "cell_type": "markdown",
   "metadata": {},
   "source": [
    "&nbsp;\n",
    "### Combine & Plot"
   ]
  },
  {
   "cell_type": "code",
   "execution_count": 188,
   "metadata": {},
   "outputs": [
    {
     "data": {
      "text/plain": [
       "<matplotlib.axes._subplots.AxesSubplot at 0x7f229a08d9a0>"
      ]
     },
     "execution_count": 188,
     "metadata": {},
     "output_type": "execute_result"
    },
    {
     "data": {
      "image/png": "[encoded data removed]",
      "text/plain": [
       "<Figure size 1080x504 with 1 Axes>"
      ]
     },
     "metadata": {
      "needs_background": "light"
     },
     "output_type": "display_data"
    }
   ],
   "source": [
    "# Create DataFrame for weights\n",
    "artist_relevance = pd.DataFrame() \n",
    "artist_relevance['listenTime'] = listen_time\n",
    "artist_relevance['totalListens'] = total_songs\n",
    "artist_relevance['listenRecency'] = avg_recency\n",
    "\n",
    "artist_relevance['combinedScore'] = listen_time_graded + songs_per_artist + artist_recency\n",
    "artist_relevance = artist_relevance.sort_values(by='combinedScore', ascending=False)\n",
    "\n",
    "bar_plot20(artist_relevance.combinedScore)"
   ]
  },
  {
   "cell_type": "code",
   "execution_count": 192,
   "metadata": {},
   "outputs": [
    {
     "data": {
      "text/plain": [
       "artistName\n",
       "Drake                 False\n",
       "The Rolling Stones    False\n",
       "AC Slater             False\n",
       "Gwen McCrae           False\n",
       "The Weeknd            False\n",
       "                      ...  \n",
       "Ocean Wisdom           True\n",
       "Rodney Atkins          True\n",
       "Johan Söderqvist       True\n",
       "Henry Jackman          True\n",
       "DEVO                   True\n",
       "Name: listenRecency, Length: 2019, dtype: bool"
      ]
     },
     "execution_count": 192,
     "metadata": {},
     "output_type": "execute_result"
    }
   ],
   "source": [
    "#artist_relevance.iloc[\n",
    "artist_relevance.listenRecency.isnull()"
   ]
  }
 ],
 "metadata": {
  "kernelspec": {
   "display_name": "Python 3.7.5 64-bit",
   "language": "python",
   "name": "python37564bite837ac3d978644508280cde9286add7f"
  },
  "language_info": {
   "codemirror_mode": {
    "name": "ipython",
    "version": 3
   },
   "file_extension": ".py",
   "mimetype": "text/x-python",
   "name": "python",
   "nbconvert_exporter": "python",
   "pygments_lexer": "ipython3",
   "version": "3.8.2"
  }
 },
 "nbformat": 4,
 "nbformat_minor": 4
}
