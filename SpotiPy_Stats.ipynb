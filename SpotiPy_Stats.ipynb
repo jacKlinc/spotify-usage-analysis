{
 "cells": [
  {
   "cell_type": "markdown",
   "metadata": {},
   "source": [
    "# Spotify Usage Analysis\n",
    "I want to find out who I listen to and what their basic background is.\n",
    "[Medium Article](https://medium.com/@RareLoot/extracting-spotify-data-on-your-favourite-artist-via-python-d58bc92a4330)\n",
    "[Docs](https://spotipy.readthedocs.io/en/2.9.0/#)\n",
    "[Examples](https://github.com/plamere/spotipy/tree/master/examples)"
   ]
  },
  {
   "cell_type": "code",
   "execution_count": 13,
   "metadata": {},
   "outputs": [],
   "source": [
    "import pandas as pd\n",
    "import spotipy\n",
    "from spotipy.oauth2 import SpotifyClientCredentials\n",
    "import sys\n",
    "import spotipy.util as util\n",
    "import matplotlib.pyplot as plt\n",
    "import pprint"
   ]
  },
  {
   "cell_type": "markdown",
   "metadata": {},
   "source": [
    "Setup Spotify API connection"
   ]
  },
  {
   "cell_type": "code",
   "execution_count": 14,
   "metadata": {},
   "outputs": [],
   "source": [
    "client_id = \"1971694acef8412ba128e98ef15eacca\"\n",
    "client_secret = \"9ba2a9f9a0204c76ac94267790d22c2b\"\n",
    "username = \"a2la4jzttvnov9au11hwf56z8\"\n",
    "scope = \"user-top-read\"\n",
    "redirect_uri = \"http://localhost:8080\"\n",
    "\n",
    "client_credentials_manager = SpotifyClientCredentials(client_id=client_id, client_secret=client_secret)\n",
    "sp = spotipy.Spotify(client_credentials_manager=client_credentials_manager) #spotify object to access API"
   ]
  },
  {
   "cell_type": "markdown",
   "metadata": {},
   "source": [
    "Create security token"
   ]
  },
  {
   "cell_type": "code",
   "execution_count": 15,
   "metadata": {},
   "outputs": [],
   "source": [
    "token = util.prompt_for_user_token(username,\n",
    "                           scope,\n",
    "                           client_id=client_id,\n",
    "                           client_secret=client_secret,\n",
    "                           redirect_uri=redirect_uri)"
   ]
  },
  {
   "cell_type": "markdown",
   "metadata": {},
   "source": [
    "### Get my favourite artists"
   ]
  },
  {
   "cell_type": "code",
   "execution_count": 16,
   "metadata": {},
   "outputs": [],
   "source": [
    "if token:\n",
    "    sp = spotipy.Spotify(auth=token)\n",
    "    sp.trace = False\n",
    "    ranges = ['short_term', 'medium_term', 'long_term']\n",
    "    for r in ranges:\n",
    "        results = sp.current_user_top_artists(time_range=r, limit=50)"
   ]
  },
  {
   "cell_type": "markdown",
   "metadata": {},
   "source": [
    "### Data Cleaning"
   ]
  },
  {
   "cell_type": "code",
   "execution_count": 74,
   "metadata": {
    "scrolled": false
   },
   "outputs": [
    {
     "data": {
      "text/html": [
       "<div>\n",
       "<style scoped>\n",
       "    .dataframe tbody tr th:only-of-type {\n",
       "        vertical-align: middle;\n",
       "    }\n",
       "\n",
       "    .dataframe tbody tr th {\n",
       "        vertical-align: top;\n",
       "    }\n",
       "\n",
       "    .dataframe thead th {\n",
       "        text-align: right;\n",
       "    }\n",
       "</style>\n",
       "<table border=\"1\" class=\"dataframe\">\n",
       "  <thead>\n",
       "    <tr style=\"text-align: right;\">\n",
       "      <th></th>\n",
       "      <th>name</th>\n",
       "      <th>popularity</th>\n",
       "      <th>followers</th>\n",
       "      <th>genre</th>\n",
       "    </tr>\n",
       "  </thead>\n",
       "  <tbody>\n",
       "    <tr>\n",
       "      <th>0</th>\n",
       "      <td>Luke Kelly</td>\n",
       "      <td>52</td>\n",
       "      <td>47248</td>\n",
       "      <td>banjo,celtic,irish banjo,irish country,irish f...</td>\n",
       "    </tr>\n",
       "    <tr>\n",
       "      <th>1</th>\n",
       "      <td>The Weeknd</td>\n",
       "      <td>97</td>\n",
       "      <td>20626849</td>\n",
       "      <td>canadian contemporary r&amp;b,canadian pop,pop,</td>\n",
       "    </tr>\n",
       "    <tr>\n",
       "      <th>2</th>\n",
       "      <td>The Beatles</td>\n",
       "      <td>90</td>\n",
       "      <td>16251443</td>\n",
       "      <td>beatlesque,british invasion,classic rock,merse...</td>\n",
       "    </tr>\n",
       "    <tr>\n",
       "      <th>3</th>\n",
       "      <td>Juice WRLD</td>\n",
       "      <td>96</td>\n",
       "      <td>9635891</td>\n",
       "      <td>chicago rap,melodic rap,</td>\n",
       "    </tr>\n",
       "    <tr>\n",
       "      <th>4</th>\n",
       "      <td>Hans Zimmer</td>\n",
       "      <td>79</td>\n",
       "      <td>1940751</td>\n",
       "      <td>german soundtrack,soundtrack,</td>\n",
       "    </tr>\n",
       "    <tr>\n",
       "      <th>5</th>\n",
       "      <td>Drake</td>\n",
       "      <td>99</td>\n",
       "      <td>46713313</td>\n",
       "      <td>canadian hip hop,canadian pop,hip hop,pop rap,...</td>\n",
       "    </tr>\n",
       "    <tr>\n",
       "      <th>6</th>\n",
       "      <td>21 Savage</td>\n",
       "      <td>86</td>\n",
       "      <td>7873627</td>\n",
       "      <td>atl hip hop,rap,southern hip hop,trap,</td>\n",
       "    </tr>\n",
       "    <tr>\n",
       "      <th>7</th>\n",
       "      <td>A$AP Rocky</td>\n",
       "      <td>86</td>\n",
       "      <td>6940859</td>\n",
       "      <td>east coast hip hop,hip hop,pop rap,rap,souther...</td>\n",
       "    </tr>\n",
       "    <tr>\n",
       "      <th>8</th>\n",
       "      <td>Nas</td>\n",
       "      <td>76</td>\n",
       "      <td>1909460</td>\n",
       "      <td>conscious hip hop,east coast hip hop,gangster ...</td>\n",
       "    </tr>\n",
       "    <tr>\n",
       "      <th>9</th>\n",
       "      <td>The Rolling Stones</td>\n",
       "      <td>83</td>\n",
       "      <td>8611146</td>\n",
       "      <td>album rock,british invasion,classic rock,proto...</td>\n",
       "    </tr>\n",
       "    <tr>\n",
       "      <th>10</th>\n",
       "      <td>DJ Seinfeld</td>\n",
       "      <td>49</td>\n",
       "      <td>34929</td>\n",
       "      <td>deep house,electronica,float house,lo-fi house,</td>\n",
       "    </tr>\n",
       "    <tr>\n",
       "      <th>11</th>\n",
       "      <td>Gus Dapperton</td>\n",
       "      <td>83</td>\n",
       "      <td>276016</td>\n",
       "      <td>bedroom pop,indie pop,indie poptimism,</td>\n",
       "    </tr>\n",
       "    <tr>\n",
       "      <th>12</th>\n",
       "      <td>Mall Grab</td>\n",
       "      <td>56</td>\n",
       "      <td>100408</td>\n",
       "      <td>aussietronica,australian house,deep house,floa...</td>\n",
       "    </tr>\n",
       "    <tr>\n",
       "      <th>13</th>\n",
       "      <td>Billie Eilish</td>\n",
       "      <td>94</td>\n",
       "      <td>26478878</td>\n",
       "      <td>electropop,pop,</td>\n",
       "    </tr>\n",
       "    <tr>\n",
       "      <th>14</th>\n",
       "      <td>David Bowie</td>\n",
       "      <td>82</td>\n",
       "      <td>5463758</td>\n",
       "      <td>album rock,art rock,classic rock,dance rock,gl...</td>\n",
       "    </tr>\n",
       "  </tbody>\n",
       "</table>\n",
       "</div>"
      ],
      "text/plain": [
       "                  name  popularity  followers  \\\n",
       "0           Luke Kelly          52      47248   \n",
       "1           The Weeknd          97   20626849   \n",
       "2          The Beatles          90   16251443   \n",
       "3           Juice WRLD          96    9635891   \n",
       "4          Hans Zimmer          79    1940751   \n",
       "5                Drake          99   46713313   \n",
       "6            21 Savage          86    7873627   \n",
       "7           A$AP Rocky          86    6940859   \n",
       "8                  Nas          76    1909460   \n",
       "9   The Rolling Stones          83    8611146   \n",
       "10         DJ Seinfeld          49      34929   \n",
       "11       Gus Dapperton          83     276016   \n",
       "12           Mall Grab          56     100408   \n",
       "13       Billie Eilish          94   26478878   \n",
       "14         David Bowie          82    5463758   \n",
       "\n",
       "                                                genre  \n",
       "0   banjo,celtic,irish banjo,irish country,irish f...  \n",
       "1         canadian contemporary r&b,canadian pop,pop,  \n",
       "2   beatlesque,british invasion,classic rock,merse...  \n",
       "3                            chicago rap,melodic rap,  \n",
       "4                       german soundtrack,soundtrack,  \n",
       "5   canadian hip hop,canadian pop,hip hop,pop rap,...  \n",
       "6              atl hip hop,rap,southern hip hop,trap,  \n",
       "7   east coast hip hop,hip hop,pop rap,rap,souther...  \n",
       "8   conscious hip hop,east coast hip hop,gangster ...  \n",
       "9   album rock,british invasion,classic rock,proto...  \n",
       "10    deep house,electronica,float house,lo-fi house,  \n",
       "11             bedroom pop,indie pop,indie poptimism,  \n",
       "12  aussietronica,australian house,deep house,floa...  \n",
       "13                                    electropop,pop,  \n",
       "14  album rock,art rock,classic rock,dance rock,gl...  "
      ]
     },
     "execution_count": 74,
     "metadata": {},
     "output_type": "execute_result"
    }
   ],
   "source": [
    "name=[]\n",
    "popularity=[]\n",
    "genres=[]\n",
    "followers=[]\n",
    "\n",
    "for artist in results['items']:\n",
    "    if len(artist['genres']) > 0:\n",
    "        name.append(artist['name'])\n",
    "        popularity.append(artist['popularity'])\n",
    "        followers.append(artist['followers']['total'])\n",
    "        csv_genre=''\n",
    "        for genre in artist['genres']:\n",
    "            csv_genre+=genre+','\n",
    "        genres.append(csv_genre)\n",
    "        \n",
    "artists = pd.DataFrame()\n",
    "artists['name'] = name\n",
    "artists['popularity'] = popularity\n",
    "artists['followers'] = followers\n",
    "artists['genre'] = genres\n",
    "artists.head(15)"
   ]
  },
  {
   "cell_type": "markdown",
   "metadata": {},
   "source": [
    "Plot Favourites"
   ]
  },
  {
   "cell_type": "code",
   "execution_count": 18,
   "metadata": {},
   "outputs": [
    {
     "data": {
      "text/plain": [
       "<matplotlib.axes._subplots.AxesSubplot at 0x7f4e24241280>"
      ]
     },
     "execution_count": 18,
     "metadata": {},
     "output_type": "execute_result"
    },
    {
     "data": {
      "image/png": "[encoded data removed]",
      "text/plain": [
       "<Figure size 432x288 with 1 Axes>"
      ]
     },
     "metadata": {
      "needs_background": "light"
     },
     "output_type": "display_data"
    }
   ],
   "source": [
    "artists.plot(x ='name', y='popularity', kind = 'bar')"
   ]
  },
  {
   "cell_type": "markdown",
   "metadata": {},
   "source": [
    "# Scrape Artist Ethnicity\n",
    "https://ethnicelebs.com/"
   ]
  },
  {
   "cell_type": "code",
   "execution_count": 19,
   "metadata": {},
   "outputs": [],
   "source": [
    "from bs4 import BeautifulSoup as bs4\n",
    "import requests"
   ]
  },
  {
   "cell_type": "markdown",
   "metadata": {},
   "source": [
    "### Scrape all paragraphs on page"
   ]
  },
  {
   "cell_type": "code",
   "execution_count": 124,
   "metadata": {},
   "outputs": [],
   "source": [
    "def get_paragraph(artist_name):\n",
    "    headers = {'User-Agent': 'Mozilla/5.0 (Windows NT 6.3; Win64; x64) AppleWebKit/537.36 (KHTML, like Gecko) Chrome/54.0.2840.71 Safari/537.36'}\n",
    "    base_url = \"https://ethnicelebs.com/\"\n",
    "    \n",
    "    # Parsed artists name\n",
    "    parse_name = artist_name.replace(\" \", \"-\")\n",
    "    req = requests.get(base_url+parse_name, headers=headers)\n",
    "    soup = bs4(req.content, \"html.parser\")\n",
    "\n",
    "    # Find all <p> elements\n",
    "    para = str(soup.find_all('p'))\n",
    "\n",
    "    # Find range of string\n",
    "    string_start = para.find(\"Ethnicity: \") + len(\"Ethnicity: \")\n",
    "    string_end = para.find(\"</strong\")\n",
    "#     return string_start, string_end\n",
    "    return 'Artist: '+artist_name+'\\n Race: '+para[string_start:string_end]\n",
    "    #\"Artist: \"+artist_name+\"Race: \"+"
   ]
  },
  {
   "cell_type": "markdown",
   "metadata": {},
   "source": [
    "### Add favourite Spotify artists to list"
   ]
  },
  {
   "cell_type": "code",
   "execution_count": 125,
   "metadata": {},
   "outputs": [
    {
     "data": {
      "text/plain": [
       "'Artist: 21 savage\\n Race: Black British [possibly Dominican, Haitian, Saint Vincentian]'"
      ]
     },
     "execution_count": 125,
     "metadata": {},
     "output_type": "execute_result"
    }
   ],
   "source": [
    "# for artist in artists.name:\n",
    "#     print(get_paragraph(artist))\n",
    "\n",
    "    \n",
    "get_paragraph(\"21 savage\")\n",
    "    "
   ]
  },
  {
   "cell_type": "code",
   "execution_count": null,
   "metadata": {},
   "outputs": [],
   "source": []
  }
 ],
 "metadata": {
  "kernelspec": {
   "display_name": "Python 3.7.5 64-bit",
   "language": "python",
   "name": "python37564bite837ac3d978644508280cde9286add7f"
  },
  "language_info": {
   "codemirror_mode": {
    "name": "ipython",
    "version": 3
   },
   "file_extension": ".py",
   "mimetype": "text/x-python",
   "name": "python",
   "nbconvert_exporter": "python",
   "pygments_lexer": "ipython3",
   "version": "3.8.2"
  }
 },
 "nbformat": 4,
 "nbformat_minor": 4
}
